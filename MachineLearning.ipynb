{
  "nbformat": 4,
  "nbformat_minor": 0,
  "metadata": {
    "colab": {
      "name": "MachineLearning.ipynb",
      "version": "0.3.2",
      "provenance": []
    },
    "kernelspec": {
      "name": "python3",
      "display_name": "Python 3"
    }
  },
  "cells": [
    {
      "cell_type": "code",
      "metadata": {
        "id": "GgCNVUmNVO0N",
        "colab_type": "code",
        "colab": {}
      },
      "source": [
        "#Trabajo de investigacion para el curso Machine learning"
      ],
      "execution_count": 0,
      "outputs": []
    }
  ]
}