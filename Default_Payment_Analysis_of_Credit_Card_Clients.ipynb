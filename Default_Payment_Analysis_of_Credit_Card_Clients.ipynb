{
  "nbformat": 4,
  "nbformat_minor": 0,
  "metadata": {
    "colab": {
      "name": "Default Payment Analysis of Credit Card Clients.ipynb",
      "version": "0.3.2",
      "provenance": []
    },
    "language_info": {
      "codemirror_mode": {
        "name": "ipython",
        "version": 3
      },
      "file_extension": ".py",
      "mimetype": "text/x-python",
      "name": "python",
      "nbconvert_exporter": "python",
      "pygments_lexer": "ipython3",
      "version": "3.7.1"
    },
    "kernelspec": {
      "display_name": "Python 3",
      "language": "python",
      "name": "python3"
    }
  },
  "cells": [
    {
      "cell_type": "markdown",
      "metadata": {
        "id": "8qH0AIU8n0ip",
        "colab_type": "text"
      },
      "source": [
        "# Análisis y Tratamiento de los Datos"
      ]
    },
    {
      "cell_type": "code",
      "metadata": {
        "id": "DNfkbqz3Vh3i",
        "colab_type": "code",
        "outputId": "354c909a-7c27-45a5-9119-0c8512431879",
        "colab": {
          "base_uri": "https://localhost:8080/",
          "height": 122
        }
      },
      "source": [
        "from google.colab import drive\n",
        "drive.mount('/content/drive')"
      ],
      "execution_count": 3,
      "outputs": [
        {
          "output_type": "stream",
          "text": [
            "Go to this URL in a browser: https://accounts.google.com/o/oauth2/auth?client_id=947318989803-6bn6qk8qdgf4n4g3pfee6491hc0brc4i.apps.googleusercontent.com&redirect_uri=urn%3Aietf%3Awg%3Aoauth%3A2.0%3Aoob&scope=email%20https%3A%2F%2Fwww.googleapis.com%2Fauth%2Fdocs.test%20https%3A%2F%2Fwww.googleapis.com%2Fauth%2Fdrive%20https%3A%2F%2Fwww.googleapis.com%2Fauth%2Fdrive.photos.readonly%20https%3A%2F%2Fwww.googleapis.com%2Fauth%2Fpeopleapi.readonly&response_type=code\n",
            "\n",
            "Enter your authorization code:\n",
            "··········\n",
            "Mounted at /content/drive\n"
          ],
          "name": "stdout"
        }
      ]
    },
    {
      "cell_type": "code",
      "metadata": {
        "scrolled": true,
        "id": "3tWvEbXnVXm_",
        "colab_type": "code",
        "colab": {
          "base_uri": "https://localhost:8080/",
          "height": 275
        },
        "outputId": "409bf211-1515-4cb6-de8a-3cf1439a6391"
      },
      "source": [
        "import numpy as np\n",
        "import pandas as pd\n",
        "\n",
        "data = pd.read_csv('drive/My Drive/ML-Proyecto/default_of_credit_card_clients.csv')\n",
        "data.head()"
      ],
      "execution_count": 19,
      "outputs": [
        {
          "output_type": "execute_result",
          "data": {
            "text/html": [
              "<div>\n",
              "<style scoped>\n",
              "    .dataframe tbody tr th:only-of-type {\n",
              "        vertical-align: middle;\n",
              "    }\n",
              "\n",
              "    .dataframe tbody tr th {\n",
              "        vertical-align: top;\n",
              "    }\n",
              "\n",
              "    .dataframe thead th {\n",
              "        text-align: right;\n",
              "    }\n",
              "</style>\n",
              "<table border=\"1\" class=\"dataframe\">\n",
              "  <thead>\n",
              "    <tr style=\"text-align: right;\">\n",
              "      <th></th>\n",
              "      <th>ID</th>\n",
              "      <th>LIMIT_BAL</th>\n",
              "      <th>SEX</th>\n",
              "      <th>EDUCATION</th>\n",
              "      <th>MARRIAGE</th>\n",
              "      <th>AGE</th>\n",
              "      <th>PAY_0</th>\n",
              "      <th>PAY_2</th>\n",
              "      <th>PAY_3</th>\n",
              "      <th>PAY_4</th>\n",
              "      <th>PAY_5</th>\n",
              "      <th>PAY_6</th>\n",
              "      <th>BILL_AMT1</th>\n",
              "      <th>BILL_AMT2</th>\n",
              "      <th>BILL_AMT3</th>\n",
              "      <th>BILL_AMT4</th>\n",
              "      <th>BILL_AMT5</th>\n",
              "      <th>BILL_AMT6</th>\n",
              "      <th>PAY_AMT1</th>\n",
              "      <th>PAY_AMT2</th>\n",
              "      <th>PAY_AMT3</th>\n",
              "      <th>PAY_AMT4</th>\n",
              "      <th>PAY_AMT5</th>\n",
              "      <th>PAY_AMT6</th>\n",
              "      <th>default payment next month</th>\n",
              "    </tr>\n",
              "  </thead>\n",
              "  <tbody>\n",
              "    <tr>\n",
              "      <th>0</th>\n",
              "      <td>1</td>\n",
              "      <td>20000</td>\n",
              "      <td>2</td>\n",
              "      <td>2</td>\n",
              "      <td>1</td>\n",
              "      <td>24</td>\n",
              "      <td>2</td>\n",
              "      <td>2</td>\n",
              "      <td>-1</td>\n",
              "      <td>-1</td>\n",
              "      <td>-2</td>\n",
              "      <td>-2</td>\n",
              "      <td>3913</td>\n",
              "      <td>3102</td>\n",
              "      <td>689</td>\n",
              "      <td>0</td>\n",
              "      <td>0</td>\n",
              "      <td>0</td>\n",
              "      <td>0</td>\n",
              "      <td>689</td>\n",
              "      <td>0</td>\n",
              "      <td>0</td>\n",
              "      <td>0</td>\n",
              "      <td>0</td>\n",
              "      <td>1</td>\n",
              "    </tr>\n",
              "    <tr>\n",
              "      <th>1</th>\n",
              "      <td>2</td>\n",
              "      <td>120000</td>\n",
              "      <td>2</td>\n",
              "      <td>2</td>\n",
              "      <td>2</td>\n",
              "      <td>26</td>\n",
              "      <td>-1</td>\n",
              "      <td>2</td>\n",
              "      <td>0</td>\n",
              "      <td>0</td>\n",
              "      <td>0</td>\n",
              "      <td>2</td>\n",
              "      <td>2682</td>\n",
              "      <td>1725</td>\n",
              "      <td>2682</td>\n",
              "      <td>3272</td>\n",
              "      <td>3455</td>\n",
              "      <td>3261</td>\n",
              "      <td>0</td>\n",
              "      <td>1000</td>\n",
              "      <td>1000</td>\n",
              "      <td>1000</td>\n",
              "      <td>0</td>\n",
              "      <td>2000</td>\n",
              "      <td>1</td>\n",
              "    </tr>\n",
              "    <tr>\n",
              "      <th>2</th>\n",
              "      <td>3</td>\n",
              "      <td>90000</td>\n",
              "      <td>2</td>\n",
              "      <td>2</td>\n",
              "      <td>2</td>\n",
              "      <td>34</td>\n",
              "      <td>0</td>\n",
              "      <td>0</td>\n",
              "      <td>0</td>\n",
              "      <td>0</td>\n",
              "      <td>0</td>\n",
              "      <td>0</td>\n",
              "      <td>29239</td>\n",
              "      <td>14027</td>\n",
              "      <td>13559</td>\n",
              "      <td>14331</td>\n",
              "      <td>14948</td>\n",
              "      <td>15549</td>\n",
              "      <td>1518</td>\n",
              "      <td>1500</td>\n",
              "      <td>1000</td>\n",
              "      <td>1000</td>\n",
              "      <td>1000</td>\n",
              "      <td>5000</td>\n",
              "      <td>0</td>\n",
              "    </tr>\n",
              "    <tr>\n",
              "      <th>3</th>\n",
              "      <td>4</td>\n",
              "      <td>50000</td>\n",
              "      <td>2</td>\n",
              "      <td>2</td>\n",
              "      <td>1</td>\n",
              "      <td>37</td>\n",
              "      <td>0</td>\n",
              "      <td>0</td>\n",
              "      <td>0</td>\n",
              "      <td>0</td>\n",
              "      <td>0</td>\n",
              "      <td>0</td>\n",
              "      <td>46990</td>\n",
              "      <td>48233</td>\n",
              "      <td>49291</td>\n",
              "      <td>28314</td>\n",
              "      <td>28959</td>\n",
              "      <td>29547</td>\n",
              "      <td>2000</td>\n",
              "      <td>2019</td>\n",
              "      <td>1200</td>\n",
              "      <td>1100</td>\n",
              "      <td>1069</td>\n",
              "      <td>1000</td>\n",
              "      <td>0</td>\n",
              "    </tr>\n",
              "    <tr>\n",
              "      <th>4</th>\n",
              "      <td>5</td>\n",
              "      <td>50000</td>\n",
              "      <td>1</td>\n",
              "      <td>2</td>\n",
              "      <td>1</td>\n",
              "      <td>57</td>\n",
              "      <td>-1</td>\n",
              "      <td>0</td>\n",
              "      <td>-1</td>\n",
              "      <td>0</td>\n",
              "      <td>0</td>\n",
              "      <td>0</td>\n",
              "      <td>8617</td>\n",
              "      <td>5670</td>\n",
              "      <td>35835</td>\n",
              "      <td>20940</td>\n",
              "      <td>19146</td>\n",
              "      <td>19131</td>\n",
              "      <td>2000</td>\n",
              "      <td>36681</td>\n",
              "      <td>10000</td>\n",
              "      <td>9000</td>\n",
              "      <td>689</td>\n",
              "      <td>679</td>\n",
              "      <td>0</td>\n",
              "    </tr>\n",
              "  </tbody>\n",
              "</table>\n",
              "</div>"
            ],
            "text/plain": [
              "   ID  LIMIT_BAL  SEX  ...  PAY_AMT5  PAY_AMT6  default payment next month\n",
              "0   1      20000    2  ...         0         0                           1\n",
              "1   2     120000    2  ...         0      2000                           1\n",
              "2   3      90000    2  ...      1000      5000                           0\n",
              "3   4      50000    2  ...      1069      1000                           0\n",
              "4   5      50000    1  ...       689       679                           0\n",
              "\n",
              "[5 rows x 25 columns]"
            ]
          },
          "metadata": {
            "tags": []
          },
          "execution_count": 19
        }
      ]
    },
    {
      "cell_type": "code",
      "metadata": {
        "id": "k2JC8k7-B8kY",
        "colab_type": "code",
        "colab": {
          "base_uri": "https://localhost:8080/",
          "height": 527
        },
        "outputId": "a887c618-2868-4c51-9cab-02bc9b90fea1"
      },
      "source": [
        "data.info()\n",
        "# No hay datos faltantes"
      ],
      "execution_count": 20,
      "outputs": [
        {
          "output_type": "stream",
          "text": [
            "<class 'pandas.core.frame.DataFrame'>\n",
            "RangeIndex: 30000 entries, 0 to 29999\n",
            "Data columns (total 25 columns):\n",
            "ID                            30000 non-null int64\n",
            "LIMIT_BAL                     30000 non-null int64\n",
            "SEX                           30000 non-null int64\n",
            "EDUCATION                     30000 non-null int64\n",
            "MARRIAGE                      30000 non-null int64\n",
            "AGE                           30000 non-null int64\n",
            "PAY_0                         30000 non-null int64\n",
            "PAY_2                         30000 non-null int64\n",
            "PAY_3                         30000 non-null int64\n",
            "PAY_4                         30000 non-null int64\n",
            "PAY_5                         30000 non-null int64\n",
            "PAY_6                         30000 non-null int64\n",
            "BILL_AMT1                     30000 non-null int64\n",
            "BILL_AMT2                     30000 non-null int64\n",
            "BILL_AMT3                     30000 non-null int64\n",
            "BILL_AMT4                     30000 non-null int64\n",
            "BILL_AMT5                     30000 non-null int64\n",
            "BILL_AMT6                     30000 non-null int64\n",
            "PAY_AMT1                      30000 non-null int64\n",
            "PAY_AMT2                      30000 non-null int64\n",
            "PAY_AMT3                      30000 non-null int64\n",
            "PAY_AMT4                      30000 non-null int64\n",
            "PAY_AMT5                      30000 non-null int64\n",
            "PAY_AMT6                      30000 non-null int64\n",
            "default payment next month    30000 non-null int64\n",
            "dtypes: int64(25)\n",
            "memory usage: 5.7 MB\n"
          ],
          "name": "stdout"
        }
      ]
    },
    {
      "cell_type": "code",
      "metadata": {
        "id": "bLUJD5W-FiWi",
        "colab_type": "code",
        "colab": {
          "base_uri": "https://localhost:8080/",
          "height": 459
        },
        "outputId": "799b7f42-53ad-4087-d49e-2a88bc88e4e3"
      },
      "source": [
        "# Caracteristicas con valores discretos: GENDER (1, 2), EDUCATION (1, 2, 3, 4), MARITAL_STATUS (1, 2, 3), \n",
        "\n",
        "data.nunique()"
      ],
      "execution_count": 21,
      "outputs": [
        {
          "output_type": "execute_result",
          "data": {
            "text/plain": [
              "ID                            30000\n",
              "LIMIT_BAL                        81\n",
              "SEX                               2\n",
              "EDUCATION                         7\n",
              "MARRIAGE                          4\n",
              "AGE                              56\n",
              "PAY_0                            11\n",
              "PAY_2                            11\n",
              "PAY_3                            11\n",
              "PAY_4                            11\n",
              "PAY_5                            10\n",
              "PAY_6                            10\n",
              "BILL_AMT1                     22723\n",
              "BILL_AMT2                     22346\n",
              "BILL_AMT3                     22026\n",
              "BILL_AMT4                     21548\n",
              "BILL_AMT5                     21010\n",
              "BILL_AMT6                     20604\n",
              "PAY_AMT1                       7943\n",
              "PAY_AMT2                       7899\n",
              "PAY_AMT3                       7518\n",
              "PAY_AMT4                       6937\n",
              "PAY_AMT5                       6897\n",
              "PAY_AMT6                       6939\n",
              "default payment next month        2\n",
              "dtype: int64"
            ]
          },
          "metadata": {
            "tags": []
          },
          "execution_count": 21
        }
      ]
    },
    {
      "cell_type": "code",
      "metadata": {
        "id": "NcxEO6pSKtcw",
        "colab_type": "code",
        "colab": {
          "base_uri": "https://localhost:8080/",
          "height": 51
        },
        "outputId": "62685f09-437a-4a66-b58d-806b380f0868"
      },
      "source": [
        "print(\"Valores unicos de EDUCATION: \", data.EDUCATION.unique())\n",
        "print(\"Valores unicos de MARRIAGE: \", data.MARRIAGE.unique())\n",
        "\n",
        "# Se puede observar que tanto la caracteristica EDUCATION (1, 2, 3, 4) como MARRIAGE (1, 2, 3) tienen registros que tienen algunos registros que tienen valores diferentes al establecido por la documentacion del Dataset"
      ],
      "execution_count": 27,
      "outputs": [
        {
          "output_type": "stream",
          "text": [
            "Valores unicos de EDUCATION:  [2 1 3 5 4 6 0]\n",
            "Valores unicos de MARRIAGE:  [1 2 3 0]\n"
          ],
          "name": "stdout"
        }
      ]
    },
    {
      "cell_type": "code",
      "metadata": {
        "id": "Wwb-H2OaMW2C",
        "colab_type": "code",
        "colab": {
          "base_uri": "https://localhost:8080/",
          "height": 51
        },
        "outputId": "b1bce2a9-deba-44f6-8c7b-3a226a33a867"
      },
      "source": [
        "# Para este caso los valores diferentes al establecido por la documentacion pasaran automaticamente a la categoria de otros\n",
        "\n",
        "data['EDUCATION'].replace({0:4, 5:4, 6:4}, inplace = True)\n",
        "data['MARRIAGE'].replace({0:3}, inplace = True)\n",
        "\n",
        "print(\"Valores unicos de EDUCATION: \", data.EDUCATION.unique())\n",
        "print(\"Valores unicos de MARRIAGE: \", data.MARRIAGE.unique())"
      ],
      "execution_count": 28,
      "outputs": [
        {
          "output_type": "stream",
          "text": [
            "Valores unicos de EDUCATION:  [2 1 3 4]\n",
            "Valores unicos de MARRIAGE:  [1 2 3]\n"
          ],
          "name": "stdout"
        }
      ]
    },
    {
      "cell_type": "code",
      "metadata": {
        "id": "arAZNrzAOVzy",
        "colab_type": "code",
        "colab": {}
      },
      "source": [
        "#Renombramos algunas columnas\n",
        "\n",
        "data.rename(columns = {'PAY_0': 'PAY_1', \n",
        "                     'default payment next month':'default'}, \n",
        "                                 inplace = True) "
      ],
      "execution_count": 0,
      "outputs": []
    },
    {
      "cell_type": "markdown",
      "metadata": {
        "id": "FvIt4CkknZIo",
        "colab_type": "text"
      },
      "source": [
        "# Entrenamiento"
      ]
    },
    {
      "cell_type": "code",
      "metadata": {
        "id": "7MTVi8mjjOfD",
        "colab_type": "code",
        "colab": {
          "base_uri": "https://localhost:8080/",
          "height": 68
        },
        "outputId": "be1e87b9-31cd-4793-9485-7496ad9c009b"
      },
      "source": [
        "from sklearn.model_selection import train_test_split\n",
        "\n",
        "indices = data.index.values\n",
        "\n",
        "### INICIO DE TU CÓDIGO\n",
        "indices_trainval, indices_test = train_test_split(indices, test_size=0.2, random_state=0)\n",
        "indices_train, indices_val = train_test_split(indices_trainval, test_size=0.25, random_state=0)\n",
        "### FIN DE TU CÓDIGO\n",
        "\n",
        "# El conjunto de entrenamiento es: data.loc[indices_train]\n",
        "# El conjunto de validación es: data.loc[indices_val]\n",
        "# El conjunto de prueba es: data.loc[indices_test]\n",
        "\n",
        "print(indices_train.shape) #60%\n",
        "print(indices_val.shape) #20%\n",
        "print(indices_test.shape) #20%\n",
        "\n",
        "X_train = data.loc[indices_train].drop(['default'], axis=1)\n",
        "y_train = data.loc[indices_train]['default']\n",
        "\n",
        "X_val = data.loc[indices_val].drop(['default'], axis=1)\n",
        "y_val = data.loc[indices_val]['default']\n",
        "\n",
        "X_train_val = data.loc[indices_trainval].drop(['default'], axis=1)\n",
        "y_train_val = data.loc[indices_trainval]['default']\n",
        "\n",
        "X_test = data.loc[indices_test].drop(['default'], axis=1)\n",
        "y_test = data.loc[indices_test]['default']"
      ],
      "execution_count": 91,
      "outputs": [
        {
          "output_type": "stream",
          "text": [
            "(18000,)\n",
            "(6000,)\n",
            "(6000,)\n"
          ],
          "name": "stdout"
        }
      ]
    },
    {
      "cell_type": "markdown",
      "metadata": {
        "id": "GX9fRz8qrTtC",
        "colab_type": "text"
      },
      "source": [
        "# KNN"
      ]
    },
    {
      "cell_type": "code",
      "metadata": {
        "id": "gT35yVSH8jqC",
        "colab_type": "code",
        "outputId": "6bc65115-9a77-4b1b-dbc0-7b0047dc4acc",
        "colab": {
          "base_uri": "https://localhost:8080/",
          "height": 34
        }
      },
      "source": [
        "from sklearn.neighbors import KNeighborsClassifier\n",
        "n_neighbors = 7\n",
        "\n",
        "knn = KNeighborsClassifier(n_neighbors)\n",
        "modeloKnn1 = knn.fit(X_train, y_train)\n",
        "print('Accuracy of K-NN classifier on training set: {:.2f}'\n",
        "     .format(knn.score(X_train, y_train)))"
      ],
      "execution_count": 96,
      "outputs": [
        {
          "output_type": "stream",
          "text": [
            "Accuracy of K-NN classifier on training set: 0.80\n"
          ],
          "name": "stdout"
        }
      ]
    },
    {
      "cell_type": "code",
      "metadata": {
        "id": "WJV6MKoJtjpe",
        "colab_type": "code",
        "colab": {}
      },
      "source": [
        "from sklearn import metrics\n",
        "\n",
        "def print_binary_confusion_matrix(y_true, y_pred):\n",
        "  confusion_matrix = metrics.confusion_matrix(y_true, y_pred)\n",
        "  TN = confusion_matrix[0,0]\n",
        "  FN = confusion_matrix[1,0]\n",
        "  FP = confusion_matrix[0,1]\n",
        "  TP = confusion_matrix[1,1]\n",
        "  \n",
        "  ### INICIO DE TU CÓDIGO\n",
        "  exactitud = (TP+TN)/(TP+FP+TN+FN)\n",
        "  precision = TP/(TP+FP)\n",
        "  exhaustividad = TP/(TP+FN)\n",
        "  ### FIN DE TU CÓDIGO\n",
        "\n",
        "  print ('              +-----------------+')\n",
        "  print ('              |   Predicción    |')\n",
        "  print ('              +-----------------+')\n",
        "  print ('              |    +   |    -   |')\n",
        "  print ('+-------+-----+--------+--------+')\n",
        "  print ('| Valor |  +  |  {:5d} |  {:5d} |'.format(TP, FN) )\n",
        "  print ('| real  +-----+--------+--------+')\n",
        "  print ('|       |  -  |  {:5d} |  {:5d} |'.format(FP, TN) )\n",
        "  print ('+-------+-----+--------+--------+')\n",
        "  print('Exactitud     : {:.3f}'.format(exactitud))\n",
        "  print('Precisión     : {:.3f}'.format(precision))\n",
        "  print('Exhaustividad : {:.3f}'.format(exhaustividad))\n",
        "  print()"
      ],
      "execution_count": 0,
      "outputs": []
    },
    {
      "cell_type": "code",
      "metadata": {
        "id": "YwI2aiF_t-qI",
        "colab_type": "code",
        "colab": {
          "base_uri": "https://localhost:8080/",
          "height": 255
        },
        "outputId": "a2edb67d-add5-479e-f5c5-40edfc2c0f44"
      },
      "source": [
        "print('Conjunto de prueba :')\n",
        "print_binary_confusion_matrix(y_test, modeloKnn1.predict(X_test))"
      ],
      "execution_count": 98,
      "outputs": [
        {
          "output_type": "stream",
          "text": [
            "Conjunto de prueba :\n",
            "              +-----------------+\n",
            "              |   Predicción    |\n",
            "              +-----------------+\n",
            "              |    +   |    -   |\n",
            "+-------+-----+--------+--------+\n",
            "| Valor |  +  |    205 |   1092 |\n",
            "| real  +-----+--------+--------+\n",
            "|       |  -  |    340 |   4363 |\n",
            "+-------+-----+--------+--------+\n",
            "Exactitud     : 0.761\n",
            "Precisión     : 0.376\n",
            "Exhaustividad : 0.158\n",
            "\n"
          ],
          "name": "stdout"
        }
      ]
    },
    {
      "cell_type": "code",
      "metadata": {
        "id": "qTP_tFMEuW7l",
        "colab_type": "code",
        "colab": {
          "base_uri": "https://localhost:8080/",
          "height": 34
        },
        "outputId": "e30c04ef-d246-49ad-8355-1c39a65dfb70"
      },
      "source": [
        "modeloKnn1.score(X_test, y_test)"
      ],
      "execution_count": 99,
      "outputs": [
        {
          "output_type": "execute_result",
          "data": {
            "text/plain": [
              "0.7613333333333333"
            ]
          },
          "metadata": {
            "tags": []
          },
          "execution_count": 99
        }
      ]
    },
    {
      "cell_type": "markdown",
      "metadata": {
        "id": "cNgopKd8uxPD",
        "colab_type": "text"
      },
      "source": [
        "# Usando Validacion Cruzada\n",
        "\n",
        "Con la validacion cruzada podemos tener una mejor idea de cómo el modelo se desempeñará en nuevos datos."
      ]
    },
    {
      "cell_type": "code",
      "metadata": {
        "id": "o3Qcs4FO_2RS",
        "colab_type": "code",
        "outputId": "66457b42-aa91-47ef-d7a2-aecd15bf6b64",
        "colab": {
          "base_uri": "https://localhost:8080/",
          "height": 85
        }
      },
      "source": [
        "# Cross validation\n",
        "from sklearn.model_selection import cross_val_score\n",
        "\n",
        "clf = KNeighborsClassifier(n_neighbors = 20)\n",
        "scores = cross_val_score(clf, X_train_val.values.astype(float),y_train_val.values.astype(float), cv=10)\n",
        "print(scores)\n",
        "sum = 0\n",
        "for item in scores:\n",
        "  sum = sum + item\n",
        "promedio_score = sum/len(scores)  \n",
        "print(\"Promedio de score usando validacion cruzada: \", promedio_score)\n",
        "print('Accuracy of K-NN classifier on test set: {:.2f}'\n",
        "     .format(knn.score(X_test, y_test)))"
      ],
      "execution_count": 92,
      "outputs": [
        {
          "output_type": "stream",
          "text": [
            "[0.77426072 0.775      0.77625    0.7825     0.77625    0.7725\n",
            " 0.76791667 0.7725     0.77041667 0.77949145]\n",
            "Promedio de score usando validacion cruzada:  0.7747085512804197\n",
            "Accuracy of K-NN classifier on test set: 0.76\n"
          ],
          "name": "stdout"
        }
      ]
    },
    {
      "cell_type": "code",
      "metadata": {
        "id": "hulrD-cjvAOf",
        "colab_type": "code",
        "colab": {
          "base_uri": "https://localhost:8080/",
          "height": 255
        },
        "outputId": "56bbe045-76bd-4c09-ac86-9ca922a19bf9"
      },
      "source": [
        "clf.fit(X_train, y_train)\n",
        "print('Conjunto de validacion :')\n",
        "print_binary_confusion_matrix(y_test, clf.predict(X_test))"
      ],
      "execution_count": 93,
      "outputs": [
        {
          "output_type": "stream",
          "text": [
            "Conjunto de validacion :\n",
            "              +-----------------+\n",
            "              |   Predicción    |\n",
            "              +-----------------+\n",
            "              |    +   |    -   |\n",
            "+-------+-----+--------+--------+\n",
            "| Valor |  +  |    108 |   1189 |\n",
            "| real  +-----+--------+--------+\n",
            "|       |  -  |    114 |   4589 |\n",
            "+-------+-----+--------+--------+\n",
            "Exactitud     : 0.783\n",
            "Precisión     : 0.486\n",
            "Exhaustividad : 0.083\n",
            "\n"
          ],
          "name": "stdout"
        }
      ]
    },
    {
      "cell_type": "markdown",
      "metadata": {
        "id": "U5JqnEPX0d4V",
        "colab_type": "text"
      },
      "source": [
        "# Mejorando rendimiento KNN"
      ]
    },
    {
      "cell_type": "code",
      "metadata": {
        "id": "ip5WVETC0c79",
        "colab_type": "code",
        "colab": {
          "base_uri": "https://localhost:8080/",
          "height": 289
        },
        "outputId": "4f8c1593-fb9f-4c4d-fb1d-98f24c67b68d"
      },
      "source": [
        "from sklearn.model_selection import GridSearchCV\n",
        "\n",
        "# Creamos un nuevo modelo\n",
        "knn2 = KNeighborsClassifier()\n",
        "\n",
        "# Creamos un diccionario con todos los valores que queremos probar para n_neighbors\n",
        "param_grid = {'n_neighbors': np.arange(1, 25)}\n",
        "\n",
        "# Usamos GridSearchCV para probar todos los valores para n_neightbors\n",
        "knn_gscv = GridSearchCV(knn2, param_grid, cv=10)\n",
        "\n",
        "# Ajustamos el modelo con los datos de entrenamiento\n",
        "knn_gscv.fit(X_train_val, y_train_val)\n",
        "\n",
        "print('Conjunto de validacion :')\n",
        "print_binary_confusion_matrix(y_test, knn_gscv.predict(X_test))\n",
        "\n",
        "print('Mejor parametro n_neighbors :')\n",
        "knn_gscv.best_params_['n_neighbors']"
      ],
      "execution_count": 94,
      "outputs": [
        {
          "output_type": "stream",
          "text": [
            "Conjunto de validacion :\n",
            "              +-----------------+\n",
            "              |   Predicción    |\n",
            "              +-----------------+\n",
            "              |    +   |    -   |\n",
            "+-------+-----+--------+--------+\n",
            "| Valor |  +  |     97 |   1200 |\n",
            "| real  +-----+--------+--------+\n",
            "|       |  -  |     99 |   4604 |\n",
            "+-------+-----+--------+--------+\n",
            "Exactitud     : 0.783\n",
            "Precisión     : 0.495\n",
            "Exhaustividad : 0.075\n",
            "\n",
            "Mejor parametro n_neighbors :\n"
          ],
          "name": "stdout"
        },
        {
          "output_type": "execute_result",
          "data": {
            "text/plain": [
              "22"
            ]
          },
          "metadata": {
            "tags": []
          },
          "execution_count": 94
        }
      ]
    },
    {
      "cell_type": "code",
      "metadata": {
        "id": "fNEzzhDn2jMa",
        "colab_type": "code",
        "colab": {
          "base_uri": "https://localhost:8080/",
          "height": 34
        },
        "outputId": "29a2be4f-09a6-444e-846d-5bd6f334cd8b"
      },
      "source": [
        "knn_gscv.score(X_test, y_test)"
      ],
      "execution_count": 95,
      "outputs": [
        {
          "output_type": "execute_result",
          "data": {
            "text/plain": [
              "0.7835"
            ]
          },
          "metadata": {
            "tags": []
          },
          "execution_count": 95
        }
      ]
    },
    {
      "cell_type": "markdown",
      "metadata": {
        "id": "Gm5gKGAh5BTg",
        "colab_type": "text"
      },
      "source": [
        "**Vemos que el rendimiento mejoró en un 0,0225**"
      ]
    }
  ]
}