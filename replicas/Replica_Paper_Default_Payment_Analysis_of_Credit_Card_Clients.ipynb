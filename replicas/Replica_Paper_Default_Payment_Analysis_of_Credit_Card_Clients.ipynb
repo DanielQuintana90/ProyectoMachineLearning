{
 "cells": [
  {
   "cell_type": "markdown",
   "metadata": {},
   "source": [
    "Artículo replicado: [Clic aquí](https://www.researchgate.net/publication/326171439_Default_Payment_Analysis_of_Credit_Card_Clients)\n",
    "\n",
    "Autores : [Sunakshi_Sharma](https://www.researchgate.net/profile/Sunakshi_Sharma) , Vipul [Mehra](https://www.researchgate.net/profile/Vipul_Mehra2)"
   ]
  },
  {
   "cell_type": "markdown",
   "metadata": {
    "colab_type": "text",
    "id": "h-WnkiYr3-1O"
   },
   "source": [
    "# Preprocesamiento y selección de características\n"
   ]
  },
  {
   "cell_type": "markdown",
   "metadata": {
    "colab_type": "text",
    "id": "8AMBB5Uu6Ewg"
   },
   "source": [
    "##Cargar el conjunto de datos"
   ]
  },
  {
   "cell_type": "code",
   "execution_count": 27,
   "metadata": {
    "colab": {
     "base_uri": "https://localhost:8080/",
     "height": 34
    },
    "colab_type": "code",
    "id": "L54ea7xwqeyk",
    "outputId": "1b729b0a-45a2-4b33-d753-05b3683e9fbf"
   },
   "outputs": [
    {
     "data": {
      "text/plain": [
       "(30000, 25)"
      ]
     },
     "execution_count": 27,
     "metadata": {
      "tags": []
     },
     "output_type": "execute_result"
    }
   ],
   "source": [
    "import numpy as np\n",
    "import pandas as pd\n",
    "import matplotlib.pyplot as plt\n",
    "import warnings\n",
    "\n",
    "warnings.filterwarnings(\"ignore\", category=FutureWarning)\n",
    "\n",
    "datos = pd.read_csv('default_of_credit_card_clients_original.csv')\n",
    "datos.shape"
   ]
  },
  {
   "cell_type": "markdown",
   "metadata": {
    "colab_type": "text",
    "id": "W3IbS9Z0p40I"
   },
   "source": [
    "##1. Valores faltantes\n",
    "###No hay valores faltante"
   ]
  },
  {
   "cell_type": "markdown",
   "metadata": {
    "colab_type": "text",
    "id": "Wz5TVkuSpR86"
   },
   "source": [
    "##2. Seleccionar caracteristicas y discretizar datos"
   ]
  },
  {
   "cell_type": "code",
   "execution_count": 0,
   "metadata": {
    "colab": {},
    "colab_type": "code",
    "collapsed": true,
    "id": "al57btHO3-1Y"
   },
   "outputs": [],
   "source": [
    "from sklearn.linear_model import LinearRegression\n",
    "from sklearn.preprocessing import KBinsDiscretizer\n",
    "from sklearn.tree import DecisionTreeRegressor\n",
    "from sklearn.preprocessing import StandardScaler\n",
    "\n",
    "warnings.filterwarnings(\"ignore\")\n",
    "\n",
    "X = datos.drop(['ID','SEX', 'BILL_AMT3','BILL_AMT4','BILL_AMT5','BILL_AMT6'], axis=1)\n",
    "Y = datos['default payment next month'].values.astype(int)\n",
    "\n",
    "enc = KBinsDiscretizer(n_bins=10)\n",
    "X_binned = enc.fit_transform(X)"
   ]
  },
  {
   "cell_type": "markdown",
   "metadata": {
    "colab_type": "text",
    "id": "PGxDyyf5rZPa"
   },
   "source": [
    "##3. Agregación y eliminación de características irrelevantes."
   ]
  },
  {
   "cell_type": "markdown",
   "metadata": {
    "colab_type": "text",
    "id": "6zMwqLOCSvxg"
   },
   "source": [
    "###No realizamos agregación en nuestro conjunto de datos"
   ]
  },
  {
   "cell_type": "markdown",
   "metadata": {
    "colab_type": "text",
    "id": "FmLwmpQjsHO8"
   },
   "source": [
    "#Minando los datos"
   ]
  },
  {
   "cell_type": "code",
   "execution_count": 0,
   "metadata": {
    "colab": {},
    "colab_type": "code",
    "collapsed": true,
    "id": "xsOl49BrsTRo"
   },
   "outputs": [],
   "source": [
    "#Porcentaje de división\n",
    "from sklearn.model_selection import train_test_split\n",
    "X_train_binned, X_test_binned, y_train_binned, y_test_binned = train_test_split(X_binned, Y, test_size=0.33, random_state=0)\n",
    "X_train, X_test, y_train, y_test = train_test_split(X, Y, test_size=0.33, random_state=0)"
   ]
  },
  {
   "cell_type": "markdown",
   "metadata": {
    "colab_type": "text",
    "id": "LeE0K1mgML4i"
   },
   "source": [
    "## Funciones Generales"
   ]
  },
  {
   "cell_type": "code",
   "execution_count": 0,
   "metadata": {
    "colab": {},
    "colab_type": "code",
    "collapsed": true,
    "id": "Aet-dij1FhPg"
   },
   "outputs": [],
   "source": [
    "from sklearn import metrics\n",
    "from sklearn import metrics\n",
    "from sklearn.model_selection import cross_val_score\n",
    "\n",
    "def print_binary_confusion_matrix(y_true, y_pred):\n",
    "  confusion_matrix = metrics.confusion_matrix(y_true, y_pred)\n",
    "  TN = confusion_matrix[0,0]\n",
    "  FN = confusion_matrix[1,0]\n",
    "  FP = confusion_matrix[0,1]\n",
    "  TP = confusion_matrix[1,1]\n",
    "  \n",
    "  ### INICIO DE TU CÓDIGO\n",
    "  exactitud = (TP+TN)/(TP+FP+TN+FN)\n",
    "  precision = TP/(TP+FP)\n",
    "  exhaustividad = TP/(TP+FN)\n",
    "  ### FIN DE TU CÓDIGO\n",
    "\n",
    "  print ('              +-----------------+')\n",
    "  print ('              |   Predicción    |')\n",
    "  print ('              +-----------------+')\n",
    "  print ('              |    +   |    -   |')\n",
    "  print ('+-------+-----+--------+--------+')\n",
    "  print ('| Valor |  +  |  {:5d} |  {:5d} |'.format(TP, FN) )\n",
    "  print ('| real  +-----+--------+--------+')\n",
    "  print ('|       |  -  |  {:5d} |  {:5d} |'.format(FP, TN) )\n",
    "  print ('+-------+-----+--------+--------+')\n",
    "  print('Exactitud     : {:.3f}'.format(exactitud))\n",
    "  print('Precisión     : {:.3f}'.format(precision))\n",
    "  print('Exhaustividad : {:.3f}'.format(exhaustividad))\n",
    "  print()"
   ]
  },
  {
   "cell_type": "markdown",
   "metadata": {
    "colab_type": "text",
    "id": "kg-eEKAysgpd"
   },
   "source": [
    "##1. Naive Bayes"
   ]
  },
  {
   "cell_type": "code",
   "execution_count": 0,
   "metadata": {
    "colab": {},
    "colab_type": "code",
    "collapsed": true,
    "id": "BsY1HJR-kGwa"
   },
   "outputs": [],
   "source": [
    "#Creando model\n",
    "from sklearn.pipeline import Pipeline\n",
    "from sklearn.preprocessing import Binarizer\n",
    "from sklearn.naive_bayes import MultinomialNB, GaussianNB, BernoulliNB\n",
    "from sklearn.model_selection import GridSearchCV\n",
    "warnings.filterwarnings(\"ignore\")\n",
    "\n",
    "pipeline = Pipeline([('binarizer', Binarizer()), ('classifier', BernoulliNB())])\n",
    "params = {'binarizer__threshold': np.logspace(0, 5, 10)}\n",
    "\n",
    "naive_bayes_cv = GridSearchCV(pipeline, param_grid=params, cv=10, refit=True)\n"
   ]
  },
  {
   "cell_type": "markdown",
   "metadata": {
    "colab_type": "text",
    "id": "GXKt-KJxTTPi"
   },
   "source": [
    "###a. Con datos originales"
   ]
  },
  {
   "cell_type": "code",
   "execution_count": 32,
   "metadata": {
    "colab": {
     "base_uri": "https://localhost:8080/",
     "height": 255
    },
    "colab_type": "code",
    "id": "5O2RYI3CW5zD",
    "outputId": "294a5ce2-4c2d-4a87-b9b4-aa189b9bc9bb"
   },
   "outputs": [
    {
     "name": "stdout",
     "output_type": "stream",
     "text": [
      "              +-----------------+\n",
      "              |   Predicción    |\n",
      "              +-----------------+\n",
      "              |    +   |    -   |\n",
      "+-------+-----+--------+--------+\n",
      "| Valor |  +  |   1018 |   1117 |\n",
      "| real  +-----+--------+--------+\n",
      "|       |  -  |    965 |   6800 |\n",
      "+-------+-----+--------+--------+\n",
      "Exactitud     : 0.790\n",
      "Precisión     : 0.513\n",
      "Exhaustividad : 0.477\n",
      "\n",
      "Validacion cruzada : 0.44 (+/- 0.00)\n"
     ]
    }
   ],
   "source": [
    "warnings.filterwarnings(\"ignore\")\n",
    "\n",
    "#Entrenar modelo\n",
    "naive_bayes_cv.fit(X_test,y_test)\n",
    "\n",
    "#Predicciones\n",
    "y_predicciones_regresion = naive_bayes_cv.predict(X_test)\n",
    "\n",
    "#Matriz confusion \n",
    "print_binary_confusion_matrix(y_test, y_predicciones_regresion)\n",
    "\n",
    "#Validacion cruzada \n",
    "scores = cross_val_score(modelo_regresion_logistica_cv,X_test, y_test, cv=10, scoring='f1_macro')\n",
    "\n",
    "print(\"Validacion cruzada : %0.2f (+/- %0.2f)\" % (scores.mean(), scores.std() * 2))\n",
    "\n"
   ]
  },
  {
   "cell_type": "markdown",
   "metadata": {
    "colab_type": "text",
    "id": "MjtPjVj1Tluy"
   },
   "source": [
    "###b. Con datos discretizados y columnas eliminadas"
   ]
  },
  {
   "cell_type": "code",
   "execution_count": 33,
   "metadata": {
    "colab": {
     "base_uri": "https://localhost:8080/",
     "height": 255
    },
    "colab_type": "code",
    "id": "931zPJz6TtF4",
    "outputId": "bc10ed33-19f4-48b2-d438-76d052d7db26"
   },
   "outputs": [
    {
     "name": "stdout",
     "output_type": "stream",
     "text": [
      "              +-----------------+\n",
      "              |   Predicción    |\n",
      "              +-----------------+\n",
      "              |    +   |    -   |\n",
      "+-------+-----+--------+--------+\n",
      "| Valor |  +  |      0 |   2135 |\n",
      "| real  +-----+--------+--------+\n",
      "|       |  -  |      0 |   7765 |\n",
      "+-------+-----+--------+--------+\n",
      "Exactitud     : 0.784\n",
      "Precisión     : nan\n",
      "Exhaustividad : 0.000\n",
      "\n",
      "Validacion cruzada : 0.68 (+/- 0.05)\n"
     ]
    }
   ],
   "source": [
    "warnings.filterwarnings(\"ignore\")\n",
    "\n",
    "#Entrenar modelo\n",
    "naive_bayes_cv.fit(X_test_binned,y_test_binned)\n",
    "\n",
    "#Predicciones\n",
    "y_predicciones_regresion_binned = naive_bayes_cv.predict(X_test_binned)\n",
    "\n",
    "#Matriz confusion \n",
    "print_binary_confusion_matrix(y_test_binned, y_predicciones_regresion_binned)\n",
    "\n",
    "\n",
    "#Validacion cruzada \n",
    "scores = cross_val_score(modelo_regresion_logistica_cv,X_test_binned, y_test_binned, cv=10, scoring='f1_macro')\n",
    "\n",
    "print(\"Validacion cruzada : %0.2f (+/- %0.2f)\" % (scores.mean(), scores.std() * 2))"
   ]
  },
  {
   "cell_type": "markdown",
   "metadata": {
    "colab_type": "text",
    "id": "iR6cxSRnsqTJ"
   },
   "source": [
    "##2. Regresion logistica"
   ]
  },
  {
   "cell_type": "code",
   "execution_count": 0,
   "metadata": {
    "colab": {},
    "colab_type": "code",
    "collapsed": true,
    "id": "LKeWl7ZheyZY"
   },
   "outputs": [],
   "source": [
    "#Creando model\n",
    "from sklearn.linear_model import LogisticRegression\n",
    "from sklearn.model_selection import GridSearchCV\n",
    "from sklearn import metrics\n",
    "from sklearn.model_selection import cross_val_score\n",
    "\n",
    "modelo_regresion_logistica = LogisticRegression (penalty = \"l1\", solver = \"saga\", warm_start = True)\n",
    "modelo_regresion_logistica_cv = GridSearchCV (modelo_regresion_logistica, param_grid = {\"C\": np.logspace(-4, 4, 10)}, scoring = \"f1_macro\")"
   ]
  },
  {
   "cell_type": "markdown",
   "metadata": {
    "colab_type": "text",
    "id": "SHJ43EiyZ9U4"
   },
   "source": [
    "###a. Con datos originales"
   ]
  },
  {
   "cell_type": "code",
   "execution_count": 35,
   "metadata": {
    "colab": {
     "base_uri": "https://localhost:8080/",
     "height": 255
    },
    "colab_type": "code",
    "id": "uTl0JOrX-hRN",
    "outputId": "188a21df-9e2a-442c-c51d-c10ac16d060b"
   },
   "outputs": [
    {
     "name": "stdout",
     "output_type": "stream",
     "text": [
      "              +-----------------+\n",
      "              |   Predicción    |\n",
      "              +-----------------+\n",
      "              |    +   |    -   |\n",
      "+-------+-----+--------+--------+\n",
      "| Valor |  +  |      2 |   2133 |\n",
      "| real  +-----+--------+--------+\n",
      "|       |  -  |      5 |   7760 |\n",
      "+-------+-----+--------+--------+\n",
      "Exactitud     : 0.784\n",
      "Precisión     : 0.286\n",
      "Exhaustividad : 0.001\n",
      "\n",
      "Validacion cruzada : 0.44 (+/- 0.00)\n"
     ]
    }
   ],
   "source": [
    "warnings.filterwarnings(\"ignore\")\n",
    "\n",
    "#Entrenar modelo\n",
    "modelo_regresion_logistica_cv.fit(X_test,y_test)\n",
    "\n",
    "#Predicciones\n",
    "y_predicciones_regresion = modelo_regresion_logistica_cv.predict(X_test)\n",
    "\n",
    "#Matriz confusion \n",
    "print_binary_confusion_matrix(y_test, y_predicciones_regresion)\n",
    "\n",
    "#Validacion cruzada \n",
    "scores = cross_val_score(modelo_regresion_logistica_cv,X_test, y_test, cv=10, scoring='f1_macro')\n",
    "\n",
    "print(\"Validacion cruzada : %0.2f (+/- %0.2f)\" % (scores.mean(), scores.std() * 2))\n"
   ]
  },
  {
   "cell_type": "markdown",
   "metadata": {
    "colab_type": "text",
    "id": "3Z3YRFs4aHkj"
   },
   "source": [
    "### b. Con datos discretizados y columnas eliminadas"
   ]
  },
  {
   "cell_type": "code",
   "execution_count": 36,
   "metadata": {
    "colab": {
     "base_uri": "https://localhost:8080/",
     "height": 255
    },
    "colab_type": "code",
    "id": "Kf87RnsSaVrO",
    "outputId": "2e5b5dcb-59c3-41c1-9226-a2b05203b786"
   },
   "outputs": [
    {
     "name": "stdout",
     "output_type": "stream",
     "text": [
      "              +-----------------+\n",
      "              |   Predicción    |\n",
      "              +-----------------+\n",
      "              |    +   |    -   |\n",
      "+-------+-----+--------+--------+\n",
      "| Valor |  +  |    762 |   1373 |\n",
      "| real  +-----+--------+--------+\n",
      "|       |  -  |    355 |   7410 |\n",
      "+-------+-----+--------+--------+\n",
      "Exactitud     : 0.825\n",
      "Precisión     : 0.682\n",
      "Exhaustividad : 0.357\n",
      "\n",
      "Validacion cruzada : 0.68 (+/- 0.05)\n"
     ]
    }
   ],
   "source": [
    "warnings.filterwarnings(\"ignore\")\n",
    "\n",
    "#Entrenar modelo\n",
    "modelo_regresion_logistica_cv.fit(X_test_binned,y_test_binned)\n",
    "\n",
    "#Predicciones\n",
    "y_predicciones_regresion = modelo_regresion_logistica_cv.predict(X_test_binned)\n",
    "\n",
    "#Matriz confusion \n",
    "print_binary_confusion_matrix(y_test_binned, y_predicciones_regresion)\n",
    "\n",
    "#Validacion cruzada \n",
    "scores = cross_val_score(modelo_regresion_logistica_cv,X_test_binned, y_test_binned, cv=10, scoring='f1_macro')\n",
    "\n",
    "print(\"Validacion cruzada : %0.2f (+/- %0.2f)\" % (scores.mean(), scores.std() * 2))"
   ]
  },
  {
   "cell_type": "markdown",
   "metadata": {
    "colab_type": "text",
    "id": "-1qj-x0H7ysR"
   },
   "source": [
    "#Conclusiones"
   ]
  },
  {
   "cell_type": "markdown",
   "metadata": {
    "colab_type": "text",
    "id": "uYnU15v473Ry"
   },
   "source": [
    "*   El algoritmo de regresión logística presenta mejor rendimiento.\n",
    "\n",
    "\n",
    "*   Discreteando datos y reduciendo características se mejora el rendimiento de los algoritmos"
   ]
  }
 ],
 "metadata": {
  "colab": {
   "collapsed_sections": [
    "h-WnkiYr3-1O",
    "8AMBB5Uu6Ewg",
    "Wz5TVkuSpR86",
    "FmLwmpQjsHO8",
    "LeE0K1mgML4i"
   ],
   "name": "Replica Paper Default Payment Analysis of Credit Card Clients.ipynb",
   "provenance": [],
   "toc_visible": true,
   "version": "0.3.2"
  },
  "kernelspec": {
   "display_name": "Python 3",
   "language": "python",
   "name": "python3"
  },
  "language_info": {
   "codemirror_mode": {
    "name": "ipython",
    "version": 3
   },
   "file_extension": ".py",
   "mimetype": "text/x-python",
   "name": "python",
   "nbconvert_exporter": "python",
   "pygments_lexer": "ipython3",
   "version": "3.6.8"
  }
 },
 "nbformat": 4,
 "nbformat_minor": 1
}
