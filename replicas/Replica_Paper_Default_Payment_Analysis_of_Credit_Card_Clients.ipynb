{
  "nbformat": 4,
  "nbformat_minor": 0,
  "metadata": {
    "colab": {
      "name": "Replica Paper Default Payment Analysis of Credit Card Clients.ipynb",
      "version": "0.3.2",
      "provenance": [],
      "collapsed_sections": [
        "h-WnkiYr3-1O",
        "8AMBB5Uu6Ewg",
        "Wz5TVkuSpR86",
        "FmLwmpQjsHO8",
        "LeE0K1mgML4i"
      ],
      "toc_visible": true
    },
    "language_info": {
      "codemirror_mode": {
        "name": "ipython",
        "version": 3
      },
      "file_extension": ".py",
      "mimetype": "text/x-python",
      "name": "python",
      "nbconvert_exporter": "python",
      "pygments_lexer": "ipython3",
      "version": "3.6.8"
    },
    "kernelspec": {
      "display_name": "Python 3",
      "language": "python",
      "name": "python3"
    }
  },
  "cells": [
    {
      "cell_type": "markdown",
      "metadata": {
        "id": "h-WnkiYr3-1O",
        "colab_type": "text"
      },
      "source": [
        "# Preprocesamiento y selección de características\n"
      ]
    },
    {
      "cell_type": "markdown",
      "metadata": {
        "id": "8AMBB5Uu6Ewg",
        "colab_type": "text"
      },
      "source": [
        "##Cargar el conjunto de datos"
      ]
    },
    {
      "cell_type": "code",
      "metadata": {
        "id": "L54ea7xwqeyk",
        "colab_type": "code",
        "outputId": "1b729b0a-45a2-4b33-d753-05b3683e9fbf",
        "colab": {
          "base_uri": "https://localhost:8080/",
          "height": 34
        }
      },
      "source": [
        "import numpy as np\n",
        "import pandas as pd\n",
        "import matplotlib.pyplot as plt\n",
        "import warnings\n",
        "\n",
        "warnings.filterwarnings(\"ignore\", category=FutureWarning)\n",
        "\n",
        "datos = pd.read_csv('default_of_credit_card_clients_original.csv')\n",
        "datos.shape"
      ],
      "execution_count": 27,
      "outputs": [
        {
          "output_type": "execute_result",
          "data": {
            "text/plain": [
              "(30000, 25)"
            ]
          },
          "metadata": {
            "tags": []
          },
          "execution_count": 27
        }
      ]
    },
    {
      "cell_type": "markdown",
      "metadata": {
        "id": "W3IbS9Z0p40I",
        "colab_type": "text"
      },
      "source": [
        "##1. Valores faltantes\n",
        "###No hay valores faltante"
      ]
    },
    {
      "cell_type": "markdown",
      "metadata": {
        "id": "Wz5TVkuSpR86",
        "colab_type": "text"
      },
      "source": [
        "##2. Seleccionar caracteristicas y discretizar datos"
      ]
    },
    {
      "cell_type": "code",
      "metadata": {
        "id": "al57btHO3-1Y",
        "colab_type": "code",
        "colab": {}
      },
      "source": [
        "from sklearn.linear_model import LinearRegression\n",
        "from sklearn.preprocessing import KBinsDiscretizer\n",
        "from sklearn.tree import DecisionTreeRegressor\n",
        "from sklearn.preprocessing import StandardScaler\n",
        "\n",
        "warnings.filterwarnings(\"ignore\")\n",
        "\n",
        "X = datos.drop(['ID','SEX', 'BILL_AMT3','BILL_AMT4','BILL_AMT5','BILL_AMT6'], axis=1)\n",
        "Y = datos['default payment next month'].values.astype(int)\n",
        "\n",
        "enc = KBinsDiscretizer(n_bins=10)\n",
        "X_binned = enc.fit_transform(X)"
      ],
      "execution_count": 0,
      "outputs": []
    },
    {
      "cell_type": "markdown",
      "metadata": {
        "id": "PGxDyyf5rZPa",
        "colab_type": "text"
      },
      "source": [
        "##3. Agregación y eliminación de características irrelevantes."
      ]
    },
    {
      "cell_type": "markdown",
      "metadata": {
        "id": "6zMwqLOCSvxg",
        "colab_type": "text"
      },
      "source": [
        "###No realizamos agregación en nuestro conjunto de datos"
      ]
    },
    {
      "cell_type": "markdown",
      "metadata": {
        "id": "FmLwmpQjsHO8",
        "colab_type": "text"
      },
      "source": [
        "#Minando los datos"
      ]
    },
    {
      "cell_type": "code",
      "metadata": {
        "id": "xsOl49BrsTRo",
        "colab_type": "code",
        "colab": {}
      },
      "source": [
        "#Porcentaje de división\n",
        "from sklearn.model_selection import train_test_split\n",
        "X_train_binned, X_test_binned, y_train_binned, y_test_binned = train_test_split(X_binned, Y, test_size=0.33, random_state=0)\n",
        "X_train, X_test, y_train, y_test = train_test_split(X, Y, test_size=0.33, random_state=0)"
      ],
      "execution_count": 0,
      "outputs": []
    },
    {
      "cell_type": "markdown",
      "metadata": {
        "id": "LeE0K1mgML4i",
        "colab_type": "text"
      },
      "source": [
        "## Funciones Generales"
      ]
    },
    {
      "cell_type": "code",
      "metadata": {
        "id": "Aet-dij1FhPg",
        "colab_type": "code",
        "colab": {}
      },
      "source": [
        "from sklearn import metrics\n",
        "from sklearn import metrics\n",
        "from sklearn.model_selection import cross_val_score\n",
        "\n",
        "def print_binary_confusion_matrix(y_true, y_pred):\n",
        "  confusion_matrix = metrics.confusion_matrix(y_true, y_pred)\n",
        "  TN = confusion_matrix[0,0]\n",
        "  FN = confusion_matrix[1,0]\n",
        "  FP = confusion_matrix[0,1]\n",
        "  TP = confusion_matrix[1,1]\n",
        "  \n",
        "  ### INICIO DE TU CÓDIGO\n",
        "  exactitud = (TP+TN)/(TP+FP+TN+FN)\n",
        "  precision = TP/(TP+FP)\n",
        "  exhaustividad = TP/(TP+FN)\n",
        "  ### FIN DE TU CÓDIGO\n",
        "\n",
        "  print ('              +-----------------+')\n",
        "  print ('              |   Predicción    |')\n",
        "  print ('              +-----------------+')\n",
        "  print ('              |    +   |    -   |')\n",
        "  print ('+-------+-----+--------+--------+')\n",
        "  print ('| Valor |  +  |  {:5d} |  {:5d} |'.format(TP, FN) )\n",
        "  print ('| real  +-----+--------+--------+')\n",
        "  print ('|       |  -  |  {:5d} |  {:5d} |'.format(FP, TN) )\n",
        "  print ('+-------+-----+--------+--------+')\n",
        "  print('Exactitud     : {:.3f}'.format(exactitud))\n",
        "  print('Precisión     : {:.3f}'.format(precision))\n",
        "  print('Exhaustividad : {:.3f}'.format(exhaustividad))\n",
        "  print()"
      ],
      "execution_count": 0,
      "outputs": []
    },
    {
      "cell_type": "markdown",
      "metadata": {
        "id": "kg-eEKAysgpd",
        "colab_type": "text"
      },
      "source": [
        "##1. Naive Bayes"
      ]
    },
    {
      "cell_type": "code",
      "metadata": {
        "id": "BsY1HJR-kGwa",
        "colab_type": "code",
        "colab": {}
      },
      "source": [
        "#Creando model\n",
        "from sklearn.pipeline import Pipeline\n",
        "from sklearn.preprocessing import Binarizer\n",
        "from sklearn.naive_bayes import MultinomialNB, GaussianNB, BernoulliNB\n",
        "from sklearn.model_selection import GridSearchCV\n",
        "warnings.filterwarnings(\"ignore\")\n",
        "\n",
        "pipeline = Pipeline([('binarizer', Binarizer()), ('classifier', BernoulliNB())])\n",
        "params = {'binarizer__threshold': np.logspace(0, 5, 10)}\n",
        "\n",
        "naive_bayes_cv = GridSearchCV(pipeline, param_grid=params, cv=10, refit=True)\n"
      ],
      "execution_count": 0,
      "outputs": []
    },
    {
      "cell_type": "markdown",
      "metadata": {
        "id": "GXKt-KJxTTPi",
        "colab_type": "text"
      },
      "source": [
        "###a. Con datos originales"
      ]
    },
    {
      "cell_type": "code",
      "metadata": {
        "id": "5O2RYI3CW5zD",
        "colab_type": "code",
        "outputId": "294a5ce2-4c2d-4a87-b9b4-aa189b9bc9bb",
        "colab": {
          "base_uri": "https://localhost:8080/",
          "height": 255
        }
      },
      "source": [
        "warnings.filterwarnings(\"ignore\")\n",
        "\n",
        "#Entrenar modelo\n",
        "naive_bayes_cv.fit(X_test,y_test)\n",
        "\n",
        "#Predicciones\n",
        "y_predicciones_regresion = naive_bayes_cv.predict(X_test)\n",
        "\n",
        "#Matriz confusion \n",
        "print_binary_confusion_matrix(y_test, y_predicciones_regresion)\n",
        "\n",
        "#Validacion cruzada \n",
        "scores = cross_val_score(modelo_regresion_logistica_cv,X_test, y_test, cv=10, scoring='f1_macro')\n",
        "\n",
        "print(\"Validacion cruzada : %0.2f (+/- %0.2f)\" % (scores.mean(), scores.std() * 2))\n",
        "\n"
      ],
      "execution_count": 32,
      "outputs": [
        {
          "output_type": "stream",
          "text": [
            "              +-----------------+\n",
            "              |   Predicción    |\n",
            "              +-----------------+\n",
            "              |    +   |    -   |\n",
            "+-------+-----+--------+--------+\n",
            "| Valor |  +  |   1018 |   1117 |\n",
            "| real  +-----+--------+--------+\n",
            "|       |  -  |    965 |   6800 |\n",
            "+-------+-----+--------+--------+\n",
            "Exactitud     : 0.790\n",
            "Precisión     : 0.513\n",
            "Exhaustividad : 0.477\n",
            "\n",
            "Validacion cruzada : 0.44 (+/- 0.00)\n"
          ],
          "name": "stdout"
        }
      ]
    },
    {
      "cell_type": "markdown",
      "metadata": {
        "id": "MjtPjVj1Tluy",
        "colab_type": "text"
      },
      "source": [
        "###b. Con datos discretizados y columnas eliminadas"
      ]
    },
    {
      "cell_type": "code",
      "metadata": {
        "id": "931zPJz6TtF4",
        "colab_type": "code",
        "outputId": "bc10ed33-19f4-48b2-d438-76d052d7db26",
        "colab": {
          "base_uri": "https://localhost:8080/",
          "height": 255
        }
      },
      "source": [
        "warnings.filterwarnings(\"ignore\")\n",
        "\n",
        "#Entrenar modelo\n",
        "naive_bayes_cv.fit(X_test_binned,y_test_binned)\n",
        "\n",
        "#Predicciones\n",
        "y_predicciones_regresion_binned = naive_bayes_cv.predict(X_test_binned)\n",
        "\n",
        "#Matriz confusion \n",
        "print_binary_confusion_matrix(y_test_binned, y_predicciones_regresion_binned)\n",
        "\n",
        "\n",
        "#Validacion cruzada \n",
        "scores = cross_val_score(modelo_regresion_logistica_cv,X_test_binned, y_test_binned, cv=10, scoring='f1_macro')\n",
        "\n",
        "print(\"Validacion cruzada : %0.2f (+/- %0.2f)\" % (scores.mean(), scores.std() * 2))"
      ],
      "execution_count": 33,
      "outputs": [
        {
          "output_type": "stream",
          "text": [
            "              +-----------------+\n",
            "              |   Predicción    |\n",
            "              +-----------------+\n",
            "              |    +   |    -   |\n",
            "+-------+-----+--------+--------+\n",
            "| Valor |  +  |      0 |   2135 |\n",
            "| real  +-----+--------+--------+\n",
            "|       |  -  |      0 |   7765 |\n",
            "+-------+-----+--------+--------+\n",
            "Exactitud     : 0.784\n",
            "Precisión     : nan\n",
            "Exhaustividad : 0.000\n",
            "\n",
            "Validacion cruzada : 0.68 (+/- 0.05)\n"
          ],
          "name": "stdout"
        }
      ]
    },
    {
      "cell_type": "markdown",
      "metadata": {
        "id": "iR6cxSRnsqTJ",
        "colab_type": "text"
      },
      "source": [
        "##2. Regresion logistica"
      ]
    },
    {
      "cell_type": "code",
      "metadata": {
        "id": "LKeWl7ZheyZY",
        "colab_type": "code",
        "colab": {}
      },
      "source": [
        "#Creando model\n",
        "from sklearn.linear_model import LogisticRegression\n",
        "from sklearn.model_selection import GridSearchCV\n",
        "from sklearn import metrics\n",
        "from sklearn.model_selection import cross_val_score\n",
        "\n",
        "modelo_regresion_logistica = LogisticRegression (penalty = \"l1\", solver = \"saga\", warm_start = True)\n",
        "modelo_regresion_logistica_cv = GridSearchCV (modelo_regresion_logistica, param_grid = {\"C\": np.logspace(-4, 4, 10)}, scoring = \"f1_macro\")"
      ],
      "execution_count": 0,
      "outputs": []
    },
    {
      "cell_type": "markdown",
      "metadata": {
        "id": "SHJ43EiyZ9U4",
        "colab_type": "text"
      },
      "source": [
        "###a. Con datos originales"
      ]
    },
    {
      "cell_type": "code",
      "metadata": {
        "id": "uTl0JOrX-hRN",
        "colab_type": "code",
        "outputId": "188a21df-9e2a-442c-c51d-c10ac16d060b",
        "colab": {
          "base_uri": "https://localhost:8080/",
          "height": 255
        }
      },
      "source": [
        "warnings.filterwarnings(\"ignore\")\n",
        "\n",
        "#Entrenar modelo\n",
        "modelo_regresion_logistica_cv.fit(X_test,y_test)\n",
        "\n",
        "#Predicciones\n",
        "y_predicciones_regresion = modelo_regresion_logistica_cv.predict(X_test)\n",
        "\n",
        "#Matriz confusion \n",
        "print_binary_confusion_matrix(y_test, y_predicciones_regresion)\n",
        "\n",
        "#Validacion cruzada \n",
        "scores = cross_val_score(modelo_regresion_logistica_cv,X_test, y_test, cv=10, scoring='f1_macro')\n",
        "\n",
        "print(\"Validacion cruzada : %0.2f (+/- %0.2f)\" % (scores.mean(), scores.std() * 2))\n"
      ],
      "execution_count": 35,
      "outputs": [
        {
          "output_type": "stream",
          "text": [
            "              +-----------------+\n",
            "              |   Predicción    |\n",
            "              +-----------------+\n",
            "              |    +   |    -   |\n",
            "+-------+-----+--------+--------+\n",
            "| Valor |  +  |      2 |   2133 |\n",
            "| real  +-----+--------+--------+\n",
            "|       |  -  |      5 |   7760 |\n",
            "+-------+-----+--------+--------+\n",
            "Exactitud     : 0.784\n",
            "Precisión     : 0.286\n",
            "Exhaustividad : 0.001\n",
            "\n",
            "Validacion cruzada : 0.44 (+/- 0.00)\n"
          ],
          "name": "stdout"
        }
      ]
    },
    {
      "cell_type": "markdown",
      "metadata": {
        "id": "3Z3YRFs4aHkj",
        "colab_type": "text"
      },
      "source": [
        "### b. Con datos discretizados y columnas eliminadas"
      ]
    },
    {
      "cell_type": "code",
      "metadata": {
        "id": "Kf87RnsSaVrO",
        "colab_type": "code",
        "outputId": "2e5b5dcb-59c3-41c1-9226-a2b05203b786",
        "colab": {
          "base_uri": "https://localhost:8080/",
          "height": 255
        }
      },
      "source": [
        "warnings.filterwarnings(\"ignore\")\n",
        "\n",
        "#Entrenar modelo\n",
        "modelo_regresion_logistica_cv.fit(X_test_binned,y_test_binned)\n",
        "\n",
        "#Predicciones\n",
        "y_predicciones_regresion = modelo_regresion_logistica_cv.predict(X_test_binned)\n",
        "\n",
        "#Matriz confusion \n",
        "print_binary_confusion_matrix(y_test_binned, y_predicciones_regresion)\n",
        "\n",
        "#Validacion cruzada \n",
        "scores = cross_val_score(modelo_regresion_logistica_cv,X_test_binned, y_test_binned, cv=10, scoring='f1_macro')\n",
        "\n",
        "print(\"Validacion cruzada : %0.2f (+/- %0.2f)\" % (scores.mean(), scores.std() * 2))"
      ],
      "execution_count": 36,
      "outputs": [
        {
          "output_type": "stream",
          "text": [
            "              +-----------------+\n",
            "              |   Predicción    |\n",
            "              +-----------------+\n",
            "              |    +   |    -   |\n",
            "+-------+-----+--------+--------+\n",
            "| Valor |  +  |    762 |   1373 |\n",
            "| real  +-----+--------+--------+\n",
            "|       |  -  |    355 |   7410 |\n",
            "+-------+-----+--------+--------+\n",
            "Exactitud     : 0.825\n",
            "Precisión     : 0.682\n",
            "Exhaustividad : 0.357\n",
            "\n",
            "Validacion cruzada : 0.68 (+/- 0.05)\n"
          ],
          "name": "stdout"
        }
      ]
    },
    {
      "cell_type": "markdown",
      "metadata": {
        "id": "-1qj-x0H7ysR",
        "colab_type": "text"
      },
      "source": [
        "#Conclusiones"
      ]
    },
    {
      "cell_type": "markdown",
      "metadata": {
        "id": "uYnU15v473Ry",
        "colab_type": "text"
      },
      "source": [
        "*   El algoritmo de regresión logística presenta mejor rendimiento.\n",
        "\n",
        "\n",
        "*   Discreteando datos y reduciendo características se mejora el rendimiento de los algoritmos"
      ]
    }
  ]
}