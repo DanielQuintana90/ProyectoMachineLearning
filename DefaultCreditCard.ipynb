{
 "cells": [
  {
   "cell_type": "markdown",
   "metadata": {
    "colab_type": "text",
    "id": "wv5BgG-Jrn58"
   },
   "source": [
    "# Análisis y Tratamiento de los Datos"
   ]
  },
  {
   "cell_type": "code",
   "execution_count": 0,
   "metadata": {
    "colab": {},
    "colab_type": "code",
    "id": "TuRpelIlik64"
   },
   "outputs": [],
   "source": [
    "import pickle\n",
    "import numpy as np\n",
    "import pandas as pd\n",
    "import seaborn as sns\n",
    "import matplotlib.pyplot as plt\n",
    "%matplotlib inline"
   ]
  },
  {
   "cell_type": "code",
   "execution_count": 0,
   "metadata": {
    "colab": {},
    "colab_type": "code",
    "id": "jwsVc4xniFR3"
   },
   "outputs": [],
   "source": [
    "#Cargamos el DataSet\n",
    "data = pd.read_csv(\"CreditCardData.csv\", skiprows = 1)\n"
   ]
  },
  {
   "cell_type": "code",
   "execution_count": 4,
   "metadata": {
    "colab": {
     "base_uri": "https://localhost:8080/",
     "height": 275
    },
    "colab_type": "code",
    "id": "hQLA4Ek2OcFZ",
    "outputId": "7e529b72-a63d-4e79-d071-7980b3b8fe61"
   },
   "outputs": [
    {
     "data": {
      "text/html": [
       "<div>\n",
       "<style scoped>\n",
       "    .dataframe tbody tr th:only-of-type {\n",
       "        vertical-align: middle;\n",
       "    }\n",
       "\n",
       "    .dataframe tbody tr th {\n",
       "        vertical-align: top;\n",
       "    }\n",
       "\n",
       "    .dataframe thead th {\n",
       "        text-align: right;\n",
       "    }\n",
       "</style>\n",
       "<table border=\"1\" class=\"dataframe\">\n",
       "  <thead>\n",
       "    <tr style=\"text-align: right;\">\n",
       "      <th></th>\n",
       "      <th>ID</th>\n",
       "      <th>LIMIT_BAL</th>\n",
       "      <th>SEX</th>\n",
       "      <th>EDUCATION</th>\n",
       "      <th>MARRIAGE</th>\n",
       "      <th>AGE</th>\n",
       "      <th>PAY_0</th>\n",
       "      <th>PAY_2</th>\n",
       "      <th>PAY_3</th>\n",
       "      <th>PAY_4</th>\n",
       "      <th>PAY_5</th>\n",
       "      <th>PAY_6</th>\n",
       "      <th>BILL_AMT1</th>\n",
       "      <th>BILL_AMT2</th>\n",
       "      <th>BILL_AMT3</th>\n",
       "      <th>BILL_AMT4</th>\n",
       "      <th>BILL_AMT5</th>\n",
       "      <th>BILL_AMT6</th>\n",
       "      <th>PAY_AMT1</th>\n",
       "      <th>PAY_AMT2</th>\n",
       "      <th>PAY_AMT3</th>\n",
       "      <th>PAY_AMT4</th>\n",
       "      <th>PAY_AMT5</th>\n",
       "      <th>PAY_AMT6</th>\n",
       "      <th>default payment next month</th>\n",
       "    </tr>\n",
       "  </thead>\n",
       "  <tbody>\n",
       "    <tr>\n",
       "      <th>0</th>\n",
       "      <td>1</td>\n",
       "      <td>20000</td>\n",
       "      <td>2.0</td>\n",
       "      <td>2.0</td>\n",
       "      <td>1.0</td>\n",
       "      <td>24.0</td>\n",
       "      <td>2.0</td>\n",
       "      <td>2.0</td>\n",
       "      <td>-1.0</td>\n",
       "      <td>-1.0</td>\n",
       "      <td>-2.0</td>\n",
       "      <td>-2.0</td>\n",
       "      <td>3913.0</td>\n",
       "      <td>3102.0</td>\n",
       "      <td>689.0</td>\n",
       "      <td>0.0</td>\n",
       "      <td>0.0</td>\n",
       "      <td>0.0</td>\n",
       "      <td>0.0</td>\n",
       "      <td>689.0</td>\n",
       "      <td>0.0</td>\n",
       "      <td>0.0</td>\n",
       "      <td>0.0</td>\n",
       "      <td>0.0</td>\n",
       "      <td>1.0</td>\n",
       "    </tr>\n",
       "    <tr>\n",
       "      <th>1</th>\n",
       "      <td>2</td>\n",
       "      <td>120000</td>\n",
       "      <td>2.0</td>\n",
       "      <td>2.0</td>\n",
       "      <td>2.0</td>\n",
       "      <td>26.0</td>\n",
       "      <td>-1.0</td>\n",
       "      <td>2.0</td>\n",
       "      <td>0.0</td>\n",
       "      <td>0.0</td>\n",
       "      <td>0.0</td>\n",
       "      <td>2.0</td>\n",
       "      <td>2682.0</td>\n",
       "      <td>1725.0</td>\n",
       "      <td>2682.0</td>\n",
       "      <td>3272.0</td>\n",
       "      <td>3455.0</td>\n",
       "      <td>3261.0</td>\n",
       "      <td>0.0</td>\n",
       "      <td>1000.0</td>\n",
       "      <td>1000.0</td>\n",
       "      <td>1000.0</td>\n",
       "      <td>0.0</td>\n",
       "      <td>2000.0</td>\n",
       "      <td>1.0</td>\n",
       "    </tr>\n",
       "    <tr>\n",
       "      <th>2</th>\n",
       "      <td>3</td>\n",
       "      <td>90000</td>\n",
       "      <td>2.0</td>\n",
       "      <td>2.0</td>\n",
       "      <td>2.0</td>\n",
       "      <td>34.0</td>\n",
       "      <td>0.0</td>\n",
       "      <td>0.0</td>\n",
       "      <td>0.0</td>\n",
       "      <td>0.0</td>\n",
       "      <td>0.0</td>\n",
       "      <td>0.0</td>\n",
       "      <td>29239.0</td>\n",
       "      <td>14027.0</td>\n",
       "      <td>13559.0</td>\n",
       "      <td>14331.0</td>\n",
       "      <td>14948.0</td>\n",
       "      <td>15549.0</td>\n",
       "      <td>1518.0</td>\n",
       "      <td>1500.0</td>\n",
       "      <td>1000.0</td>\n",
       "      <td>1000.0</td>\n",
       "      <td>1000.0</td>\n",
       "      <td>5000.0</td>\n",
       "      <td>0.0</td>\n",
       "    </tr>\n",
       "    <tr>\n",
       "      <th>3</th>\n",
       "      <td>4</td>\n",
       "      <td>50000</td>\n",
       "      <td>2.0</td>\n",
       "      <td>2.0</td>\n",
       "      <td>1.0</td>\n",
       "      <td>37.0</td>\n",
       "      <td>0.0</td>\n",
       "      <td>0.0</td>\n",
       "      <td>0.0</td>\n",
       "      <td>0.0</td>\n",
       "      <td>0.0</td>\n",
       "      <td>0.0</td>\n",
       "      <td>46990.0</td>\n",
       "      <td>48233.0</td>\n",
       "      <td>49291.0</td>\n",
       "      <td>28314.0</td>\n",
       "      <td>28959.0</td>\n",
       "      <td>29547.0</td>\n",
       "      <td>2000.0</td>\n",
       "      <td>2019.0</td>\n",
       "      <td>1200.0</td>\n",
       "      <td>1100.0</td>\n",
       "      <td>1069.0</td>\n",
       "      <td>1000.0</td>\n",
       "      <td>0.0</td>\n",
       "    </tr>\n",
       "    <tr>\n",
       "      <th>4</th>\n",
       "      <td>5</td>\n",
       "      <td>50000</td>\n",
       "      <td>1.0</td>\n",
       "      <td>2.0</td>\n",
       "      <td>1.0</td>\n",
       "      <td>57.0</td>\n",
       "      <td>-1.0</td>\n",
       "      <td>0.0</td>\n",
       "      <td>-1.0</td>\n",
       "      <td>0.0</td>\n",
       "      <td>0.0</td>\n",
       "      <td>0.0</td>\n",
       "      <td>8617.0</td>\n",
       "      <td>5670.0</td>\n",
       "      <td>35835.0</td>\n",
       "      <td>20940.0</td>\n",
       "      <td>19146.0</td>\n",
       "      <td>19131.0</td>\n",
       "      <td>2000.0</td>\n",
       "      <td>36681.0</td>\n",
       "      <td>10000.0</td>\n",
       "      <td>9000.0</td>\n",
       "      <td>689.0</td>\n",
       "      <td>679.0</td>\n",
       "      <td>0.0</td>\n",
       "    </tr>\n",
       "  </tbody>\n",
       "</table>\n",
       "</div>"
      ],
      "text/plain": [
       "   ID  LIMIT_BAL  SEX  ...  PAY_AMT5  PAY_AMT6  default payment next month\n",
       "0   1      20000  2.0  ...       0.0       0.0                         1.0\n",
       "1   2     120000  2.0  ...       0.0    2000.0                         1.0\n",
       "2   3      90000  2.0  ...    1000.0    5000.0                         0.0\n",
       "3   4      50000  2.0  ...    1069.0    1000.0                         0.0\n",
       "4   5      50000  1.0  ...     689.0     679.0                         0.0\n",
       "\n",
       "[5 rows x 25 columns]"
      ]
     },
     "execution_count": 4,
     "metadata": {
      "tags": []
     },
     "output_type": "execute_result"
    }
   ],
   "source": [
    "#Vista previa de la información contenida en el DataSet.\n",
    "data.head() "
   ]
  },
  {
   "cell_type": "code",
   "execution_count": 5,
   "metadata": {
    "colab": {
     "base_uri": "https://localhost:8080/",
     "height": 527
    },
    "colab_type": "code",
    "id": "hKTutNdjogFh",
    "outputId": "9c8ee837-fd6b-452a-f8de-362b7664a7db"
   },
   "outputs": [
    {
     "name": "stdout",
     "output_type": "stream",
     "text": [
      "<class 'pandas.core.frame.DataFrame'>\n",
      "RangeIndex: 10977 entries, 0 to 10976\n",
      "Data columns (total 25 columns):\n",
      "ID                            10977 non-null int64\n",
      "LIMIT_BAL                     10977 non-null int64\n",
      "SEX                           10976 non-null float64\n",
      "EDUCATION                     10976 non-null float64\n",
      "MARRIAGE                      10976 non-null float64\n",
      "AGE                           10976 non-null float64\n",
      "PAY_0                         10976 non-null float64\n",
      "PAY_2                         10976 non-null float64\n",
      "PAY_3                         10976 non-null float64\n",
      "PAY_4                         10976 non-null float64\n",
      "PAY_5                         10976 non-null float64\n",
      "PAY_6                         10976 non-null float64\n",
      "BILL_AMT1                     10976 non-null float64\n",
      "BILL_AMT2                     10976 non-null float64\n",
      "BILL_AMT3                     10976 non-null float64\n",
      "BILL_AMT4                     10976 non-null float64\n",
      "BILL_AMT5                     10976 non-null float64\n",
      "BILL_AMT6                     10976 non-null float64\n",
      "PAY_AMT1                      10976 non-null float64\n",
      "PAY_AMT2                      10976 non-null float64\n",
      "PAY_AMT3                      10976 non-null float64\n",
      "PAY_AMT4                      10976 non-null float64\n",
      "PAY_AMT5                      10976 non-null float64\n",
      "PAY_AMT6                      10976 non-null float64\n",
      "default payment next month    10976 non-null float64\n",
      "dtypes: float64(23), int64(2)\n",
      "memory usage: 2.1 MB\n"
     ]
    }
   ],
   "source": [
    "#Estructura de las columnas que tiene el DataSet.\n",
    "data.info()"
   ]
  },
  {
   "cell_type": "markdown",
   "metadata": {
    "colab_type": "text",
    "id": "rO3mkaKApjsT"
   },
   "source": [
    "**De lo anterior se puede apreciar que existen valores nulos.\n",
    "Es solo un registro que no tiene información y por ende procedemos a eliminarlo**"
   ]
  },
  {
   "cell_type": "code",
   "execution_count": 6,
   "metadata": {
    "colab": {
     "base_uri": "https://localhost:8080/",
     "height": 151
    },
    "colab_type": "code",
    "id": "0JIC5LuDomSP",
    "outputId": "87ef0524-59ef-4a7e-dfdc-752433189610"
   },
   "outputs": [
    {
     "data": {
      "text/html": [
       "<div>\n",
       "<style scoped>\n",
       "    .dataframe tbody tr th:only-of-type {\n",
       "        vertical-align: middle;\n",
       "    }\n",
       "\n",
       "    .dataframe tbody tr th {\n",
       "        vertical-align: top;\n",
       "    }\n",
       "\n",
       "    .dataframe thead th {\n",
       "        text-align: right;\n",
       "    }\n",
       "</style>\n",
       "<table border=\"1\" class=\"dataframe\">\n",
       "  <thead>\n",
       "    <tr style=\"text-align: right;\">\n",
       "      <th></th>\n",
       "      <th>ID</th>\n",
       "      <th>LIMIT_BAL</th>\n",
       "      <th>SEX</th>\n",
       "      <th>EDUCATION</th>\n",
       "      <th>MARRIAGE</th>\n",
       "      <th>AGE</th>\n",
       "      <th>PAY_0</th>\n",
       "      <th>PAY_2</th>\n",
       "      <th>PAY_3</th>\n",
       "      <th>PAY_4</th>\n",
       "      <th>PAY_5</th>\n",
       "      <th>PAY_6</th>\n",
       "      <th>BILL_AMT1</th>\n",
       "      <th>BILL_AMT2</th>\n",
       "      <th>BILL_AMT3</th>\n",
       "      <th>BILL_AMT4</th>\n",
       "      <th>BILL_AMT5</th>\n",
       "      <th>BILL_AMT6</th>\n",
       "      <th>PAY_AMT1</th>\n",
       "      <th>PAY_AMT2</th>\n",
       "      <th>PAY_AMT3</th>\n",
       "      <th>PAY_AMT4</th>\n",
       "      <th>PAY_AMT5</th>\n",
       "      <th>PAY_AMT6</th>\n",
       "      <th>default payment next month</th>\n",
       "    </tr>\n",
       "  </thead>\n",
       "  <tbody>\n",
       "    <tr>\n",
       "      <th>10976</th>\n",
       "      <td>10977</td>\n",
       "      <td>2</td>\n",
       "      <td>NaN</td>\n",
       "      <td>NaN</td>\n",
       "      <td>NaN</td>\n",
       "      <td>NaN</td>\n",
       "      <td>NaN</td>\n",
       "      <td>NaN</td>\n",
       "      <td>NaN</td>\n",
       "      <td>NaN</td>\n",
       "      <td>NaN</td>\n",
       "      <td>NaN</td>\n",
       "      <td>NaN</td>\n",
       "      <td>NaN</td>\n",
       "      <td>NaN</td>\n",
       "      <td>NaN</td>\n",
       "      <td>NaN</td>\n",
       "      <td>NaN</td>\n",
       "      <td>NaN</td>\n",
       "      <td>NaN</td>\n",
       "      <td>NaN</td>\n",
       "      <td>NaN</td>\n",
       "      <td>NaN</td>\n",
       "      <td>NaN</td>\n",
       "      <td>NaN</td>\n",
       "    </tr>\n",
       "  </tbody>\n",
       "</table>\n",
       "</div>"
      ],
      "text/plain": [
       "          ID  LIMIT_BAL  SEX  ...  PAY_AMT5  PAY_AMT6  default payment next month\n",
       "10976  10977          2  NaN  ...       NaN       NaN                         NaN\n",
       "\n",
       "[1 rows x 25 columns]"
      ]
     },
     "execution_count": 6,
     "metadata": {
      "tags": []
     },
     "output_type": "execute_result"
    }
   ],
   "source": [
    "data.loc[data['SEX'].isnull() == True]"
   ]
  },
  {
   "cell_type": "code",
   "execution_count": 0,
   "metadata": {
    "colab": {},
    "colab_type": "code",
    "id": "H4v-N7Nsq1EB"
   },
   "outputs": [],
   "source": [
    "data.drop(10976, inplace=True)"
   ]
  },
  {
   "cell_type": "code",
   "execution_count": 0,
   "metadata": {
    "colab": {},
    "colab_type": "code",
    "id": "3e_WHHq-62-T"
   },
   "outputs": [],
   "source": [
    "#Transformamos variables numericas a tipo categoricas.\n",
    "data['SEX']=pd.to_numeric(data[\"SEX\"], downcast = 'integer').astype('category')\n",
    "data['EDUCATION']=pd.to_numeric(data[\"EDUCATION\"], downcast = 'integer').astype('category')\n",
    "data['MARRIAGE']=pd.to_numeric(data[\"MARRIAGE\"], downcast = 'integer').astype('category')\n",
    "data['default payment next month']=pd.to_numeric(data[\"default payment next month\"], downcast = 'integer').astype('category')\n"
   ]
  },
  {
   "cell_type": "code",
   "execution_count": 20,
   "metadata": {
    "colab": {
     "base_uri": "https://localhost:8080/",
     "height": 153
    },
    "colab_type": "code",
    "id": "b-0yMdTYsNpK",
    "outputId": "1ffac910-54fc-4731-c048-d5f7b044015d"
   },
   "outputs": [
    {
     "name": "stdout",
     "output_type": "stream",
     "text": [
      "Valores de la variable SEX: [2, 1]\n",
      "Categories (2, int64): [2, 1]\n",
      "Valores de la variable EDUCATION: [2, 1, 3, 5, 4, 6, 0]\n",
      "Categories (7, int64): [2, 1, 3, 5, 4, 6, 0]\n",
      "Valores de la variable MARRIAGE: [1, 2, 3, 0]\n",
      "Categories (4, int64): [1, 2, 3, 0]\n",
      "Valores de la variable default payment next month: [1, 0]\n",
      "Categories (2, int64): [1, 0]\n"
     ]
    }
   ],
   "source": [
    "### Valores unicos de cada variable categórica\n",
    "variables_categoricas = [c for c in data if not pd.api.types.is_numeric_dtype(data[c])]\n",
    "for v in variables_categoricas:\n",
    "    print('Valores de la variable {0}: {1}'.format(v, data[v].unique()))"
   ]
  },
  {
   "cell_type": "code",
   "execution_count": 0,
   "metadata": {
    "colab": {},
    "colab_type": "code",
    "id": "6E55JG1595O-"
   },
   "outputs": [],
   "source": [
    "### Diccionario con equivalencias de los campos MARRIAGE, SEX, EDUCATION. \n",
    "### Tomada de https://archive.ics.uci.edu/ml/datasets/default+of+credit+card+clients\n",
    "diccionario = {'MARRIAGE': {1:'Casado', 2:'Soltero', 3:'Otros'},\n",
    "       'SEX': {1:'Masculino', 2:'Femenino'},\n",
    "        'EDUCATION': {1:'Posgrado', 2:'Universidad', 3:'Secundaria', 4:'Otros'}\n",
    "       }\n",
    "print(diccionario)"
   ]
  },
  {
   "cell_type": "code",
   "execution_count": 26,
   "metadata": {
    "colab": {
     "base_uri": "https://localhost:8080/",
     "height": 746
    },
    "colab_type": "code",
    "id": "jiYLO1WKtrif",
    "outputId": "c7b1a4b7-f989-4c61-8b18-c6e4c20e5faf"
   },
   "outputs": [
    {
     "data": {
      "text/plain": [
       "<Figure size 432x288 with 0 Axes>"
      ]
     },
     "metadata": {
      "tags": []
     },
     "output_type": "display_data"
    },
    {
     "data": {
      "image/png": "[encoded data removed]",
      "text/plain": [
       "<Figure size 504x720 with 3 Axes>"
      ]
     },
     "metadata": {
      "tags": []
     },
     "output_type": "display_data"
    }
   ],
   "source": [
    "def graficoDataSet():  \n",
    "  plt.clf()\n",
    "  fig, axes = plt.subplots(nrows=3, ncols=1, figsize=(7,10))\n",
    "\n",
    "  #if sns.__version__ >= '0.9.0':\n",
    "  sns.countplot(x = 'SEX', hue='default payment next month', data=data, ax = axes[0])\n",
    "  #plt.title('Distribución de Morosidad por Sexo del Cliente ')\n",
    "  axes[0].set_title('SEX')\n",
    "  axes[0].set_ylabel('Cantidad de Clientes')\n",
    "  axes[0].set_xlabel('')\n",
    "  axes[0].set_xticklabels(['Masculino', 'Femenino'])\n",
    "  #plt.show()\n",
    "\n",
    "  #if sns.__version__ >= '0.9.0':\n",
    "  sns.countplot(x = 'EDUCATION', hue='default payment next month', data=data, ax = axes[1])\n",
    "  #plt.title('Distribución de Morosidad por Educación ')\n",
    "  axes[1].set_title('EDUCATION')\n",
    "  axes[1].set_ylabel('Cantidad de Clientes')\n",
    "  axes[1].set_xlabel(diccionario['EDUCATION'])\n",
    "  #plt.show()\n",
    "\n",
    "  #if sns.__version__ >= '0.9.0':\n",
    "  sns.countplot(x = 'MARRIAGE', hue='default payment next month', data=data, ax = axes[2])\n",
    "  #plt.title('Distribución de Morosidad por Estado Civil ')\n",
    "  axes[2].set_title('MARRIAGE')\n",
    "  axes[2].set_ylabel('Cantidad de Clientes')\n",
    "  axes[2].set_xlabel(diccionario['MARRIAGE'])\n",
    "  #plt.show()\n",
    "\n",
    "  plt.tight_layout()\n",
    "  plt.savefig('GraficoDataSet.png')\n",
    "\n",
    "graficoDataSet()  "
   ]
  },
  {
   "cell_type": "markdown",
   "metadata": {
    "colab_type": "text",
    "id": "_qy5cF-q_FUb"
   },
   "source": [
    "**Se puede apreciar que existen categorías las cuales no están descritas en el origen del DataSet (https://archive.ics.uci.edu/ml/datasets/default+of+credit+card+clients) \n",
    "Estos casos serán incluidos com parte de la categoría Otros.**"
   ]
  },
  {
   "cell_type": "code",
   "execution_count": 22,
   "metadata": {
    "colab": {
     "base_uri": "https://localhost:8080/",
     "height": 85
    },
    "colab_type": "code",
    "id": "mc0DMfh4JC8r",
    "outputId": "a4874245-c76d-45c3-f226-fe4f42388f44"
   },
   "outputs": [
    {
     "data": {
      "text/plain": [
       "2    5993\n",
       "1    4834\n",
       "3     149\n",
       "Name: MARRIAGE, dtype: int64"
      ]
     },
     "execution_count": 22,
     "metadata": {
      "tags": []
     },
     "output_type": "execute_result"
    }
   ],
   "source": [
    "data['EDUCATION'].replace({0:4, 5:4, 6:4}, inplace = True)\n",
    "data['EDUCATION'].value_counts()\n",
    "\n",
    "data['MARRIAGE'].replace({0:3}, inplace = True)\n",
    "data['MARRIAGE'].value_counts()"
   ]
  },
  {
   "cell_type": "code",
   "execution_count": 25,
   "metadata": {
    "colab": {
     "base_uri": "https://localhost:8080/",
     "height": 746
    },
    "colab_type": "code",
    "id": "epHD76PMAJkA",
    "outputId": "3fd045e5-5e97-45fd-89b1-558a3f4982d8"
   },
   "outputs": [
    {
     "data": {
      "text/plain": [
       "<Figure size 432x288 with 0 Axes>"
      ]
     },
     "metadata": {
      "tags": []
     },
     "output_type": "display_data"
    },
    {
     "data": {
      "image/png": "[encoded data removed]",
      "text/plain": [
       "<Figure size 504x720 with 3 Axes>"
      ]
     },
     "metadata": {
      "tags": []
     },
     "output_type": "display_data"
    }
   ],
   "source": [
    "#Generamos el nuevo gráfico luego de modificar las variables categóricas.\n",
    "graficoDataSet()"
   ]
  },
  {
   "cell_type": "code",
   "execution_count": 47,
   "metadata": {
    "colab": {
     "base_uri": "https://localhost:8080/",
     "height": 102
    },
    "colab_type": "code",
    "id": "YCiL8HazaqhW",
    "outputId": "22adce1d-196f-4279-87e3-0edcd9065fbb"
   },
   "outputs": [
    {
     "data": {
      "text/plain": [
       "Index(['ID', 'LIMIT_BAL', 'SEX', 'EDUCATION', 'MARRIAGE', 'AGE', 'PAY_1',\n",
       "       'PAY_2', 'PAY_3', 'PAY_4', 'PAY_5', 'PAY_6', 'BILL_AMT1', 'BILL_AMT2',\n",
       "       'BILL_AMT3', 'BILL_AMT4', 'BILL_AMT5', 'BILL_AMT6', 'PAY_AMT1',\n",
       "       'PAY_AMT2', 'PAY_AMT3', 'PAY_AMT4', 'PAY_AMT5', 'PAY_AMT6', 'default'],\n",
       "      dtype='object')"
      ]
     },
     "execution_count": 47,
     "metadata": {
      "tags": []
     },
     "output_type": "execute_result"
    }
   ],
   "source": [
    "#Renombramos algunas columnas\n",
    "data.rename(columns = {'PAY_0': 'PAY_1', \n",
    "                     'default payment next month':'default'}, \n",
    "                                 inplace = True) \n",
    "data.columns"
   ]
  },
  {
   "cell_type": "code",
   "execution_count": 0,
   "metadata": {
    "colab": {},
    "colab_type": "code",
    "id": "PlW778VmFgEr"
   },
   "outputs": [],
   "source": [
    "### Exportamos la data preprocesada\n",
    "data.to_csv(\"CreditCardData_Processed.csv\")"
   ]
  },
  {
   "cell_type": "code",
   "execution_count": 49,
   "metadata": {
    "colab": {
     "base_uri": "https://localhost:8080/",
     "height": 34
    },
    "colab_type": "code",
    "id": "v3z1wY0ZPFNQ",
    "outputId": "113da14b-7c7b-4fd5-f945-548129082825"
   },
   "outputs": [
    {
     "data": {
      "text/plain": [
       "(10976, 25)"
      ]
     },
     "execution_count": 49,
     "metadata": {
      "tags": []
     },
     "output_type": "execute_result"
    }
   ],
   "source": [
    "data.shape"
   ]
  },
  {
   "cell_type": "markdown",
   "metadata": {
    "colab_type": "text",
    "id": "okBB5gxVTvN1"
   },
   "source": [
    "# Entrenamiento"
   ]
  },
  {
   "cell_type": "markdown",
   "metadata": {
    "colab_type": "text",
    "id": "5h17R9Z9UGgQ"
   },
   "source": [
    "Separamos el conjunto de datos en Entrenamiento (60%) Validación (20%) y Test(20%)"
   ]
  },
  {
   "cell_type": "code",
   "execution_count": 46,
   "metadata": {
    "colab": {
     "base_uri": "https://localhost:8080/",
     "height": 68
    },
    "colab_type": "code",
    "id": "-CsDKSbYTzSC",
    "outputId": "f88fe13f-a9b4-417e-8c06-42b767483281"
   },
   "outputs": [
    {
     "name": "stdout",
     "output_type": "stream",
     "text": [
      "(6585,)\n",
      "(2195,)\n",
      "(2196,)\n"
     ]
    }
   ],
   "source": [
    "from sklearn.model_selection import train_test_split\n",
    "\n",
    "indices = data.index.values\n",
    "\n",
    "### INICIO DE TU CÓDIGO\n",
    "indices_trainval, indices_test = train_test_split(indices, test_size=0.2, random_state=0)\n",
    "indices_train, indices_val = train_test_split(indices_trainval, test_size=0.25, random_state=0)\n",
    "### FIN DE TU CÓDIGO\n",
    "\n",
    "# El conjunto de entrenamiento es: data.loc[indices_train]\n",
    "# El conjunto de validación es: data.loc[indices_val]\n",
    "# El conjunto de prueba es: data.loc[indices_test]\n",
    "\n",
    "print(indices_train.shape) #60%\n",
    "print(indices_val.shape) #20%\n",
    "print(indices_test.shape) #20%"
   ]
  }
 ],
 "metadata": {
  "colab": {
   "name": "DefaultCreditCard.ipynb",
   "provenance": [],
   "toc_visible": true,
   "version": "0.3.2"
  },
  "kernelspec": {
   "display_name": "Python 3",
   "language": "python",
   "name": "python3"
  },
  "language_info": {
   "codemirror_mode": {
    "name": "ipython",
    "version": 3
   },
   "file_extension": ".py",
   "mimetype": "text/x-python",
   "name": "python",
   "nbconvert_exporter": "python",
   "pygments_lexer": "ipython3",
   "version": "3.7.1"
  }
 },
 "nbformat": 4,
 "nbformat_minor": 1
}
