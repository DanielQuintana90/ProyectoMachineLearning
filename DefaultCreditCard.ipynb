{
 "cells": [
  {
   "cell_type": "markdown",
   "metadata": {
    "colab_type": "text",
    "id": "wv5BgG-Jrn58"
   },
   "source": [
    "# Análisis y Tratamiento de los Datos"
   ]
  },
  {
   "cell_type": "code",
   "execution_count": 1,
   "metadata": {
    "colab": {},
    "colab_type": "code",
    "id": "TuRpelIlik64"
   },
   "outputs": [],
   "source": [
    "import pickle\n",
    "import numpy as np\n",
    "import pandas as pd\n",
    "import seaborn as sns\n",
    "import matplotlib.pyplot as plt\n",
    "%matplotlib inline"
   ]
  },
  {
   "cell_type": "code",
   "execution_count": 2,
   "metadata": {
    "colab": {
     "base_uri": "https://localhost:8080/",
     "height": 292
    },
    "colab_type": "code",
    "executionInfo": {
     "elapsed": 620,
     "status": "ok",
     "timestamp": 1560708470662,
     "user": {
      "displayName": "DANIEL ANDRE QUINTANA BEDOYA",
      "photoUrl": "https://lh3.googleusercontent.com/-1SCJJU_TiBY/AAAAAAAAAAI/AAAAAAAAAAc/ajTyo--pV5o/s64/photo.jpg",
      "userId": "14237098614139855899"
     },
     "user_tz": 300
    },
    "id": "jwsVc4xniFR3",
    "outputId": "0e367c21-02e9-4f1d-c6f3-5e518f02516b"
   },
   "outputs": [
    {
     "name": "stdout",
     "output_type": "stream",
     "text": [
      "(30000, 26)\n"
     ]
    },
    {
     "data": {
      "text/html": [
       "<div>\n",
       "<style scoped>\n",
       "    .dataframe tbody tr th:only-of-type {\n",
       "        vertical-align: middle;\n",
       "    }\n",
       "\n",
       "    .dataframe tbody tr th {\n",
       "        vertical-align: top;\n",
       "    }\n",
       "\n",
       "    .dataframe thead th {\n",
       "        text-align: right;\n",
       "    }\n",
       "</style>\n",
       "<table border=\"1\" class=\"dataframe\">\n",
       "  <thead>\n",
       "    <tr style=\"text-align: right;\">\n",
       "      <th></th>\n",
       "      <th>ID</th>\n",
       "      <th>LIMIT_BAL</th>\n",
       "      <th>SEX</th>\n",
       "      <th>EDUCATION</th>\n",
       "      <th>MARRIAGE</th>\n",
       "      <th>AGE</th>\n",
       "      <th>PAY_0</th>\n",
       "      <th>PAY_2</th>\n",
       "      <th>PAY_3</th>\n",
       "      <th>PAY_4</th>\n",
       "      <th>...</th>\n",
       "      <th>BILL_AMT4</th>\n",
       "      <th>BILL_AMT5</th>\n",
       "      <th>BILL_AMT6</th>\n",
       "      <th>PAY_AMT1</th>\n",
       "      <th>PAY_AMT2</th>\n",
       "      <th>PAY_AMT3</th>\n",
       "      <th>PAY_AMT4</th>\n",
       "      <th>PAY_AMT5</th>\n",
       "      <th>PAY_AMT6</th>\n",
       "      <th>default payment next month</th>\n",
       "    </tr>\n",
       "  </thead>\n",
       "  <tbody>\n",
       "    <tr>\n",
       "      <th>0</th>\n",
       "      <td>1</td>\n",
       "      <td>20000.0</td>\n",
       "      <td>2</td>\n",
       "      <td>2</td>\n",
       "      <td>1</td>\n",
       "      <td>24</td>\n",
       "      <td>2</td>\n",
       "      <td>2</td>\n",
       "      <td>-1</td>\n",
       "      <td>-1</td>\n",
       "      <td>...</td>\n",
       "      <td>0.0</td>\n",
       "      <td>0.0</td>\n",
       "      <td>0.0</td>\n",
       "      <td>0.0</td>\n",
       "      <td>689.0</td>\n",
       "      <td>0.0</td>\n",
       "      <td>0.0</td>\n",
       "      <td>0.0</td>\n",
       "      <td>0.0</td>\n",
       "      <td>1</td>\n",
       "    </tr>\n",
       "    <tr>\n",
       "      <th>1</th>\n",
       "      <td>2</td>\n",
       "      <td>120000.0</td>\n",
       "      <td>2</td>\n",
       "      <td>2</td>\n",
       "      <td>2</td>\n",
       "      <td>26</td>\n",
       "      <td>-1</td>\n",
       "      <td>2</td>\n",
       "      <td>0</td>\n",
       "      <td>0</td>\n",
       "      <td>...</td>\n",
       "      <td>3272.0</td>\n",
       "      <td>3455.0</td>\n",
       "      <td>3261.0</td>\n",
       "      <td>0.0</td>\n",
       "      <td>1000.0</td>\n",
       "      <td>1000.0</td>\n",
       "      <td>1000.0</td>\n",
       "      <td>0.0</td>\n",
       "      <td>2000.0</td>\n",
       "      <td>1</td>\n",
       "    </tr>\n",
       "    <tr>\n",
       "      <th>2</th>\n",
       "      <td>3</td>\n",
       "      <td>90000.0</td>\n",
       "      <td>2</td>\n",
       "      <td>2</td>\n",
       "      <td>2</td>\n",
       "      <td>34</td>\n",
       "      <td>0</td>\n",
       "      <td>0</td>\n",
       "      <td>0</td>\n",
       "      <td>0</td>\n",
       "      <td>...</td>\n",
       "      <td>14331.0</td>\n",
       "      <td>14948.0</td>\n",
       "      <td>15549.0</td>\n",
       "      <td>1518.0</td>\n",
       "      <td>1500.0</td>\n",
       "      <td>1000.0</td>\n",
       "      <td>1000.0</td>\n",
       "      <td>1000.0</td>\n",
       "      <td>5000.0</td>\n",
       "      <td>0</td>\n",
       "    </tr>\n",
       "    <tr>\n",
       "      <th>3</th>\n",
       "      <td>4</td>\n",
       "      <td>50000.0</td>\n",
       "      <td>2</td>\n",
       "      <td>2</td>\n",
       "      <td>1</td>\n",
       "      <td>37</td>\n",
       "      <td>0</td>\n",
       "      <td>0</td>\n",
       "      <td>0</td>\n",
       "      <td>0</td>\n",
       "      <td>...</td>\n",
       "      <td>28314.0</td>\n",
       "      <td>28959.0</td>\n",
       "      <td>29547.0</td>\n",
       "      <td>2000.0</td>\n",
       "      <td>2019.0</td>\n",
       "      <td>1200.0</td>\n",
       "      <td>1100.0</td>\n",
       "      <td>1069.0</td>\n",
       "      <td>1000.0</td>\n",
       "      <td>0</td>\n",
       "    </tr>\n",
       "    <tr>\n",
       "      <th>4</th>\n",
       "      <td>5</td>\n",
       "      <td>50000.0</td>\n",
       "      <td>1</td>\n",
       "      <td>2</td>\n",
       "      <td>1</td>\n",
       "      <td>57</td>\n",
       "      <td>-1</td>\n",
       "      <td>0</td>\n",
       "      <td>-1</td>\n",
       "      <td>0</td>\n",
       "      <td>...</td>\n",
       "      <td>20940.0</td>\n",
       "      <td>19146.0</td>\n",
       "      <td>19131.0</td>\n",
       "      <td>2000.0</td>\n",
       "      <td>36681.0</td>\n",
       "      <td>10000.0</td>\n",
       "      <td>9000.0</td>\n",
       "      <td>689.0</td>\n",
       "      <td>679.0</td>\n",
       "      <td>0</td>\n",
       "    </tr>\n",
       "  </tbody>\n",
       "</table>\n",
       "<p>5 rows × 25 columns</p>\n",
       "</div>"
      ],
      "text/plain": [
       "   ID  LIMIT_BAL  SEX  EDUCATION  MARRIAGE  AGE  PAY_0  PAY_2  PAY_3  PAY_4  \\\n",
       "0   1    20000.0    2          2         1   24      2      2     -1     -1   \n",
       "1   2   120000.0    2          2         2   26     -1      2      0      0   \n",
       "2   3    90000.0    2          2         2   34      0      0      0      0   \n",
       "3   4    50000.0    2          2         1   37      0      0      0      0   \n",
       "4   5    50000.0    1          2         1   57     -1      0     -1      0   \n",
       "\n",
       "              ...              BILL_AMT4  BILL_AMT5  BILL_AMT6  PAY_AMT1  \\\n",
       "0             ...                    0.0        0.0        0.0       0.0   \n",
       "1             ...                 3272.0     3455.0     3261.0       0.0   \n",
       "2             ...                14331.0    14948.0    15549.0    1518.0   \n",
       "3             ...                28314.0    28959.0    29547.0    2000.0   \n",
       "4             ...                20940.0    19146.0    19131.0    2000.0   \n",
       "\n",
       "   PAY_AMT2  PAY_AMT3  PAY_AMT4  PAY_AMT5  PAY_AMT6  \\\n",
       "0     689.0       0.0       0.0       0.0       0.0   \n",
       "1    1000.0    1000.0    1000.0       0.0    2000.0   \n",
       "2    1500.0    1000.0    1000.0    1000.0    5000.0   \n",
       "3    2019.0    1200.0    1100.0    1069.0    1000.0   \n",
       "4   36681.0   10000.0    9000.0     689.0     679.0   \n",
       "\n",
       "   default payment next month  \n",
       "0                           1  \n",
       "1                           1  \n",
       "2                           0  \n",
       "3                           0  \n",
       "4                           0  \n",
       "\n",
       "[5 rows x 25 columns]"
      ]
     },
     "execution_count": 2,
     "metadata": {},
     "output_type": "execute_result"
    }
   ],
   "source": [
    "#Cargamos el DataSet\n",
    "#data = pd.read_csv(\"drive/My Drive/ML-Proyecto/CreditCardData.csv\")\n",
    "data = pd.read_csv(\"CreditCardData.csv\")\n",
    "#Vista previa de la información contenida en el DataSet.\n",
    "print(data.shape)\n",
    "data.head() \n",
    "data.drop(\"Unnamed: 0\", inplace = True, axis = 1)\n",
    "data.head()"
   ]
  },
  {
   "cell_type": "code",
   "execution_count": 3,
   "metadata": {
    "colab": {
     "base_uri": "https://localhost:8080/",
     "height": 54
    },
    "colab_type": "code",
    "executionInfo": {
     "elapsed": 445,
     "status": "ok",
     "timestamp": 1560708473505,
     "user": {
      "displayName": "DANIEL ANDRE QUINTANA BEDOYA",
      "photoUrl": "https://lh3.googleusercontent.com/-1SCJJU_TiBY/AAAAAAAAAAI/AAAAAAAAAAc/ajTyo--pV5o/s64/photo.jpg",
      "userId": "14237098614139855899"
     },
     "user_tz": 300
    },
    "id": "HGSAgd8lyIpt",
    "outputId": "0519542d-0de3-4b93-adc8-e962d6f07087"
   },
   "outputs": [
    {
     "name": "stdout",
     "output_type": "stream",
     "text": [
      "{'MARRIAGE': {1: 'Casado', 2: 'Soltero', 3: 'Otros'}, 'SEX': {1: 'Masculino', 2: 'Femenino'}, 'EDUCATION': {1: 'Posgrado', 2: 'Universidad', 3: 'Secundaria', 4: 'Otros'}}\n"
     ]
    }
   ],
   "source": [
    "### Diccionario con equivalencias de los campos MARRIAGE, SEX, EDUCATION. \n",
    "### Tomada de https://archive.ics.uci.edu/ml/datasets/default+of+credit+card+clients\n",
    "tags = {'MARRIAGE': {1:'Casado', 2:'Soltero', 3:'Otros'},\n",
    "       'SEX': {1:'Masculino', 2:'Femenino'},\n",
    "       'EDUCATION': {1:'Posgrado', 2:'Universidad', 3:'Secundaria', 4:'Otros'},\n",
    "       }\n",
    "print(tags)"
   ]
  },
  {
   "cell_type": "code",
   "execution_count": 4,
   "metadata": {
    "colab": {
     "base_uri": "https://localhost:8080/",
     "height": 102
    },
    "colab_type": "code",
    "executionInfo": {
     "elapsed": 430,
     "status": "ok",
     "timestamp": 1560708475290,
     "user": {
      "displayName": "DANIEL ANDRE QUINTANA BEDOYA",
      "photoUrl": "https://lh3.googleusercontent.com/-1SCJJU_TiBY/AAAAAAAAAAI/AAAAAAAAAAc/ajTyo--pV5o/s64/photo.jpg",
      "userId": "14237098614139855899"
     },
     "user_tz": 300
    },
    "id": "oUYsT9tToA7_",
    "outputId": "fe32bbb1-eb06-48a9-be97-d90dcf05613b"
   },
   "outputs": [
    {
     "name": "stdout",
     "output_type": "stream",
     "text": [
      "Index(['ID', 'LIMIT_BAL', 'SEX', 'EDUCATION', 'MARRIAGE', 'AGE', 'PAY_0',\n",
      "       'PAY_2', 'PAY_3', 'PAY_4', 'PAY_5', 'PAY_6', 'BILL_AMT1', 'BILL_AMT2',\n",
      "       'BILL_AMT3', 'BILL_AMT4', 'BILL_AMT5', 'BILL_AMT6', 'PAY_AMT1',\n",
      "       'PAY_AMT2', 'PAY_AMT3', 'PAY_AMT4', 'PAY_AMT5', 'PAY_AMT6', 'default'],\n",
      "      dtype='object')\n"
     ]
    }
   ],
   "source": [
    "#Renombramos algunas columnas\n",
    "data.rename(columns = {'default payment next month':'default'}, \n",
    "                                 inplace = True) \n",
    "print(data.columns)"
   ]
  },
  {
   "cell_type": "code",
   "execution_count": 5,
   "metadata": {
    "colab": {
     "base_uri": "https://localhost:8080/",
     "height": 527
    },
    "colab_type": "code",
    "executionInfo": {
     "elapsed": 429,
     "status": "ok",
     "timestamp": 1560708476976,
     "user": {
      "displayName": "DANIEL ANDRE QUINTANA BEDOYA",
      "photoUrl": "https://lh3.googleusercontent.com/-1SCJJU_TiBY/AAAAAAAAAAI/AAAAAAAAAAc/ajTyo--pV5o/s64/photo.jpg",
      "userId": "14237098614139855899"
     },
     "user_tz": 300
    },
    "id": "hKTutNdjogFh",
    "outputId": "09055355-564e-434e-d184-331b1e0b8ae1"
   },
   "outputs": [
    {
     "name": "stdout",
     "output_type": "stream",
     "text": [
      "<class 'pandas.core.frame.DataFrame'>\n",
      "RangeIndex: 30000 entries, 0 to 29999\n",
      "Data columns (total 25 columns):\n",
      "ID           30000 non-null int64\n",
      "LIMIT_BAL    30000 non-null float64\n",
      "SEX          30000 non-null int64\n",
      "EDUCATION    30000 non-null int64\n",
      "MARRIAGE     30000 non-null int64\n",
      "AGE          30000 non-null int64\n",
      "PAY_0        30000 non-null int64\n",
      "PAY_2        30000 non-null int64\n",
      "PAY_3        30000 non-null int64\n",
      "PAY_4        30000 non-null int64\n",
      "PAY_5        30000 non-null int64\n",
      "PAY_6        30000 non-null int64\n",
      "BILL_AMT1    30000 non-null float64\n",
      "BILL_AMT2    30000 non-null float64\n",
      "BILL_AMT3    30000 non-null float64\n",
      "BILL_AMT4    30000 non-null float64\n",
      "BILL_AMT5    30000 non-null float64\n",
      "BILL_AMT6    30000 non-null float64\n",
      "PAY_AMT1     30000 non-null float64\n",
      "PAY_AMT2     30000 non-null float64\n",
      "PAY_AMT3     30000 non-null float64\n",
      "PAY_AMT4     30000 non-null float64\n",
      "PAY_AMT5     30000 non-null float64\n",
      "PAY_AMT6     30000 non-null float64\n",
      "default      30000 non-null int64\n",
      "dtypes: float64(13), int64(12)\n",
      "memory usage: 5.7 MB\n"
     ]
    }
   ],
   "source": [
    "#Estructura de las columnas que tiene el DataSet.\n",
    "data.info()"
   ]
  },
  {
   "cell_type": "code",
   "execution_count": 6,
   "metadata": {
    "colab": {
     "base_uri": "https://localhost:8080/",
     "height": 85
    },
    "colab_type": "code",
    "executionInfo": {
     "elapsed": 701,
     "status": "ok",
     "timestamp": 1560708480066,
     "user": {
      "displayName": "DANIEL ANDRE QUINTANA BEDOYA",
      "photoUrl": "https://lh3.googleusercontent.com/-1SCJJU_TiBY/AAAAAAAAAAI/AAAAAAAAAAc/ajTyo--pV5o/s64/photo.jpg",
      "userId": "14237098614139855899"
     },
     "user_tz": 300
    },
    "id": "9iTgR9umqKkf",
    "outputId": "cdf88cb0-6806-475a-cd5b-f10cda23ad7f"
   },
   "outputs": [
    {
     "name": "stdout",
     "output_type": "stream",
     "text": [
      "Valores de la variable SEX: [2 1]\n",
      "Valores de la variable EDUCATION: [2 1 3 5 4 6 0]\n",
      "Valores de la variable MARRIAGE: [1 2 3 0]\n",
      "Valores de la variable default: [1 0]\n"
     ]
    }
   ],
   "source": [
    "### Valores unicos de cada variable categórica\n",
    "#cat_vars = [c for c in data if not pd.api.types.is_numeric_dtype(data[c])]\n",
    "cat_vars = [\"SEX\", \"EDUCATION\", \"MARRIAGE\", \"default\" ]\n",
    "#cat_vars = [\"SEX\", \"EDUCATION\", \"MARRIAGE\", \"PAY_0\", \"PAY_2\", \"PAY_3\", \"PAY_4\", \"PAY_5\", \"PAY_6\" ]\n",
    "\n",
    "for v in cat_vars:\n",
    "    print('Valores de la variable {0}: {1}'.format(v, data[v].unique()))\n"
   ]
  },
  {
   "cell_type": "code",
   "execution_count": 7,
   "metadata": {
    "colab": {
     "base_uri": "https://localhost:8080/",
     "height": 340
    },
    "colab_type": "code",
    "executionInfo": {
     "elapsed": 427,
     "status": "ok",
     "timestamp": 1560708481945,
     "user": {
      "displayName": "DANIEL ANDRE QUINTANA BEDOYA",
      "photoUrl": "https://lh3.googleusercontent.com/-1SCJJU_TiBY/AAAAAAAAAAI/AAAAAAAAAAc/ajTyo--pV5o/s64/photo.jpg",
      "userId": "14237098614139855899"
     },
     "user_tz": 300
    },
    "id": "RSIqWEZCr7Vs",
    "outputId": "a7550dc3-26df-40ff-be09-efc86faa5e2b"
   },
   "outputs": [
    {
     "name": "stdout",
     "output_type": "stream",
     "text": [
      "2    18112\n",
      "1    11888\n",
      "Name: SEX, dtype: int64\n",
      "2    14030\n",
      "1    10585\n",
      "3     4917\n",
      "5      280\n",
      "4      123\n",
      "6       51\n",
      "0       14\n",
      "Name: EDUCATION, dtype: int64\n",
      "2    15964\n",
      "1    13659\n",
      "3      323\n",
      "0       54\n",
      "Name: MARRIAGE, dtype: int64\n",
      "0    23364\n",
      "1     6636\n",
      "Name: default, dtype: int64\n"
     ]
    }
   ],
   "source": [
    "#Revisamos la cantidad de datos que tiene cada una de las categorías: SEX, EDUCATION, MARRIAGE\n",
    "for v in cat_vars:\n",
    "  print(data[v].value_counts())"
   ]
  },
  {
   "cell_type": "markdown",
   "metadata": {
    "colab_type": "text",
    "id": "cTTZTNC9sgvM"
   },
   "source": [
    "**Se puede apreciar que existen categorías las cuales no están descritas en el origen del DataSet (https://archive.ics.uci.edu/ml/datasets/default+of+credit+card+clients) \n",
    "Por ejemplo, para EDUCATION no se tiene el significado del valor 0,5 y 6, por lo que procederemos a incluirlos dentro de la categoría Otros.**"
   ]
  },
  {
   "cell_type": "code",
   "execution_count": 8,
   "metadata": {
    "colab": {
     "base_uri": "https://localhost:8080/",
     "height": 85
    },
    "colab_type": "code",
    "executionInfo": {
     "elapsed": 416,
     "status": "ok",
     "timestamp": 1560708490387,
     "user": {
      "displayName": "DANIEL ANDRE QUINTANA BEDOYA",
      "photoUrl": "https://lh3.googleusercontent.com/-1SCJJU_TiBY/AAAAAAAAAAI/AAAAAAAAAAc/ajTyo--pV5o/s64/photo.jpg",
      "userId": "14237098614139855899"
     },
     "user_tz": 300
    },
    "id": "4d2Gx-0Xsfdl",
    "outputId": "ed4a7e2a-10f8-4411-a129-0c1c95c68a0c"
   },
   "outputs": [
    {
     "name": "stdout",
     "output_type": "stream",
     "text": [
      "Valores de la variable SEX: [2 1]\n",
      "Valores de la variable EDUCATION: [2 1 3 4]\n",
      "Valores de la variable MARRIAGE: [1 2 3]\n",
      "Valores de la variable default: [1 0]\n"
     ]
    }
   ],
   "source": [
    "data['EDUCATION'].replace({0:3, 5:4, 6:4}, inplace = True)\n",
    "data['MARRIAGE'].replace({0:3}, inplace = True)\n",
    "\n",
    "\n",
    "for v in cat_vars:\n",
    "      print('Valores de la variable {0}: {1}'.format(v, data[v].unique()))"
   ]
  },
  {
   "cell_type": "code",
   "execution_count": 9,
   "metadata": {
    "colab": {
     "base_uri": "https://localhost:8080/",
     "height": 746
    },
    "colab_type": "code",
    "executionInfo": {
     "elapsed": 1504,
     "status": "ok",
     "timestamp": 1560708496597,
     "user": {
      "displayName": "DANIEL ANDRE QUINTANA BEDOYA",
      "photoUrl": "https://lh3.googleusercontent.com/-1SCJJU_TiBY/AAAAAAAAAAI/AAAAAAAAAAc/ajTyo--pV5o/s64/photo.jpg",
      "userId": "14237098614139855899"
     },
     "user_tz": 300
    },
    "id": "bQrLLBD-zl7L",
    "outputId": "c041ce96-0569-4d7f-f248-577e9d983563"
   },
   "outputs": [
    {
     "data": {
      "text/plain": [
       "<Figure size 432x288 with 0 Axes>"
      ]
     },
     "metadata": {},
     "output_type": "display_data"
    },
    {
     "data": {
      "image/png": "[encoded data removed]",
      "text/plain": [
       "<Figure size 504x720 with 3 Axes>"
      ]
     },
     "metadata": {
      "needs_background": "light"
     },
     "output_type": "display_data"
    }
   ],
   "source": [
    "plt.clf()\n",
    "fig, axes = plt.subplots(nrows=3, ncols=1, figsize=(7,10))\n",
    "\n",
    "#if sns.__version__ >= '0.9.0':\n",
    "sns.countplot(x = 'SEX', hue='default', data=data, ax = axes[0])\n",
    "#plt.title('Distribución de Morosidad por Sexo del Cliente ')\n",
    "axes[0].set_title('SEX')\n",
    "axes[0].set_ylabel('Cantidad de Clientes')\n",
    "axes[0].set_xlabel('')\n",
    "axes[0].set_xticklabels(['Masculino', 'Femenino'])\n",
    "#plt.show()\n",
    "\n",
    "#if sns.__version__ >= '0.9.0':\n",
    "sns.countplot(x = 'EDUCATION', hue='default', data=data, ax = axes[1])\n",
    "#plt.title('Distribución de Morosidad por Educación ')\n",
    "axes[1].set_title('EDUCATION')\n",
    "axes[1].set_ylabel('Cantidad de Clientes')\n",
    "axes[1].set_xlabel(tags['EDUCATION'])\n",
    "#plt.show()\n",
    "\n",
    "#if sns.__version__ >= '0.9.0':\n",
    "sns.countplot(x = 'MARRIAGE', hue='default', data=data, ax = axes[2])\n",
    "#plt.title('Distribución de Morosidad por Estado Civil ')\n",
    "axes[2].set_title('MARRIAGE')\n",
    "axes[2].set_ylabel('Cantidad de Clientes')\n",
    "axes[2].set_xlabel(tags['MARRIAGE'])\n",
    "#plt.show()\n",
    "\n",
    "plt.tight_layout()\n",
    "plt.savefig('GraficoDataSet.png')"
   ]
  },
  {
   "cell_type": "code",
   "execution_count": 10,
   "metadata": {
    "colab": {
     "base_uri": "https://localhost:8080/",
     "height": 262
    },
    "colab_type": "code",
    "executionInfo": {
     "elapsed": 8956,
     "status": "ok",
     "timestamp": 1560708508138,
     "user": {
      "displayName": "DANIEL ANDRE QUINTANA BEDOYA",
      "photoUrl": "https://lh3.googleusercontent.com/-1SCJJU_TiBY/AAAAAAAAAAI/AAAAAAAAAAc/ajTyo--pV5o/s64/photo.jpg",
      "userId": "14237098614139855899"
     },
     "user_tz": 300
    },
    "id": "YQeUnYTQod3a",
    "outputId": "fe8d1240-9414-4279-fa3b-e3969fddbf67"
   },
   "outputs": [
    {
     "name": "stdout",
     "output_type": "stream",
     "text": [
      "{'MARRIAGE': {1: 'Casado', 2: 'Soltero', 3: 'Otros'}, 'SEX': {1: 'Masculino', 2: 'Femenino'}, 'EDUCATION': {1: 'Posgrado', 2: 'Universidad', 3: 'Secundaria', 4: 'Otros'}}\n"
     ]
    },
    {
     "data": {
      "image/png": "[encoded data removed]",
      "text/plain": [
       "<Figure size 5011.38x216 with 23 Axes>"
      ]
     },
     "metadata": {
      "needs_background": "light"
     },
     "output_type": "display_data"
    }
   ],
   "source": [
    "#Graficos\n",
    "#Código adaptado de: https://www.kaggle.com/ainslie/credit-card-default-prediction-analysis\n",
    "output = 'default'\n",
    "\n",
    "cols = [ f for f in data.columns if data.dtypes[ f ] != \"object\"]\n",
    "cols.remove( \"ID\")\n",
    "cols.remove( output )\n",
    "\n",
    "f = pd.melt( data, id_vars=output, value_vars=cols)\n",
    "g = sns.FacetGrid( f, hue=output, col=\"variable\", sharex=False, sharey=False )\n",
    "g = g.map( plt.hist, \"value\").add_legend()\n",
    "\n",
    "print(tags)"
   ]
  },
  {
   "cell_type": "markdown",
   "metadata": {
    "colab_type": "text",
    "id": "T7WDYWRS0Olj"
   },
   "source": [
    "Del gráfico anterior se puede apreciar los siguiente:\n",
    "\n",
    "\n",
    "1.   Los clientes morosos (default = 1)  principalmente se concentran en aquellos cuyo LIMIT_BAL no es muy elevado.\n",
    "2.   Si consideramos el sexo, notamos que los clientes del banco son en su mayoría mujeres y además solo una minoría tienen solamente hasta secundaria completa.\n",
    "3. En las variables PAY_x que representan con cuanto retraso el cliente pago su cuota del mes, se aprecia que existen negativos \n",
    "4. La mayoría de clientes usaba la tarjeta de crédito de manera revolvente ( PAY_x = 0)\n",
    "\n"
   ]
  },
  {
   "cell_type": "markdown",
   "metadata": {
    "colab_type": "text",
    "id": "HfDCfDXh8cg4"
   },
   "source": [
    "**Para determinar que variables influyen en el resultado de caer en mora o no usaremos pruebas de hipótesis**"
   ]
  },
  {
   "cell_type": "markdown",
   "metadata": {
    "colab_type": "text",
    "id": "kUYIakLXoA9P"
   },
   "source": [
    "# Reducción de Características\n",
    "\n",
    "```\n",
    "  # En esta oportunidad, evaluaremos la correlación existente entre las variables y la morosidad (default).\n",
    "  # Para el caso de las variables categóricas como SEX, EDUCATION Y MARRIAGE usaremos la prueba de Chi Cuadrado.\n",
    "  # Nos plantearemos la Hipótesis nula siguiente: \"La variable Default es independiente de la variable X\" Donde X puede ser EDUCATION, MARRIAGE o SEX. \n",
    "  # Luego entonces, con un p-valor menor de 5% podremos rechazar la hipótesis nula y afirmar que las variables X y Default son Dependientes y por ende, X influye en la morosidad (default)\n",
    "```\n",
    "\n"
   ]
  },
  {
   "cell_type": "code",
   "execution_count": 11,
   "metadata": {
    "colab": {
     "base_uri": "https://localhost:8080/",
     "height": 204
    },
    "colab_type": "code",
    "executionInfo": {
     "elapsed": 448,
     "status": "ok",
     "timestamp": 1560708517034,
     "user": {
      "displayName": "DANIEL ANDRE QUINTANA BEDOYA",
      "photoUrl": "https://lh3.googleusercontent.com/-1SCJJU_TiBY/AAAAAAAAAAI/AAAAAAAAAAc/ajTyo--pV5o/s64/photo.jpg",
      "userId": "14237098614139855899"
     },
     "user_tz": 300
    },
    "id": "PvWA80TP8vlv",
    "outputId": "67e0ee8a-c0fd-47f4-b33e-49d3730c58d1"
   },
   "outputs": [
    {
     "name": "stdout",
     "output_type": "stream",
     "text": [
      "Nivel de Significancia de 5%\n",
      "Variables categóricas                      : ['SEX' 'EDUCATION' 'MARRIAGE']\n",
      "Chi Cuadrado para las variables            : [ 7.14636693 10.5447729   3.98213116]\n",
      "Resultado del p-valor obtenido             : [0.0075116  0.00116517 0.04598535]\n",
      "Las variables son dependientes con Default?: [ True  True  True]\n",
      "\n",
      "Nivel de Significancia de 1%\n",
      "Variables categóricas                      : ['SEX' 'EDUCATION' 'MARRIAGE']\n",
      "Chi Cuadrado para las variables            : [ 7.14636693 10.5447729   3.98213116]\n",
      "Resultado del p-valor obtenido             : [0.0075116  0.00116517 0.04598535]\n",
      "Las variables son dependientes con Default?: [ True  True False]\n"
     ]
    }
   ],
   "source": [
    "from sklearn.feature_selection import chi2\n",
    "X = data[[\"SEX\", \"EDUCATION\", \"MARRIAGE\"]]\n",
    "Y = data[\"default\"]\n",
    "chi2, pval = chi2(X,Y)\n",
    "sonDependientes = pval < 0.05\n",
    "print(\"Nivel de Significancia de 5%\")\n",
    "print(\"Variables categóricas                      :\" , X.columns.values)\n",
    "print(\"Chi Cuadrado para las variables            :\" , chi2)\n",
    "print(\"Resultado del p-valor obtenido             :\", pval)\n",
    "print(\"Las variables son dependientes con Default?:\", sonDependientes)\n",
    "print()\n",
    "sonDependientes = pval < 0.01\n",
    "print(\"Nivel de Significancia de 1%\")\n",
    "print(\"Variables categóricas                      :\" , X.columns.values)\n",
    "print(\"Chi Cuadrado para las variables            :\" , chi2)\n",
    "print(\"Resultado del p-valor obtenido             :\", pval)\n",
    "print(\"Las variables son dependientes con Default?:\", sonDependientes)"
   ]
  },
  {
   "cell_type": "markdown",
   "metadata": {
    "colab_type": "text",
    "id": "ynP3Y3QtHiKG"
   },
   "source": [
    "**El resultado de la prueba de ChiCuadrado nos dice que efectivamente, existe una relación entre la morosidad y las variables SEX, EDUCATION y MARRIAGE tomando un nivel de significancia del 5%. Sin embargo, para un p-valor de 1%, sólamente SEX y EDUCATION mantienen una correlación con la variable Default.**"
   ]
  },
  {
   "cell_type": "code",
   "execution_count": 12,
   "metadata": {
    "colab": {},
    "colab_type": "code",
    "id": "K2C3UmgqLH8l"
   },
   "outputs": [],
   "source": [
    "#Separamos las variables por tipo\n",
    "quantitative_vars = [\"LIMIT_BAL\", \"AGE\"]\n",
    "categorical_vars = [\"SEX\", \"EDUCATION\"] #No se considera MARRIAGE dado que no está correlacionada con Default.\n",
    "payment_vars = []\n",
    "for i in range(1,7):\n",
    "  payment_vars.append(\"PAY_AMT\" + str( i ) )\n",
    "for i in range(1,7):\n",
    "  payment_vars.append(\"BILL_AMT\" + str( i ) )\n",
    "\n",
    "pay_vars = []\n",
    "for i in [0,2,3,4,5,6]:\n",
    "   pay_vars.append(\"PAY_\" + str( i ) )\n",
    "\n",
    "output_var = [output]"
   ]
  },
  {
   "cell_type": "code",
   "execution_count": 13,
   "metadata": {
    "colab": {
     "base_uri": "https://localhost:8080/",
     "height": 102
    },
    "colab_type": "code",
    "executionInfo": {
     "elapsed": 438,
     "status": "ok",
     "timestamp": 1560708531303,
     "user": {
      "displayName": "DANIEL ANDRE QUINTANA BEDOYA",
      "photoUrl": "https://lh3.googleusercontent.com/-1SCJJU_TiBY/AAAAAAAAAAI/AAAAAAAAAAc/ajTyo--pV5o/s64/photo.jpg",
      "userId": "14237098614139855899"
     },
     "user_tz": 300
    },
    "id": "XwNdZ6iMLyRa",
    "outputId": "675e5a92-5de1-48ea-e5dc-2369d0368272"
   },
   "outputs": [
    {
     "name": "stdout",
     "output_type": "stream",
     "text": [
      "['LIMIT_BAL', 'AGE']\n",
      "['SEX', 'EDUCATION']\n",
      "['PAY_AMT1', 'PAY_AMT2', 'PAY_AMT3', 'PAY_AMT4', 'PAY_AMT5', 'PAY_AMT6', 'BILL_AMT1', 'BILL_AMT2', 'BILL_AMT3', 'BILL_AMT4', 'BILL_AMT5', 'BILL_AMT6']\n",
      "['PAY_0', 'PAY_2', 'PAY_3', 'PAY_4', 'PAY_5', 'PAY_6']\n",
      "['default']\n"
     ]
    }
   ],
   "source": [
    "print(quantitative_vars)\n",
    "print(categorical_vars)\n",
    "print(payment_vars)\n",
    "print(pay_vars)\n",
    "print(output_var)"
   ]
  },
  {
   "cell_type": "code",
   "execution_count": 14,
   "metadata": {
    "colab": {
     "base_uri": "https://localhost:8080/",
     "height": 241
    },
    "colab_type": "code",
    "executionInfo": {
     "elapsed": 432,
     "status": "ok",
     "timestamp": 1560708534074,
     "user": {
      "displayName": "DANIEL ANDRE QUINTANA BEDOYA",
      "photoUrl": "https://lh3.googleusercontent.com/-1SCJJU_TiBY/AAAAAAAAAAI/AAAAAAAAAAc/ajTyo--pV5o/s64/photo.jpg",
      "userId": "14237098614139855899"
     },
     "user_tz": 300
    },
    "id": "c__1vtFPMYO3",
    "outputId": "06f6fd53-cbd8-4a27-ae3d-016c3c999101"
   },
   "outputs": [
    {
     "name": "stdout",
     "output_type": "stream",
     "text": [
      "(30000, 23)\n"
     ]
    },
    {
     "data": {
      "text/html": [
       "<div>\n",
       "<style scoped>\n",
       "    .dataframe tbody tr th:only-of-type {\n",
       "        vertical-align: middle;\n",
       "    }\n",
       "\n",
       "    .dataframe tbody tr th {\n",
       "        vertical-align: top;\n",
       "    }\n",
       "\n",
       "    .dataframe thead th {\n",
       "        text-align: right;\n",
       "    }\n",
       "</style>\n",
       "<table border=\"1\" class=\"dataframe\">\n",
       "  <thead>\n",
       "    <tr style=\"text-align: right;\">\n",
       "      <th></th>\n",
       "      <th>LIMIT_BAL</th>\n",
       "      <th>AGE</th>\n",
       "      <th>PAY_0</th>\n",
       "      <th>PAY_2</th>\n",
       "      <th>PAY_3</th>\n",
       "      <th>PAY_4</th>\n",
       "      <th>PAY_5</th>\n",
       "      <th>PAY_6</th>\n",
       "      <th>PAY_AMT1</th>\n",
       "      <th>PAY_AMT2</th>\n",
       "      <th>...</th>\n",
       "      <th>PAY_AMT6</th>\n",
       "      <th>BILL_AMT1</th>\n",
       "      <th>BILL_AMT2</th>\n",
       "      <th>BILL_AMT3</th>\n",
       "      <th>BILL_AMT4</th>\n",
       "      <th>BILL_AMT5</th>\n",
       "      <th>BILL_AMT6</th>\n",
       "      <th>SEX</th>\n",
       "      <th>EDUCATION</th>\n",
       "      <th>default</th>\n",
       "    </tr>\n",
       "  </thead>\n",
       "  <tbody>\n",
       "    <tr>\n",
       "      <th>0</th>\n",
       "      <td>-1.136720</td>\n",
       "      <td>-1.246020</td>\n",
       "      <td>1.794564</td>\n",
       "      <td>1.782348</td>\n",
       "      <td>-0.696663</td>\n",
       "      <td>-0.666599</td>\n",
       "      <td>-1.530046</td>\n",
       "      <td>-1.486041</td>\n",
       "      <td>-0.341942</td>\n",
       "      <td>-0.227086</td>\n",
       "      <td>...</td>\n",
       "      <td>-0.293382</td>\n",
       "      <td>-0.642501</td>\n",
       "      <td>-0.647399</td>\n",
       "      <td>-0.667993</td>\n",
       "      <td>-0.672497</td>\n",
       "      <td>-0.663059</td>\n",
       "      <td>-0.652724</td>\n",
       "      <td>2</td>\n",
       "      <td>2</td>\n",
       "      <td>1</td>\n",
       "    </tr>\n",
       "    <tr>\n",
       "      <th>1</th>\n",
       "      <td>-0.365981</td>\n",
       "      <td>-1.029047</td>\n",
       "      <td>-0.874991</td>\n",
       "      <td>1.782348</td>\n",
       "      <td>0.138865</td>\n",
       "      <td>0.188746</td>\n",
       "      <td>0.234917</td>\n",
       "      <td>1.992316</td>\n",
       "      <td>-0.341942</td>\n",
       "      <td>-0.213588</td>\n",
       "      <td>...</td>\n",
       "      <td>-0.180878</td>\n",
       "      <td>-0.659219</td>\n",
       "      <td>-0.666747</td>\n",
       "      <td>-0.639254</td>\n",
       "      <td>-0.621636</td>\n",
       "      <td>-0.606229</td>\n",
       "      <td>-0.597966</td>\n",
       "      <td>2</td>\n",
       "      <td>2</td>\n",
       "      <td>1</td>\n",
       "    </tr>\n",
       "    <tr>\n",
       "      <th>2</th>\n",
       "      <td>-0.597202</td>\n",
       "      <td>-0.161156</td>\n",
       "      <td>0.014861</td>\n",
       "      <td>0.111736</td>\n",
       "      <td>0.138865</td>\n",
       "      <td>0.188746</td>\n",
       "      <td>0.234917</td>\n",
       "      <td>0.253137</td>\n",
       "      <td>-0.250292</td>\n",
       "      <td>-0.191887</td>\n",
       "      <td>...</td>\n",
       "      <td>-0.012122</td>\n",
       "      <td>-0.298560</td>\n",
       "      <td>-0.493899</td>\n",
       "      <td>-0.482408</td>\n",
       "      <td>-0.449730</td>\n",
       "      <td>-0.417188</td>\n",
       "      <td>-0.391630</td>\n",
       "      <td>2</td>\n",
       "      <td>2</td>\n",
       "      <td>0</td>\n",
       "    </tr>\n",
       "    <tr>\n",
       "      <th>3</th>\n",
       "      <td>-0.905498</td>\n",
       "      <td>0.164303</td>\n",
       "      <td>0.014861</td>\n",
       "      <td>0.111736</td>\n",
       "      <td>0.138865</td>\n",
       "      <td>0.188746</td>\n",
       "      <td>0.234917</td>\n",
       "      <td>0.253137</td>\n",
       "      <td>-0.221191</td>\n",
       "      <td>-0.169361</td>\n",
       "      <td>...</td>\n",
       "      <td>-0.237130</td>\n",
       "      <td>-0.057491</td>\n",
       "      <td>-0.013293</td>\n",
       "      <td>0.032846</td>\n",
       "      <td>-0.232373</td>\n",
       "      <td>-0.186729</td>\n",
       "      <td>-0.156579</td>\n",
       "      <td>2</td>\n",
       "      <td>2</td>\n",
       "      <td>0</td>\n",
       "    </tr>\n",
       "    <tr>\n",
       "      <th>4</th>\n",
       "      <td>-0.905498</td>\n",
       "      <td>2.334029</td>\n",
       "      <td>-0.874991</td>\n",
       "      <td>0.111736</td>\n",
       "      <td>-0.696663</td>\n",
       "      <td>0.188746</td>\n",
       "      <td>0.234917</td>\n",
       "      <td>0.253137</td>\n",
       "      <td>-0.221191</td>\n",
       "      <td>1.335034</td>\n",
       "      <td>...</td>\n",
       "      <td>-0.255187</td>\n",
       "      <td>-0.578618</td>\n",
       "      <td>-0.611318</td>\n",
       "      <td>-0.161189</td>\n",
       "      <td>-0.346997</td>\n",
       "      <td>-0.348137</td>\n",
       "      <td>-0.331482</td>\n",
       "      <td>1</td>\n",
       "      <td>2</td>\n",
       "      <td>0</td>\n",
       "    </tr>\n",
       "  </tbody>\n",
       "</table>\n",
       "<p>5 rows × 23 columns</p>\n",
       "</div>"
      ],
      "text/plain": [
       "   LIMIT_BAL       AGE     PAY_0     PAY_2     PAY_3     PAY_4     PAY_5  \\\n",
       "0  -1.136720 -1.246020  1.794564  1.782348 -0.696663 -0.666599 -1.530046   \n",
       "1  -0.365981 -1.029047 -0.874991  1.782348  0.138865  0.188746  0.234917   \n",
       "2  -0.597202 -0.161156  0.014861  0.111736  0.138865  0.188746  0.234917   \n",
       "3  -0.905498  0.164303  0.014861  0.111736  0.138865  0.188746  0.234917   \n",
       "4  -0.905498  2.334029 -0.874991  0.111736 -0.696663  0.188746  0.234917   \n",
       "\n",
       "      PAY_6  PAY_AMT1  PAY_AMT2   ...     PAY_AMT6  BILL_AMT1  BILL_AMT2  \\\n",
       "0 -1.486041 -0.341942 -0.227086   ...    -0.293382  -0.642501  -0.647399   \n",
       "1  1.992316 -0.341942 -0.213588   ...    -0.180878  -0.659219  -0.666747   \n",
       "2  0.253137 -0.250292 -0.191887   ...    -0.012122  -0.298560  -0.493899   \n",
       "3  0.253137 -0.221191 -0.169361   ...    -0.237130  -0.057491  -0.013293   \n",
       "4  0.253137 -0.221191  1.335034   ...    -0.255187  -0.578618  -0.611318   \n",
       "\n",
       "   BILL_AMT3  BILL_AMT4  BILL_AMT5  BILL_AMT6  SEX  EDUCATION  default  \n",
       "0  -0.667993  -0.672497  -0.663059  -0.652724    2          2        1  \n",
       "1  -0.639254  -0.621636  -0.606229  -0.597966    2          2        1  \n",
       "2  -0.482408  -0.449730  -0.417188  -0.391630    2          2        0  \n",
       "3   0.032846  -0.232373  -0.186729  -0.156579    2          2        0  \n",
       "4  -0.161189  -0.346997  -0.348137  -0.331482    1          2        0  \n",
       "\n",
       "[5 rows x 23 columns]"
      ]
     },
     "execution_count": 14,
     "metadata": {},
     "output_type": "execute_result"
    }
   ],
   "source": [
    "from sklearn.preprocessing import StandardScaler\n",
    "\n",
    "#feature_columns = data.columns.drop('default')\n",
    "\n",
    "X = data[quantitative_vars + pay_vars + payment_vars ].values.astype(float)\n",
    "#Y = data['default'].values.astype(int)\n",
    "\n",
    "scaler = StandardScaler().fit(X)\n",
    "X_scaled = scaler.transform(X)\n",
    "\n",
    "\n",
    "data_scaled = pd.DataFrame(X_scaled, \n",
    "                           columns = quantitative_vars + pay_vars + payment_vars)\n",
    "data_scaled = pd.concat([data_scaled, data[categorical_vars + output_var]], axis = 1)\n",
    "print(data_scaled.shape)\n",
    "data_scaled.head()"
   ]
  },
  {
   "cell_type": "markdown",
   "metadata": {
    "colab_type": "text",
    "id": "yPjDjOx4b329"
   },
   "source": [
    "Codificamos numéricamente las variables categóricas del conjunto de datos con one-hot encoding.\n"
   ]
  },
  {
   "cell_type": "code",
   "execution_count": 15,
   "metadata": {
    "colab": {
     "base_uri": "https://localhost:8080/",
     "height": 224
    },
    "colab_type": "code",
    "executionInfo": {
     "elapsed": 438,
     "status": "ok",
     "timestamp": 1560708538379,
     "user": {
      "displayName": "DANIEL ANDRE QUINTANA BEDOYA",
      "photoUrl": "https://lh3.googleusercontent.com/-1SCJJU_TiBY/AAAAAAAAAAI/AAAAAAAAAAc/ajTyo--pV5o/s64/photo.jpg",
      "userId": "14237098614139855899"
     },
     "user_tz": 300
    },
    "id": "J3KOKRK_U1Oj",
    "outputId": "83507228-d8a8-4173-ba7d-b69a3b76ba8b"
   },
   "outputs": [
    {
     "data": {
      "text/html": [
       "<div>\n",
       "<style scoped>\n",
       "    .dataframe tbody tr th:only-of-type {\n",
       "        vertical-align: middle;\n",
       "    }\n",
       "\n",
       "    .dataframe tbody tr th {\n",
       "        vertical-align: top;\n",
       "    }\n",
       "\n",
       "    .dataframe thead th {\n",
       "        text-align: right;\n",
       "    }\n",
       "</style>\n",
       "<table border=\"1\" class=\"dataframe\">\n",
       "  <thead>\n",
       "    <tr style=\"text-align: right;\">\n",
       "      <th></th>\n",
       "      <th>LIMIT_BAL</th>\n",
       "      <th>AGE</th>\n",
       "      <th>PAY_0</th>\n",
       "      <th>PAY_2</th>\n",
       "      <th>PAY_3</th>\n",
       "      <th>PAY_4</th>\n",
       "      <th>PAY_5</th>\n",
       "      <th>PAY_6</th>\n",
       "      <th>PAY_AMT1</th>\n",
       "      <th>PAY_AMT2</th>\n",
       "      <th>...</th>\n",
       "      <th>BILL_AMT4</th>\n",
       "      <th>BILL_AMT5</th>\n",
       "      <th>BILL_AMT6</th>\n",
       "      <th>default</th>\n",
       "      <th>SEX_1</th>\n",
       "      <th>SEX_2</th>\n",
       "      <th>EDUCATION_1</th>\n",
       "      <th>EDUCATION_2</th>\n",
       "      <th>EDUCATION_3</th>\n",
       "      <th>EDUCATION_4</th>\n",
       "    </tr>\n",
       "  </thead>\n",
       "  <tbody>\n",
       "    <tr>\n",
       "      <th>0</th>\n",
       "      <td>-1.136720</td>\n",
       "      <td>-1.246020</td>\n",
       "      <td>1.794564</td>\n",
       "      <td>1.782348</td>\n",
       "      <td>-0.696663</td>\n",
       "      <td>-0.666599</td>\n",
       "      <td>-1.530046</td>\n",
       "      <td>-1.486041</td>\n",
       "      <td>-0.341942</td>\n",
       "      <td>-0.227086</td>\n",
       "      <td>...</td>\n",
       "      <td>-0.672497</td>\n",
       "      <td>-0.663059</td>\n",
       "      <td>-0.652724</td>\n",
       "      <td>1</td>\n",
       "      <td>0</td>\n",
       "      <td>1</td>\n",
       "      <td>0</td>\n",
       "      <td>1</td>\n",
       "      <td>0</td>\n",
       "      <td>0</td>\n",
       "    </tr>\n",
       "    <tr>\n",
       "      <th>1</th>\n",
       "      <td>-0.365981</td>\n",
       "      <td>-1.029047</td>\n",
       "      <td>-0.874991</td>\n",
       "      <td>1.782348</td>\n",
       "      <td>0.138865</td>\n",
       "      <td>0.188746</td>\n",
       "      <td>0.234917</td>\n",
       "      <td>1.992316</td>\n",
       "      <td>-0.341942</td>\n",
       "      <td>-0.213588</td>\n",
       "      <td>...</td>\n",
       "      <td>-0.621636</td>\n",
       "      <td>-0.606229</td>\n",
       "      <td>-0.597966</td>\n",
       "      <td>1</td>\n",
       "      <td>0</td>\n",
       "      <td>1</td>\n",
       "      <td>0</td>\n",
       "      <td>1</td>\n",
       "      <td>0</td>\n",
       "      <td>0</td>\n",
       "    </tr>\n",
       "    <tr>\n",
       "      <th>2</th>\n",
       "      <td>-0.597202</td>\n",
       "      <td>-0.161156</td>\n",
       "      <td>0.014861</td>\n",
       "      <td>0.111736</td>\n",
       "      <td>0.138865</td>\n",
       "      <td>0.188746</td>\n",
       "      <td>0.234917</td>\n",
       "      <td>0.253137</td>\n",
       "      <td>-0.250292</td>\n",
       "      <td>-0.191887</td>\n",
       "      <td>...</td>\n",
       "      <td>-0.449730</td>\n",
       "      <td>-0.417188</td>\n",
       "      <td>-0.391630</td>\n",
       "      <td>0</td>\n",
       "      <td>0</td>\n",
       "      <td>1</td>\n",
       "      <td>0</td>\n",
       "      <td>1</td>\n",
       "      <td>0</td>\n",
       "      <td>0</td>\n",
       "    </tr>\n",
       "    <tr>\n",
       "      <th>3</th>\n",
       "      <td>-0.905498</td>\n",
       "      <td>0.164303</td>\n",
       "      <td>0.014861</td>\n",
       "      <td>0.111736</td>\n",
       "      <td>0.138865</td>\n",
       "      <td>0.188746</td>\n",
       "      <td>0.234917</td>\n",
       "      <td>0.253137</td>\n",
       "      <td>-0.221191</td>\n",
       "      <td>-0.169361</td>\n",
       "      <td>...</td>\n",
       "      <td>-0.232373</td>\n",
       "      <td>-0.186729</td>\n",
       "      <td>-0.156579</td>\n",
       "      <td>0</td>\n",
       "      <td>0</td>\n",
       "      <td>1</td>\n",
       "      <td>0</td>\n",
       "      <td>1</td>\n",
       "      <td>0</td>\n",
       "      <td>0</td>\n",
       "    </tr>\n",
       "    <tr>\n",
       "      <th>4</th>\n",
       "      <td>-0.905498</td>\n",
       "      <td>2.334029</td>\n",
       "      <td>-0.874991</td>\n",
       "      <td>0.111736</td>\n",
       "      <td>-0.696663</td>\n",
       "      <td>0.188746</td>\n",
       "      <td>0.234917</td>\n",
       "      <td>0.253137</td>\n",
       "      <td>-0.221191</td>\n",
       "      <td>1.335034</td>\n",
       "      <td>...</td>\n",
       "      <td>-0.346997</td>\n",
       "      <td>-0.348137</td>\n",
       "      <td>-0.331482</td>\n",
       "      <td>0</td>\n",
       "      <td>1</td>\n",
       "      <td>0</td>\n",
       "      <td>0</td>\n",
       "      <td>1</td>\n",
       "      <td>0</td>\n",
       "      <td>0</td>\n",
       "    </tr>\n",
       "  </tbody>\n",
       "</table>\n",
       "<p>5 rows × 27 columns</p>\n",
       "</div>"
      ],
      "text/plain": [
       "   LIMIT_BAL       AGE     PAY_0     PAY_2     PAY_3     PAY_4     PAY_5  \\\n",
       "0  -1.136720 -1.246020  1.794564  1.782348 -0.696663 -0.666599 -1.530046   \n",
       "1  -0.365981 -1.029047 -0.874991  1.782348  0.138865  0.188746  0.234917   \n",
       "2  -0.597202 -0.161156  0.014861  0.111736  0.138865  0.188746  0.234917   \n",
       "3  -0.905498  0.164303  0.014861  0.111736  0.138865  0.188746  0.234917   \n",
       "4  -0.905498  2.334029 -0.874991  0.111736 -0.696663  0.188746  0.234917   \n",
       "\n",
       "      PAY_6  PAY_AMT1  PAY_AMT2     ...       BILL_AMT4  BILL_AMT5  BILL_AMT6  \\\n",
       "0 -1.486041 -0.341942 -0.227086     ...       -0.672497  -0.663059  -0.652724   \n",
       "1  1.992316 -0.341942 -0.213588     ...       -0.621636  -0.606229  -0.597966   \n",
       "2  0.253137 -0.250292 -0.191887     ...       -0.449730  -0.417188  -0.391630   \n",
       "3  0.253137 -0.221191 -0.169361     ...       -0.232373  -0.186729  -0.156579   \n",
       "4  0.253137 -0.221191  1.335034     ...       -0.346997  -0.348137  -0.331482   \n",
       "\n",
       "   default  SEX_1  SEX_2  EDUCATION_1  EDUCATION_2  EDUCATION_3  EDUCATION_4  \n",
       "0        1      0      1            0            1            0            0  \n",
       "1        1      0      1            0            1            0            0  \n",
       "2        0      0      1            0            1            0            0  \n",
       "3        0      0      1            0            1            0            0  \n",
       "4        0      1      0            0            1            0            0  \n",
       "\n",
       "[5 rows x 27 columns]"
      ]
     },
     "execution_count": 15,
     "metadata": {},
     "output_type": "execute_result"
    }
   ],
   "source": [
    "data_scaled = pd.get_dummies(data_scaled, columns = [\"SEX\", \"EDUCATION\"])\n",
    "data_scaled.head()"
   ]
  },
  {
   "cell_type": "code",
   "execution_count": 16,
   "metadata": {
    "colab": {
     "base_uri": "https://localhost:8080/",
     "height": 656
    },
    "colab_type": "code",
    "executionInfo": {
     "elapsed": 3029,
     "status": "ok",
     "timestamp": 1560708544644,
     "user": {
      "displayName": "DANIEL ANDRE QUINTANA BEDOYA",
      "photoUrl": "https://lh3.googleusercontent.com/-1SCJJU_TiBY/AAAAAAAAAAI/AAAAAAAAAAc/ajTyo--pV5o/s64/photo.jpg",
      "userId": "14237098614139855899"
     },
     "user_tz": 300
    },
    "id": "VX9pFZL6JOL6",
    "outputId": "3e39ee0b-02c5-4065-b37d-6f8f10bac03d"
   },
   "outputs": [
    {
     "data": {
      "text/plain": [
       "<matplotlib.axes._subplots.AxesSubplot at 0x7f7c34db4400>"
      ]
     },
     "execution_count": 16,
     "metadata": {},
     "output_type": "execute_result"
    },
    {
     "data": {
      "image/png": "[encoded data removed]",
      "text/plain": [
       "<Figure size 2160x720 with 2 Axes>"
      ]
     },
     "metadata": {
      "needs_background": "light"
     },
     "output_type": "display_data"
    }
   ],
   "source": [
    "#Gráfico adaptado de: https://www.kaggle.com/ainslie/credit-card-default-prediction-analysis\n",
    "features = quantitative_vars + pay_vars + payment_vars + output_var\n",
    "corr = data_scaled[features].corr()\n",
    "plt.subplots(figsize=(30,10))\n",
    "sns.heatmap( corr, square=True, annot=True, fmt=\".2f\" )  "
   ]
  },
  {
   "cell_type": "markdown",
   "metadata": {
    "colab_type": "text",
    "id": "fN7kcu7lZQU-"
   },
   "source": [
    "\n",
    "*   Se observa que las variables PAY_x tienen una mayor correlación con Default. \n",
    "\n",
    "\n",
    "\n"
   ]
  },
  {
   "cell_type": "code",
   "execution_count": 17,
   "metadata": {
    "colab": {
     "base_uri": "https://localhost:8080/",
     "height": 224
    },
    "colab_type": "code",
    "executionInfo": {
     "elapsed": 439,
     "status": "ok",
     "timestamp": 1560708547918,
     "user": {
      "displayName": "DANIEL ANDRE QUINTANA BEDOYA",
      "photoUrl": "https://lh3.googleusercontent.com/-1SCJJU_TiBY/AAAAAAAAAAI/AAAAAAAAAAc/ajTyo--pV5o/s64/photo.jpg",
      "userId": "14237098614139855899"
     },
     "user_tz": 300
    },
    "id": "h4Ra7jCVxi48",
    "outputId": "924e9199-750c-439d-b367-0e2095df21a9"
   },
   "outputs": [
    {
     "data": {
      "text/html": [
       "<div>\n",
       "<style scoped>\n",
       "    .dataframe tbody tr th:only-of-type {\n",
       "        vertical-align: middle;\n",
       "    }\n",
       "\n",
       "    .dataframe tbody tr th {\n",
       "        vertical-align: top;\n",
       "    }\n",
       "\n",
       "    .dataframe thead th {\n",
       "        text-align: right;\n",
       "    }\n",
       "</style>\n",
       "<table border=\"1\" class=\"dataframe\">\n",
       "  <thead>\n",
       "    <tr style=\"text-align: right;\">\n",
       "      <th></th>\n",
       "      <th>ID</th>\n",
       "      <th>LIMIT_BAL</th>\n",
       "      <th>SEX</th>\n",
       "      <th>EDUCATION</th>\n",
       "      <th>MARRIAGE</th>\n",
       "      <th>AGE</th>\n",
       "      <th>PAY_0</th>\n",
       "      <th>PAY_2</th>\n",
       "      <th>PAY_3</th>\n",
       "      <th>PAY_4</th>\n",
       "      <th>...</th>\n",
       "      <th>BILL_AMT4</th>\n",
       "      <th>BILL_AMT5</th>\n",
       "      <th>BILL_AMT6</th>\n",
       "      <th>PAY_AMT1</th>\n",
       "      <th>PAY_AMT2</th>\n",
       "      <th>PAY_AMT3</th>\n",
       "      <th>PAY_AMT4</th>\n",
       "      <th>PAY_AMT5</th>\n",
       "      <th>PAY_AMT6</th>\n",
       "      <th>default</th>\n",
       "    </tr>\n",
       "  </thead>\n",
       "  <tbody>\n",
       "    <tr>\n",
       "      <th>0</th>\n",
       "      <td>1</td>\n",
       "      <td>20000.0</td>\n",
       "      <td>2</td>\n",
       "      <td>2</td>\n",
       "      <td>1</td>\n",
       "      <td>24</td>\n",
       "      <td>2</td>\n",
       "      <td>2</td>\n",
       "      <td>-1</td>\n",
       "      <td>-1</td>\n",
       "      <td>...</td>\n",
       "      <td>0.0</td>\n",
       "      <td>0.0</td>\n",
       "      <td>0.0</td>\n",
       "      <td>0.0</td>\n",
       "      <td>689.0</td>\n",
       "      <td>0.0</td>\n",
       "      <td>0.0</td>\n",
       "      <td>0.0</td>\n",
       "      <td>0.0</td>\n",
       "      <td>1</td>\n",
       "    </tr>\n",
       "    <tr>\n",
       "      <th>1</th>\n",
       "      <td>2</td>\n",
       "      <td>120000.0</td>\n",
       "      <td>2</td>\n",
       "      <td>2</td>\n",
       "      <td>2</td>\n",
       "      <td>26</td>\n",
       "      <td>-1</td>\n",
       "      <td>2</td>\n",
       "      <td>0</td>\n",
       "      <td>0</td>\n",
       "      <td>...</td>\n",
       "      <td>3272.0</td>\n",
       "      <td>3455.0</td>\n",
       "      <td>3261.0</td>\n",
       "      <td>0.0</td>\n",
       "      <td>1000.0</td>\n",
       "      <td>1000.0</td>\n",
       "      <td>1000.0</td>\n",
       "      <td>0.0</td>\n",
       "      <td>2000.0</td>\n",
       "      <td>1</td>\n",
       "    </tr>\n",
       "    <tr>\n",
       "      <th>2</th>\n",
       "      <td>3</td>\n",
       "      <td>90000.0</td>\n",
       "      <td>2</td>\n",
       "      <td>2</td>\n",
       "      <td>2</td>\n",
       "      <td>34</td>\n",
       "      <td>0</td>\n",
       "      <td>0</td>\n",
       "      <td>0</td>\n",
       "      <td>0</td>\n",
       "      <td>...</td>\n",
       "      <td>14331.0</td>\n",
       "      <td>14948.0</td>\n",
       "      <td>15549.0</td>\n",
       "      <td>1518.0</td>\n",
       "      <td>1500.0</td>\n",
       "      <td>1000.0</td>\n",
       "      <td>1000.0</td>\n",
       "      <td>1000.0</td>\n",
       "      <td>5000.0</td>\n",
       "      <td>0</td>\n",
       "    </tr>\n",
       "    <tr>\n",
       "      <th>3</th>\n",
       "      <td>4</td>\n",
       "      <td>50000.0</td>\n",
       "      <td>2</td>\n",
       "      <td>2</td>\n",
       "      <td>1</td>\n",
       "      <td>37</td>\n",
       "      <td>0</td>\n",
       "      <td>0</td>\n",
       "      <td>0</td>\n",
       "      <td>0</td>\n",
       "      <td>...</td>\n",
       "      <td>28314.0</td>\n",
       "      <td>28959.0</td>\n",
       "      <td>29547.0</td>\n",
       "      <td>2000.0</td>\n",
       "      <td>2019.0</td>\n",
       "      <td>1200.0</td>\n",
       "      <td>1100.0</td>\n",
       "      <td>1069.0</td>\n",
       "      <td>1000.0</td>\n",
       "      <td>0</td>\n",
       "    </tr>\n",
       "    <tr>\n",
       "      <th>4</th>\n",
       "      <td>5</td>\n",
       "      <td>50000.0</td>\n",
       "      <td>1</td>\n",
       "      <td>2</td>\n",
       "      <td>1</td>\n",
       "      <td>57</td>\n",
       "      <td>-1</td>\n",
       "      <td>0</td>\n",
       "      <td>-1</td>\n",
       "      <td>0</td>\n",
       "      <td>...</td>\n",
       "      <td>20940.0</td>\n",
       "      <td>19146.0</td>\n",
       "      <td>19131.0</td>\n",
       "      <td>2000.0</td>\n",
       "      <td>36681.0</td>\n",
       "      <td>10000.0</td>\n",
       "      <td>9000.0</td>\n",
       "      <td>689.0</td>\n",
       "      <td>679.0</td>\n",
       "      <td>0</td>\n",
       "    </tr>\n",
       "  </tbody>\n",
       "</table>\n",
       "<p>5 rows × 25 columns</p>\n",
       "</div>"
      ],
      "text/plain": [
       "   ID  LIMIT_BAL  SEX  EDUCATION  MARRIAGE  AGE  PAY_0  PAY_2  PAY_3  PAY_4  \\\n",
       "0   1    20000.0    2          2         1   24      2      2     -1     -1   \n",
       "1   2   120000.0    2          2         2   26     -1      2      0      0   \n",
       "2   3    90000.0    2          2         2   34      0      0      0      0   \n",
       "3   4    50000.0    2          2         1   37      0      0      0      0   \n",
       "4   5    50000.0    1          2         1   57     -1      0     -1      0   \n",
       "\n",
       "    ...     BILL_AMT4  BILL_AMT5  BILL_AMT6  PAY_AMT1  PAY_AMT2  PAY_AMT3  \\\n",
       "0   ...           0.0        0.0        0.0       0.0     689.0       0.0   \n",
       "1   ...        3272.0     3455.0     3261.0       0.0    1000.0    1000.0   \n",
       "2   ...       14331.0    14948.0    15549.0    1518.0    1500.0    1000.0   \n",
       "3   ...       28314.0    28959.0    29547.0    2000.0    2019.0    1200.0   \n",
       "4   ...       20940.0    19146.0    19131.0    2000.0   36681.0   10000.0   \n",
       "\n",
       "   PAY_AMT4  PAY_AMT5  PAY_AMT6  default  \n",
       "0       0.0       0.0       0.0        1  \n",
       "1    1000.0       0.0    2000.0        1  \n",
       "2    1000.0    1000.0    5000.0        0  \n",
       "3    1100.0    1069.0    1000.0        0  \n",
       "4    9000.0     689.0     679.0        0  \n",
       "\n",
       "[5 rows x 25 columns]"
      ]
     },
     "execution_count": 17,
     "metadata": {},
     "output_type": "execute_result"
    }
   ],
   "source": [
    "data.head()"
   ]
  },
  {
   "cell_type": "code",
   "execution_count": 18,
   "metadata": {
    "colab": {
     "base_uri": "https://localhost:8080/",
     "height": 224
    },
    "colab_type": "code",
    "executionInfo": {
     "elapsed": 442,
     "status": "ok",
     "timestamp": 1560708551453,
     "user": {
      "displayName": "DANIEL ANDRE QUINTANA BEDOYA",
      "photoUrl": "https://lh3.googleusercontent.com/-1SCJJU_TiBY/AAAAAAAAAAI/AAAAAAAAAAc/ajTyo--pV5o/s64/photo.jpg",
      "userId": "14237098614139855899"
     },
     "user_tz": 300
    },
    "id": "9rAp1WomyI4R",
    "outputId": "96191a1f-789f-4440-a58e-b42471c7288a"
   },
   "outputs": [
    {
     "data": {
      "text/html": [
       "<div>\n",
       "<style scoped>\n",
       "    .dataframe tbody tr th:only-of-type {\n",
       "        vertical-align: middle;\n",
       "    }\n",
       "\n",
       "    .dataframe tbody tr th {\n",
       "        vertical-align: top;\n",
       "    }\n",
       "\n",
       "    .dataframe thead th {\n",
       "        text-align: right;\n",
       "    }\n",
       "</style>\n",
       "<table border=\"1\" class=\"dataframe\">\n",
       "  <thead>\n",
       "    <tr style=\"text-align: right;\">\n",
       "      <th></th>\n",
       "      <th>LIMIT_BAL</th>\n",
       "      <th>MARRIAGE</th>\n",
       "      <th>AGE</th>\n",
       "      <th>PAY_0</th>\n",
       "      <th>PAY_2</th>\n",
       "      <th>PAY_3</th>\n",
       "      <th>PAY_4</th>\n",
       "      <th>PAY_5</th>\n",
       "      <th>PAY_6</th>\n",
       "      <th>BILL_AMT1</th>\n",
       "      <th>...</th>\n",
       "      <th>PAY_AMT4</th>\n",
       "      <th>PAY_AMT5</th>\n",
       "      <th>PAY_AMT6</th>\n",
       "      <th>default</th>\n",
       "      <th>SEX_1</th>\n",
       "      <th>SEX_2</th>\n",
       "      <th>EDUCATION_1</th>\n",
       "      <th>EDUCATION_2</th>\n",
       "      <th>EDUCATION_3</th>\n",
       "      <th>EDUCATION_4</th>\n",
       "    </tr>\n",
       "  </thead>\n",
       "  <tbody>\n",
       "    <tr>\n",
       "      <th>0</th>\n",
       "      <td>20000.0</td>\n",
       "      <td>1</td>\n",
       "      <td>24</td>\n",
       "      <td>2</td>\n",
       "      <td>2</td>\n",
       "      <td>-1</td>\n",
       "      <td>-1</td>\n",
       "      <td>-2</td>\n",
       "      <td>-2</td>\n",
       "      <td>3913.0</td>\n",
       "      <td>...</td>\n",
       "      <td>0.0</td>\n",
       "      <td>0.0</td>\n",
       "      <td>0.0</td>\n",
       "      <td>1</td>\n",
       "      <td>0</td>\n",
       "      <td>1</td>\n",
       "      <td>0</td>\n",
       "      <td>1</td>\n",
       "      <td>0</td>\n",
       "      <td>0</td>\n",
       "    </tr>\n",
       "    <tr>\n",
       "      <th>1</th>\n",
       "      <td>120000.0</td>\n",
       "      <td>2</td>\n",
       "      <td>26</td>\n",
       "      <td>-1</td>\n",
       "      <td>2</td>\n",
       "      <td>0</td>\n",
       "      <td>0</td>\n",
       "      <td>0</td>\n",
       "      <td>2</td>\n",
       "      <td>2682.0</td>\n",
       "      <td>...</td>\n",
       "      <td>1000.0</td>\n",
       "      <td>0.0</td>\n",
       "      <td>2000.0</td>\n",
       "      <td>1</td>\n",
       "      <td>0</td>\n",
       "      <td>1</td>\n",
       "      <td>0</td>\n",
       "      <td>1</td>\n",
       "      <td>0</td>\n",
       "      <td>0</td>\n",
       "    </tr>\n",
       "    <tr>\n",
       "      <th>2</th>\n",
       "      <td>90000.0</td>\n",
       "      <td>2</td>\n",
       "      <td>34</td>\n",
       "      <td>0</td>\n",
       "      <td>0</td>\n",
       "      <td>0</td>\n",
       "      <td>0</td>\n",
       "      <td>0</td>\n",
       "      <td>0</td>\n",
       "      <td>29239.0</td>\n",
       "      <td>...</td>\n",
       "      <td>1000.0</td>\n",
       "      <td>1000.0</td>\n",
       "      <td>5000.0</td>\n",
       "      <td>0</td>\n",
       "      <td>0</td>\n",
       "      <td>1</td>\n",
       "      <td>0</td>\n",
       "      <td>1</td>\n",
       "      <td>0</td>\n",
       "      <td>0</td>\n",
       "    </tr>\n",
       "    <tr>\n",
       "      <th>3</th>\n",
       "      <td>50000.0</td>\n",
       "      <td>1</td>\n",
       "      <td>37</td>\n",
       "      <td>0</td>\n",
       "      <td>0</td>\n",
       "      <td>0</td>\n",
       "      <td>0</td>\n",
       "      <td>0</td>\n",
       "      <td>0</td>\n",
       "      <td>46990.0</td>\n",
       "      <td>...</td>\n",
       "      <td>1100.0</td>\n",
       "      <td>1069.0</td>\n",
       "      <td>1000.0</td>\n",
       "      <td>0</td>\n",
       "      <td>0</td>\n",
       "      <td>1</td>\n",
       "      <td>0</td>\n",
       "      <td>1</td>\n",
       "      <td>0</td>\n",
       "      <td>0</td>\n",
       "    </tr>\n",
       "    <tr>\n",
       "      <th>4</th>\n",
       "      <td>50000.0</td>\n",
       "      <td>1</td>\n",
       "      <td>57</td>\n",
       "      <td>-1</td>\n",
       "      <td>0</td>\n",
       "      <td>-1</td>\n",
       "      <td>0</td>\n",
       "      <td>0</td>\n",
       "      <td>0</td>\n",
       "      <td>8617.0</td>\n",
       "      <td>...</td>\n",
       "      <td>9000.0</td>\n",
       "      <td>689.0</td>\n",
       "      <td>679.0</td>\n",
       "      <td>0</td>\n",
       "      <td>1</td>\n",
       "      <td>0</td>\n",
       "      <td>0</td>\n",
       "      <td>1</td>\n",
       "      <td>0</td>\n",
       "      <td>0</td>\n",
       "    </tr>\n",
       "  </tbody>\n",
       "</table>\n",
       "<p>5 rows × 28 columns</p>\n",
       "</div>"
      ],
      "text/plain": [
       "   LIMIT_BAL  MARRIAGE  AGE  PAY_0  PAY_2  PAY_3  PAY_4  PAY_5  PAY_6  \\\n",
       "0    20000.0         1   24      2      2     -1     -1     -2     -2   \n",
       "1   120000.0         2   26     -1      2      0      0      0      2   \n",
       "2    90000.0         2   34      0      0      0      0      0      0   \n",
       "3    50000.0         1   37      0      0      0      0      0      0   \n",
       "4    50000.0         1   57     -1      0     -1      0      0      0   \n",
       "\n",
       "   BILL_AMT1     ...       PAY_AMT4  PAY_AMT5  PAY_AMT6  default  SEX_1  \\\n",
       "0     3913.0     ...            0.0       0.0       0.0        1      0   \n",
       "1     2682.0     ...         1000.0       0.0    2000.0        1      0   \n",
       "2    29239.0     ...         1000.0    1000.0    5000.0        0      0   \n",
       "3    46990.0     ...         1100.0    1069.0    1000.0        0      0   \n",
       "4     8617.0     ...         9000.0     689.0     679.0        0      1   \n",
       "\n",
       "   SEX_2  EDUCATION_1  EDUCATION_2  EDUCATION_3  EDUCATION_4  \n",
       "0      1            0            1            0            0  \n",
       "1      1            0            1            0            0  \n",
       "2      1            0            1            0            0  \n",
       "3      1            0            1            0            0  \n",
       "4      0            0            1            0            0  \n",
       "\n",
       "[5 rows x 28 columns]"
      ]
     },
     "execution_count": 18,
     "metadata": {},
     "output_type": "execute_result"
    }
   ],
   "source": [
    "### DataSet Final para entrenamiento\n",
    "data_final = pd.get_dummies(data, columns = [\"SEX\", \"EDUCATION\"])\n",
    "data_final.drop(\"ID\", inplace = True, axis = 1)\n",
    "data_final.head()"
   ]
  },
  {
   "cell_type": "markdown",
   "metadata": {
    "colab_type": "text",
    "id": "okBB5gxVTvN1"
   },
   "source": [
    "# Seleccion de Conjunto para Entrenamiento, Validación y Pruebas"
   ]
  },
  {
   "cell_type": "markdown",
   "metadata": {
    "colab_type": "text",
    "id": "5h17R9Z9UGgQ"
   },
   "source": [
    "Separamos el conjunto de datos en Entrenamiento (60%) Validación (20%) y Test(20%)"
   ]
  },
  {
   "cell_type": "code",
   "execution_count": 19,
   "metadata": {
    "colab": {
     "base_uri": "https://localhost:8080/",
     "height": 68
    },
    "colab_type": "code",
    "executionInfo": {
     "elapsed": 454,
     "status": "ok",
     "timestamp": 1560708555567,
     "user": {
      "displayName": "DANIEL ANDRE QUINTANA BEDOYA",
      "photoUrl": "https://lh3.googleusercontent.com/-1SCJJU_TiBY/AAAAAAAAAAI/AAAAAAAAAAc/ajTyo--pV5o/s64/photo.jpg",
      "userId": "14237098614139855899"
     },
     "user_tz": 300
    },
    "id": "-CsDKSbYTzSC",
    "outputId": "638cd102-3104-4480-a367-b50c5d19f776"
   },
   "outputs": [
    {
     "name": "stdout",
     "output_type": "stream",
     "text": [
      "(18000,)\n",
      "(6000,)\n",
      "(6000,)\n"
     ]
    }
   ],
   "source": [
    "from sklearn.model_selection import train_test_split\n",
    "\n",
    "indices = data_final.index.values\n",
    "\n",
    "indices_trainval, indices_test = train_test_split(indices, test_size=0.2, random_state=0)\n",
    "indices_train, indices_val = train_test_split(indices_trainval, test_size=0.25, random_state=0)\n",
    "\n",
    "print(indices_train.shape) #60%\n",
    "print(indices_val.shape) #20%\n",
    "print(indices_test.shape) #20%\n",
    "\n",
    "feature_columns = data.columns.drop('default')\n",
    "\n",
    "X = data[feature_columns].values.astype(float)\n",
    "y = data['default'].values.astype(int)\n",
    "\n",
    "scaler = StandardScaler().fit(X[indices_train])\n",
    "X_scaled = scaler.transform(X)\n",
    "\n",
    "X_train = X_scaled[indices_train]\n",
    "X_val = X_scaled[indices_val]\n",
    "X_trainval = X_scaled[indices_trainval]\n",
    "X_test = X_scaled[indices_test]\n",
    "\n",
    "y_train = y[indices_train]\n",
    "y_val = y[indices_val]\n",
    "y_trainval = y[indices_trainval]\n",
    "y_test = y[indices_test]"
   ]
  },
  {
   "cell_type": "markdown",
   "metadata": {
    "colab_type": "text",
    "id": "09kLmDZzk0gI"
   },
   "source": [
    "# PCA"
   ]
  },
  {
   "cell_type": "code",
   "execution_count": 20,
   "metadata": {
    "colab": {},
    "colab_type": "code",
    "id": "F7tM24QUc08T"
   },
   "outputs": [],
   "source": [
    "#PCA\n",
    "from sklearn.decomposition import PCA\n",
    "\n",
    "### INICIO DE TU CÓDIGO\n",
    "pca = PCA().fit(X_train)\n",
    "pca_loadings = pca.components_\n",
    "pca_scores_train = pca.transform(X_train)\n",
    "### FIN DE TU CÓDIGO\n",
    "\n",
    "assert np.isclose(X_train, pca_scores_train @ pca_loadings).all(), 'Error al calcular pca_scores_train o pca_loadings'"
   ]
  },
  {
   "cell_type": "code",
   "execution_count": 21,
   "metadata": {
    "colab": {
     "base_uri": "https://localhost:8080/",
     "height": 827
    },
    "colab_type": "code",
    "id": "JorAtnlNdEF0",
    "outputId": "733289f7-3dfc-409a-a44a-df2e1e474d80"
   },
   "outputs": [
    {
     "name": "stdout",
     "output_type": "stream",
     "text": [
      "Proporción de varianza explicada por los componentes principales:\n",
      "[0.27246 0.17052 0.06876 0.06261 0.04328 0.04110 0.04058 0.03808 0.03627\n",
      " 0.03564 0.03051 0.02855 0.02803 0.02386 0.02156 0.01659 0.01109 0.01040\n",
      " 0.00796 0.00554 0.00291 0.00176 0.00103 0.00091]\n"
     ]
    },
    {
     "data": {
      "image/png": "[encoded data removed]",
      "text/plain": [
       "<Figure size 1080x360 with 1 Axes>"
      ]
     },
     "metadata": {
      "needs_background": "light"
     },
     "output_type": "display_data"
    },
    {
     "name": "stdout",
     "output_type": "stream",
     "text": [
      "\n",
      "Proporción acumulada de varianza explicada por los componentes principales:\n",
      "[0.27246 0.44298 0.51174 0.57435 0.61763 0.65872 0.69930 0.73739 0.77366\n",
      " 0.80930 0.83981 0.86835 0.89639 0.92025 0.94181 0.95840 0.96950 0.97989\n",
      " 0.98785 0.99339 0.99630 0.99806 0.99909 1.00000]\n",
      "\n"
     ]
    },
    {
     "data": {
      "image/png": "[encoded data removed]",
      "text/plain": [
       "<Figure size 1080x360 with 1 Axes>"
      ]
     },
     "metadata": {
      "needs_background": "light"
     },
     "output_type": "display_data"
    }
   ],
   "source": [
    "def plot_pca_var(pca_cum_var, label):\n",
    "    num_components = pca_cum_var.shape[0]\n",
    "    indices = range(1, num_components + 1)\n",
    "    plt.figure(figsize=(15,5))\n",
    "    plt.plot(indices, pca_cum_var, '-s')\n",
    "    plt.ylabel(label)\n",
    "    plt.xlabel('Componente Principal')\n",
    "    plt.xlim(0.75,4.25)\n",
    "    plt.ylim(0,1.05)\n",
    "    plt.xticks(indices)\n",
    "    plt.show()\n",
    "    \n",
    "### INICIO DE TU CÓDIGO\n",
    "pca_cum_var = np.cumsum(pca.explained_variance_ratio_)\n",
    "### FIN DE TU CÓDIGO\n",
    "\n",
    "np.set_printoptions(formatter={'float': lambda X: \"{0:0.5f}\".format(X)})\n",
    "print('Proporción de varianza explicada por los componentes principales:')\n",
    "print(pca.explained_variance_ratio_)\n",
    "plot_pca_var(pca.explained_variance_ratio_, 'Proporción de Varianza Explicada')\n",
    "\n",
    "print()\n",
    "print('Proporción acumulada de varianza explicada por los componentes principales:')\n",
    "print(pca_cum_var)\n",
    "print()\n",
    "plot_pca_var(pca_cum_var, 'Proporción Acumulada de Varianza Explicada')"
   ]
  },
  {
   "cell_type": "markdown",
   "metadata": {
    "colab_type": "text",
    "id": "6ajliplvk5Vc"
   },
   "source": [
    "La varianza de los datos está explicada por casi todas las variables. Por ello, no reduciremos ninguna variable. Cabe resaltar que sólo hemos descargado MARRIAGE por no tener suficiente correlación con Default."
   ]
  },
  {
   "cell_type": "markdown",
   "metadata": {
    "colab_type": "text",
    "id": "hplGRcBycDpC"
   },
   "source": [
    "# Regresión Logística"
   ]
  },
  {
   "cell_type": "code",
   "execution_count": 22,
   "metadata": {
    "colab": {},
    "colab_type": "code",
    "id": "dazn1lj6cDpC"
   },
   "outputs": [],
   "source": [
    "from sklearn.model_selection import GridSearchCV\n",
    "from sklearn.linear_model import LogisticRegression\n",
    "from sklearn import metrics"
   ]
  },
  {
   "cell_type": "code",
   "execution_count": 23,
   "metadata": {
    "colab": {},
    "colab_type": "code",
    "id": "ODRMzbegcDpF"
   },
   "outputs": [],
   "source": [
    "def print_binary_confusion_matrix(y_true, y_pred):\n",
    "  confusion_matrix = metrics.confusion_matrix(y_true, y_pred)\n",
    "  TN = confusion_matrix[0,0]\n",
    "  FN = confusion_matrix[1,0]\n",
    "  FP = confusion_matrix[0,1]\n",
    "  TP = confusion_matrix[1,1]\n",
    "  \n",
    "  ### INICIO DE TU CÓDIGO\n",
    "  exactitud = (TP+TN)/(TP+FP+TN+FN)\n",
    "  precision = TP/(TP+FP)\n",
    "  exhaustividad = TP/(TP+FN)\n",
    "  ### FIN DE TU CÓDIGO\n",
    "\n",
    "  print ('              +-----------------+')\n",
    "  print ('              |   Predicción    |')\n",
    "  print ('              +-----------------+')\n",
    "  print ('              |    +   |    -   |')\n",
    "  print ('+-------+-----+--------+--------+')\n",
    "  print ('| Valor |  +  |  {:5d} |  {:5d} |'.format(TP, FN) )\n",
    "  print ('| real  +-----+--------+--------+')\n",
    "  print ('|       |  -  |  {:5d} |  {:5d} |'.format(FP, TN) )\n",
    "  print ('+-------+-----+--------+--------+')\n",
    "  print('Exactitud     : {:.3f}'.format(exactitud))\n",
    "  print('Precisión     : {:.3f}'.format(precision))\n",
    "  print('Exhaustividad : {:.3f}'.format(exhaustividad))\n",
    "  print()"
   ]
  },
  {
   "cell_type": "code",
   "execution_count": 24,
   "metadata": {
    "colab": {},
    "colab_type": "code",
    "id": "nuQTQ184cDpH"
   },
   "outputs": [],
   "source": [
    "#Función para graficar la curva ROC\n",
    "def plot_roc(modelo, x_test, y_test):\n",
    "  probabilidades_test = modelo.predict_proba(x_test)\n",
    "  #print ('Probabilidad de la clase negativa y de la clase positiva :')\n",
    "  #print (probabilidades_test)\n",
    "  fpr, tpr, umbrales = metrics.roc_curve(y_test, probabilidades_test[:,1])\n",
    "  auc_roc = metrics.roc_auc_score(y_test, probabilidades_test[:,1])\n",
    "\n",
    "  plt.figure(figsize=[9,7])\n",
    "  plt.rcParams.update({'font.size': 10})\n",
    "  plt.plot(fpr, tpr, label= (\"Curva ROC (AUC = %.4f)\" % auc_roc) )\n",
    "\n",
    "  plt.xlabel(\"False Positive Rate\", fontsize=18)\n",
    "  plt.ylabel(\"True Positive Rate (exhaustividad)\", fontsize=18)\n",
    "  plt.title((\"Curva ROC for Credit Card Default\"), fontsize=18)\n",
    "  plt.plot([1,0], [1,0], 'k--', linewidth=2)\n",
    "\n",
    "  # ubicamos el punto más cercano a 0.5\n",
    "  umbral_05 = np.argmin(np.abs(umbrales - 0.5))\n",
    "  plt.plot(fpr[umbral_05], tpr[umbral_05], 'o', markersize=10,\n",
    "           label=\"Umbral 0.5\", fillstyle=\"none\", c='r', mew=2)\n",
    "  plt.legend(loc='best', numpoints = 1)\n",
    "  plt.show()"
   ]
  },
  {
   "cell_type": "code",
   "execution_count": 25,
   "metadata": {
    "colab": {},
    "colab_type": "code",
    "id": "-TlgZDCMcDpK",
    "outputId": "9415daa6-409f-42da-9aad-3f24e115ae67"
   },
   "outputs": [
    {
     "name": "stdout",
     "output_type": "stream",
     "text": [
      "Conjunto de entrenamiento:\n",
      "              +-----------------+\n",
      "              |   Predicción    |\n",
      "              +-----------------+\n",
      "              |    +   |    -   |\n",
      "+-------+-----+--------+--------+\n",
      "| Valor |  +  |    983 |   3026 |\n",
      "| real  +-----+--------+--------+\n",
      "|       |  -  |    392 |  13599 |\n",
      "+-------+-----+--------+--------+\n",
      "Exactitud     : 0.810\n",
      "Precisión     : 0.715\n",
      "Exhaustividad : 0.245\n",
      "\n",
      "Conjunto de entrenamiento + validación:\n",
      "              +-----------------+\n",
      "              |   Predicción    |\n",
      "              +-----------------+\n",
      "              |    +   |    -   |\n",
      "+-------+-----+--------+--------+\n",
      "| Valor |  +  |    299 |   1031 |\n",
      "| real  +-----+--------+--------+\n",
      "|       |  -  |    139 |   4531 |\n",
      "+-------+-----+--------+--------+\n",
      "Exactitud     : 0.805\n",
      "Precisión     : 0.683\n",
      "Exhaustividad : 0.225\n",
      "\n"
     ]
    },
    {
     "data": {
      "image/png": "[encoded data removed]",
      "text/plain": [
       "<Figure size 648x504 with 1 Axes>"
      ]
     },
     "metadata": {
      "needs_background": "light"
     },
     "output_type": "display_data"
    }
   ],
   "source": [
    "#Regresión Logística\n",
    "\n",
    "modelo = LogisticRegression(solver='liblinear', random_state=0)\n",
    "modelo.fit(X_train, y_train)\n",
    "\n",
    "print('Conjunto de entrenamiento:')\n",
    "print_binary_confusion_matrix(y_train, modelo.predict(X_train) )\n",
    "\n",
    "print('Conjunto de entrenamiento + validación:')\n",
    "print_binary_confusion_matrix(y_val, modelo.predict(X_val) )\n",
    "\n",
    "##Curva Roc para Test\n",
    "plot_roc(modelo, X_val, y_val)"
   ]
  },
  {
   "cell_type": "code",
   "execution_count": 26,
   "metadata": {
    "colab": {},
    "colab_type": "code",
    "id": "-TFzZT0jcDpN",
    "outputId": "e564165c-dd3d-48e4-df3d-dbdbbeee5c8a"
   },
   "outputs": [
    {
     "name": "stdout",
     "output_type": "stream",
     "text": [
      "Best params:  {'C': 0.1, 'class_weight': 'balanced', 'penalty': 'l2', 'solver': 'liblinear'}\n",
      "Best auc on training set:  0.7244947447883621\n",
      "Best auc on val set:  0.7235942103653138\n"
     ]
    }
   ],
   "source": [
    "#Usamos GridSearchCV para encontrar los mejores parámetros para el modelo.\n",
    "Cs = np.logspace(-4,-1,30)\n",
    "params = {'C': Cs, \n",
    "          'solver': ['liblinear'],\n",
    "          'class_weight': [None, 'balanced'], \n",
    "          'penalty': ['l1', 'l2']}\n",
    "\n",
    "gs = GridSearchCV(modelo, params, scoring = 'roc_auc', n_jobs = -1, cv=10)\n",
    "gs.fit(X_trainval, y_trainval)\n",
    "print ('Best params: ', gs.best_params_)\n",
    "print ('Best auc on training set: ', gs.best_score_)\n",
    "print ('Best auc on val set: ', gs.score(X_val, y_val))"
   ]
  },
  {
   "cell_type": "code",
   "execution_count": 27,
   "metadata": {
    "colab": {},
    "colab_type": "code",
    "id": "PpOGUgzTcDpQ",
    "outputId": "b65dd2a6-db87-42cf-a7ef-6338a1598dee"
   },
   "outputs": [
    {
     "name": "stdout",
     "output_type": "stream",
     "text": [
      "              +-----------------+\n",
      "              |   Predicción    |\n",
      "              +-----------------+\n",
      "              |    +   |    -   |\n",
      "+-------+-----+--------+--------+\n",
      "| Valor |  +  |   2593 |   1416 |\n",
      "| real  +-----+--------+--------+\n",
      "|       |  -  |   4201 |   9790 |\n",
      "+-------+-----+--------+--------+\n",
      "Exactitud     : 0.688\n",
      "Precisión     : 0.382\n",
      "Exhaustividad : 0.647\n",
      "\n"
     ]
    }
   ],
   "source": [
    "modelo = gs.best_estimator_ #seteamos nuestro modelo con los mejors hyperparametros\n",
    "modelo.fit(X_train, y_train) #Entrenamos nuevamente el modelo con train-val\n",
    "\n",
    "y_pred = modelo.predict(X_train) \n",
    "print_binary_confusion_matrix(y_train, y_pred)\n"
   ]
  },
  {
   "cell_type": "code",
   "execution_count": 28,
   "metadata": {
    "colab": {},
    "colab_type": "code",
    "id": "7HXeTIAscDpS",
    "outputId": "9c4fb3e5-a8c5-40bd-c50f-81ec5e510c9d"
   },
   "outputs": [
    {
     "name": "stdout",
     "output_type": "stream",
     "text": [
      "              +-----------------+\n",
      "              |   Predicción    |\n",
      "              +-----------------+\n",
      "              |    +   |    -   |\n",
      "+-------+-----+--------+--------+\n",
      "| Valor |  +  |   3429 |   1910 |\n",
      "| real  +-----+--------+--------+\n",
      "|       |  -  |   5518 |  13143 |\n",
      "+-------+-----+--------+--------+\n",
      "Exactitud     : 0.691\n",
      "Precisión     : 0.383\n",
      "Exhaustividad : 0.642\n",
      "\n"
     ]
    }
   ],
   "source": [
    "#modelo = gs.best_estimator_ #seteamos nuestro modelo con los mejors hyperparametros\n",
    "modelo.fit(X_trainval, y_trainval) #Entrenamos nuevamente el modelo con train-val\n",
    "\n",
    "y_pred = modelo.predict(X_trainval) \n",
    "print_binary_confusion_matrix(y_trainval, y_pred)\n"
   ]
  },
  {
   "cell_type": "code",
   "execution_count": 29,
   "metadata": {
    "colab": {},
    "colab_type": "code",
    "id": "kPN6Ul8ncDpV",
    "outputId": "4c562a92-84f2-4145-af79-9f24862300af"
   },
   "outputs": [
    {
     "name": "stdout",
     "output_type": "stream",
     "text": [
      "              +-----------------+\n",
      "              |   Predicción    |\n",
      "              +-----------------+\n",
      "              |    +   |    -   |\n",
      "+-------+-----+--------+--------+\n",
      "| Valor |  +  |    827 |    470 |\n",
      "| real  +-----+--------+--------+\n",
      "|       |  -  |   1392 |   3311 |\n",
      "+-------+-----+--------+--------+\n",
      "Exactitud     : 0.690\n",
      "Precisión     : 0.373\n",
      "Exhaustividad : 0.638\n",
      "\n"
     ]
    }
   ],
   "source": [
    "#Probamos el modelo con Test\n",
    "y_pred = modelo.predict(X_test) \n",
    "print_binary_confusion_matrix(y_test, y_pred)\n"
   ]
  },
  {
   "cell_type": "code",
   "execution_count": 30,
   "metadata": {
    "colab": {},
    "colab_type": "code",
    "id": "E-ziLbY9cDpX",
    "outputId": "13bad56d-4046-4c41-ee22-fdd0c7f56725"
   },
   "outputs": [
    {
     "data": {
      "image/png": "[encoded data removed]",
      "text/plain": [
       "<Figure size 648x504 with 1 Axes>"
      ]
     },
     "metadata": {
      "needs_background": "light"
     },
     "output_type": "display_data"
    }
   ],
   "source": [
    "plot_roc(modelo, X_test, y_test)"
   ]
  },
  {
   "cell_type": "markdown",
   "metadata": {
    "colab_type": "text",
    "id": "E03mw8R-hwqa"
   },
   "source": [
    "# KNN"
   ]
  },
  {
   "cell_type": "code",
   "execution_count": 31,
   "metadata": {
    "colab": {
     "base_uri": "https://localhost:8080/",
     "height": 51
    },
    "colab_type": "code",
    "id": "lvZ4gp2Chwqb",
    "outputId": "8db8c493-cb4c-47a7-9fdf-e45d7eadc82e"
   },
   "outputs": [
    {
     "name": "stdout",
     "output_type": "stream",
     "text": [
      "Accuracy of K-NN classifier on training set: 0.83\n",
      "Accuracy of K-NN classifier on validation set: 0.80\n"
     ]
    }
   ],
   "source": [
    "from sklearn.neighbors import KNeighborsClassifier\n",
    "n_neighbors = 7\n",
    "\n",
    "knn = KNeighborsClassifier(n_neighbors)\n",
    "modeloKnn1 = knn.fit(X_train, y_train)\n",
    "print('Accuracy of K-NN classifier on training set: {:.2f}'\n",
    "     .format(knn.score(X_train, y_train)))\n",
    "print('Accuracy of K-NN classifier on validation set: {:.2f}'\n",
    "     .format(knn.score(X_val, y_val)))"
   ]
  },
  {
   "cell_type": "markdown",
   "metadata": {
    "colab_type": "text",
    "id": "04KU2bNBhwqd"
   },
   "source": [
    "### Usando Validacion cruzada"
   ]
  },
  {
   "cell_type": "code",
   "execution_count": 32,
   "metadata": {
    "colab": {
     "base_uri": "https://localhost:8080/",
     "height": 85
    },
    "colab_type": "code",
    "id": "N2fnl2EJhwqd",
    "outputId": "0ee4de46-6265-4919-d8ef-9a205656570d"
   },
   "outputs": [
    {
     "name": "stdout",
     "output_type": "stream",
     "text": [
      "[0.81177 0.81056 0.81556 0.80722 0.80778 0.80333 0.80611 0.81889 0.80778\n",
      " 0.80934]\n",
      "Promedio de score usando validacion cruzada:  0.8098331981824\n",
      "Accuracy of K-NN classifier on validation set: 0.80\n"
     ]
    }
   ],
   "source": [
    "from sklearn.model_selection import cross_val_score\n",
    "\n",
    "n_folds = 10\n",
    "\n",
    "clf = KNeighborsClassifier(n_neighbors = 20)\n",
    "scores = cross_val_score(clf, X_train,y_train, cv=n_folds)\n",
    "print(scores)\n",
    "sum = 0\n",
    "for item in scores:\n",
    "  sum = sum + item\n",
    "promedio_score = sum/len(scores)  \n",
    "print(\"Promedio de score usando validacion cruzada: \", promedio_score)\n",
    "print('Accuracy of K-NN classifier on validation set: {:.2f}'\n",
    "     .format(knn.score(X_val, y_val)))"
   ]
  },
  {
   "cell_type": "markdown",
   "metadata": {
    "colab_type": "text",
    "id": "n5gsXYh9hwqj"
   },
   "source": [
    "##### Observación\n",
    "Como podemos observar, usando validacion cruzada el score de la data de entrenamiento es mas cercano al score obtenido en la data de validacion"
   ]
  },
  {
   "cell_type": "markdown",
   "metadata": {
    "colab_type": "text",
    "id": "z6YRxbcqhwqk"
   },
   "source": [
    "### Mejorando rendimiento KNN"
   ]
  },
  {
   "cell_type": "code",
   "execution_count": 33,
   "metadata": {
    "colab": {
     "base_uri": "https://localhost:8080/",
     "height": 289
    },
    "colab_type": "code",
    "id": "-PoUWudqhwql",
    "outputId": "c1855eb7-256c-4345-eb5f-091fa2d7503a"
   },
   "outputs": [
    {
     "name": "stdout",
     "output_type": "stream",
     "text": [
      "Fitting 5 folds for each of 40 candidates, totalling 200 fits\n"
     ]
    },
    {
     "name": "stderr",
     "output_type": "stream",
     "text": [
      "[Parallel(n_jobs=-1)]: Using backend LokyBackend with 8 concurrent workers.\n",
      "[Parallel(n_jobs=-1)]: Done  34 tasks      | elapsed:  7.6min\n",
      "[Parallel(n_jobs=-1)]: Done 184 tasks      | elapsed: 33.5min\n",
      "[Parallel(n_jobs=-1)]: Done 200 out of 200 | elapsed: 36.6min finished\n"
     ]
    },
    {
     "name": "stdout",
     "output_type": "stream",
     "text": [
      "Conjunto de validacion :\n",
      "              +-----------------+\n",
      "              |   Predicción    |\n",
      "              +-----------------+\n",
      "              |    +   |    -   |\n",
      "+-------+-----+--------+--------+\n",
      "| Valor |  +  |    398 |    899 |\n",
      "| real  +-----+--------+--------+\n",
      "|       |  -  |    210 |   4493 |\n",
      "+-------+-----+--------+--------+\n",
      "Exactitud     : 0.815\n",
      "Precisión     : 0.655\n",
      "Exhaustividad : 0.307\n",
      "\n"
     ]
    }
   ],
   "source": [
    "from sklearn.model_selection import GridSearchCV\n",
    "\n",
    "# Creamos un nuevo modelo\n",
    "knn2 = KNeighborsClassifier()\n",
    "\n",
    "# Creamos un diccionario con todos los valores que queremos probar para n_neighbors\n",
    "param_grid = {\n",
    "    'n_neighbors': np.arange(20, 30),\n",
    "    'weights': ['uniform', 'distance'],\n",
    "    'metric': ['euclidean', 'manhattan']\n",
    "}\n",
    "\n",
    "# Usamos GridSearchCV para probar todos los valores para n_neighbors\n",
    "knn_gscv = GridSearchCV(\n",
    "    knn2, \n",
    "    param_grid,\n",
    "    verbose = 1,\n",
    "    cv = 5,\n",
    "    n_jobs = -1)\n",
    "\n",
    "# Ajustamos el modelo con los datos de entrenamiento\n",
    "knn_gscv.fit(X_trainval, y_trainval)\n",
    "\n",
    "print('Conjunto de validacion :')\n",
    "print_binary_confusion_matrix(y_test, knn_gscv.predict(X_test))"
   ]
  },
  {
   "cell_type": "code",
   "execution_count": null,
   "metadata": {},
   "outputs": [],
   "source": [
    "print('Mejor score :', knn_gscv.best_score_)\n",
    "\n",
    "print('Mejor estimacion :')\n",
    "print(knn_gscv.best_estimator_)\n",
    "\n",
    "print('Mejor parametro n_neighbors :')\n",
    "knn_gscv.best_params_"
   ]
  },
  {
   "cell_type": "code",
   "execution_count": 0,
   "metadata": {
    "colab": {
     "base_uri": "https://localhost:8080/",
     "height": 34
    },
    "colab_type": "code",
    "id": "zOz7-C0Hhwqp",
    "outputId": "48d9036b-fe0f-4333-ccc9-cbda67195418"
   },
   "outputs": [
    {
     "data": {
      "text/plain": [
       "0.8143333333333334"
      ]
     },
     "execution_count": 38,
     "metadata": {
      "tags": []
     },
     "output_type": "execute_result"
    }
   ],
   "source": [
    "knn_gscv.score(X_test, y_test)"
   ]
  },
  {
   "cell_type": "code",
   "execution_count": 0,
   "metadata": {
    "colab": {},
    "colab_type": "code",
    "id": "kmdftt29tz0E"
   },
   "outputs": [],
   "source": [
    "def plot_roc_knn(prob):\n",
    "  fpr, tpr, threshold = metrics.roc_curve(y_test, prob[:, 1])\n",
    "  roc_auc = metrics.auc(fpr, tpr)\n",
    "\n",
    "  plt.title('Receiver Operating Characteristic')\n",
    "  plt.plot(fpr, tpr, 'b', label = 'AUC = %0.2f' % roc_auc)\n",
    "  plt.legend(loc = 'lower right')\n",
    "  plt.plot([0, 1], [0, 1],'r--')\n",
    "  plt.xlim([0, 1])\n",
    "  plt.ylim([0, 1])\n",
    "  plt.ylabel('True Positive Rate')\n",
    "  plt.xlabel('False Positive Rate')\n",
    "  plt.title('ROC Curve of kNN')\n",
    "  plt.show()"
   ]
  },
  {
   "cell_type": "code",
   "execution_count": 0,
   "metadata": {
    "colab": {
     "base_uri": "https://localhost:8080/",
     "height": 295
    },
    "colab_type": "code",
    "id": "fC8CXr_ht8sl",
    "outputId": "f5fd987e-ffdf-4cfe-96aa-31d9b1ecae50"
   },
   "outputs": [
    {
     "data": {
      "image/png": "[encoded data removed]",
      "text/plain": [
       "<Figure size 432x288 with 1 Axes>"
      ]
     },
     "metadata": {
      "tags": []
     },
     "output_type": "display_data"
    }
   ],
   "source": [
    "plot_roc_knn(knn_gscv.predict_proba(X_test))"
   ]
  },
  {
   "cell_type": "markdown",
   "metadata": {
    "colab_type": "text",
    "id": "DJ2cl0xYcqWD"
   },
   "source": [
    "<h1>Decision Tree Classifier (CART)</h1>"
   ]
  },
  {
   "cell_type": "code",
   "execution_count": 23,
   "metadata": {
    "colab": {
     "base_uri": "https://localhost:8080/",
     "height": 34
    },
    "colab_type": "code",
    "executionInfo": {
     "elapsed": 522,
     "status": "ok",
     "timestamp": 1560709419506,
     "user": {
      "displayName": "DANIEL ANDRE QUINTANA BEDOYA",
      "photoUrl": "https://lh3.googleusercontent.com/-1SCJJU_TiBY/AAAAAAAAAAI/AAAAAAAAAAc/ajTyo--pV5o/s64/photo.jpg",
      "userId": "14237098614139855899"
     },
     "user_tz": 300
    },
    "id": "7f16sTxhcynd",
    "outputId": "3ba2d46c-710d-428b-9480-4eca93d91467"
   },
   "outputs": [
    {
     "data": {
      "text/plain": [
       "0.818"
      ]
     },
     "execution_count": 23,
     "metadata": {
      "tags": []
     },
     "output_type": "execute_result"
    }
   ],
   "source": [
    "from sklearn.tree import DecisionTreeClassifier\n",
    "from sklearn.metrics import accuracy_score\n",
    "\n",
    "#Creando el método\n",
    "dsc = DecisionTreeClassifier(max_depth=3) \n",
    "\n",
    "# Entrenando el método\n",
    "dsc.fit(X_train, y_train)\n",
    "\n",
    "# Haciendo nuestra predicción con data de prueba\n",
    "predicciones = dsc.predict(X_val)\n",
    "\n",
    "# Calculando nuestra presición\n",
    "accuracy_score(y_true = y_val, y_pred = predicciones)"
   ]
  },
  {
   "cell_type": "markdown",
   "metadata": {
    "colab_type": "text",
    "id": "z81o9uBpfbYj"
   },
   "source": [
    "<h2>Mejorando el rendimiento a través de la selección de parámetros y valores óptimos</h2>"
   ]
  },
  {
   "cell_type": "markdown",
   "metadata": {
    "colab_type": "text",
    "id": "9fhkOa0ugN80"
   },
   "source": [
    "<h4>* GridSearchCV incluye validación cruzada en su algoritmo</h4>"
   ]
  },
  {
   "cell_type": "code",
   "execution_count": 25,
   "metadata": {
    "colab": {
     "base_uri": "https://localhost:8080/",
     "height": 136
    },
    "colab_type": "code",
    "executionInfo": {
     "elapsed": 169404,
     "status": "ok",
     "timestamp": 1560709796599,
     "user": {
      "displayName": "DANIEL ANDRE QUINTANA BEDOYA",
      "photoUrl": "https://lh3.googleusercontent.com/-1SCJJU_TiBY/AAAAAAAAAAI/AAAAAAAAAAc/ajTyo--pV5o/s64/photo.jpg",
      "userId": "14237098614139855899"
     },
     "user_tz": 300
    },
    "id": "tLh7LrTifO1x",
    "outputId": "a72f8333-513c-4998-fb88-d6694e3e366b"
   },
   "outputs": [
    {
     "name": "stdout",
     "output_type": "stream",
     "text": [
      "DecisionTreeClassifier(class_weight='balanced', criterion='gini', max_depth=3,\n",
      "                       max_features=None, max_leaf_nodes=5,\n",
      "                       min_impurity_decrease=0.0, min_impurity_split=None,\n",
      "                       min_samples_leaf=1, min_samples_split=2,\n",
      "                       min_weight_fraction_leaf=0.0, presort=False,\n",
      "                       random_state=None, splitter='best')\n",
      "0.7683333333333333\n"
     ]
    }
   ],
   "source": [
    "# https://scikit-learn.org/stable/modules/generated/sklearn.model_selection.GridSearchCV.html\n",
    "from sklearn.model_selection import GridSearchCV\n",
    "\n",
    "# Parámetros especificados en: https://scikit-learn.org/stable/modules/generated/sklearn.tree.DecisionTreeClassifier.html#sklearn.tree.DecisionTreeClassifier\n",
    "param_grid = {\n",
    "    'max_depth': np.arange(3, 10),\n",
    "    'criterion' : ['gini','entropy'],\n",
    "    'max_leaf_nodes': [5,10,20,100],\n",
    "    'min_samples_split': [2, 5, 10, 20],\n",
    "    'class_weight' : ['balanced']\n",
    "  }\n",
    "\n",
    "grid_tree = GridSearchCV(DecisionTreeClassifier(), param_grid, cv = 5, scoring= 'accuracy')\n",
    "\n",
    "# Entrenando el método\n",
    "grid_tree.fit(X_train, y_train)\n",
    "\n",
    "# Mostramos el mejor estimador\n",
    "mejor_estimador = grid_tree.best_estimator_\n",
    "print(grid_tree.best_estimator_)\n",
    "\n",
    "# Mostrar la mejor presición alcanzada\n",
    "print(np.abs(grid_tree.best_score_))"
   ]
  },
  {
   "cell_type": "markdown",
   "metadata": {
    "colab_type": "text",
    "id": "zJ4k2eOvgE94"
   },
   "source": [
    "<h4>Usando  el mejor estimador para entrenar nuevamente el modelo</h4>"
   ]
  },
  {
   "cell_type": "code",
   "execution_count": 26,
   "metadata": {
    "colab": {
     "base_uri": "https://localhost:8080/",
     "height": 34
    },
    "colab_type": "code",
    "executionInfo": {
     "elapsed": 438,
     "status": "ok",
     "timestamp": 1560709871571,
     "user": {
      "displayName": "DANIEL ANDRE QUINTANA BEDOYA",
      "photoUrl": "https://lh3.googleusercontent.com/-1SCJJU_TiBY/AAAAAAAAAAI/AAAAAAAAAAc/ajTyo--pV5o/s64/photo.jpg",
      "userId": "14237098614139855899"
     },
     "user_tz": 300
    },
    "id": "atailNQsgEBT",
    "outputId": "6fc19d74-26f8-42d2-ed6a-1b626f9064c9"
   },
   "outputs": [
    {
     "data": {
      "text/plain": [
       "0.7668333333333334"
      ]
     },
     "execution_count": 26,
     "metadata": {
      "tags": []
     },
     "output_type": "execute_result"
    }
   ],
   "source": [
    "#Entrenamiento del módelo considerando el mejor estimador\n",
    "\n",
    "clasificador = mejor_estimador\n",
    "\n",
    "clasificador.fit(X_train, y_train)\n",
    "\n",
    "predicciones = clasificador.predict(X_val)\n",
    "\n",
    "accuracy_score(y_true = y_val, y_pred = predicciones)"
   ]
  },
  {
   "cell_type": "markdown",
   "metadata": {
    "colab_type": "text",
    "id": "4-GLMkbxn9WZ"
   },
   "source": [
    "<h4>Mostrando Curva ROC</h4>"
   ]
  },
  {
   "cell_type": "code",
   "execution_count": 30,
   "metadata": {
    "colab": {
     "base_uri": "https://localhost:8080/",
     "height": 470
    },
    "colab_type": "code",
    "executionInfo": {
     "elapsed": 822,
     "status": "ok",
     "timestamp": 1560710855127,
     "user": {
      "displayName": "DANIEL ANDRE QUINTANA BEDOYA",
      "photoUrl": "https://lh3.googleusercontent.com/-1SCJJU_TiBY/AAAAAAAAAAI/AAAAAAAAAAc/ajTyo--pV5o/s64/photo.jpg",
      "userId": "14237098614139855899"
     },
     "user_tz": 300
    },
    "id": "lvK229gGmI2E",
    "outputId": "a359145e-55bf-4902-cc91-6ffd627bfc5f"
   },
   "outputs": [
    {
     "data": {
      "image/png": "[encoded data removed]",
      "text/plain": [
       "<Figure size 648x504 with 1 Axes>"
      ]
     },
     "metadata": {
      "tags": []
     },
     "output_type": "display_data"
    }
   ],
   "source": [
    " plot_roc(clasificador, X_val, y_val)"
   ]
  }
 ],
 "metadata": {
  "colab": {
   "collapsed_sections": [],
   "name": "DefaultCreditCard.ipynb",
   "provenance": [],
   "version": "0.3.2"
  },
  "kernelspec": {
   "display_name": "Python 3",
   "language": "python",
   "name": "python3"
  },
  "language_info": {
   "codemirror_mode": {
    "name": "ipython",
    "version": 3
   },
   "file_extension": ".py",
   "mimetype": "text/x-python",
   "name": "python",
   "nbconvert_exporter": "python",
   "pygments_lexer": "ipython3",
   "version": "3.7.1"
  }
 },
 "nbformat": 4,
 "nbformat_minor": 1
}
