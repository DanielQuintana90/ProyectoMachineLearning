{
  "nbformat": 4,
  "nbformat_minor": 0,
  "metadata": {
    "colab": {
      "name": "DefaultCreditCard.ipynb",
      "version": "0.3.2",
      "provenance": [],
      "collapsed_sections": [],
      "toc_visible": true
    },
    "language_info": {
      "codemirror_mode": {
        "name": "ipython",
        "version": 3
      },
      "file_extension": ".py",
      "mimetype": "text/x-python",
      "name": "python",
      "nbconvert_exporter": "python",
      "pygments_lexer": "ipython3",
      "version": "3.7.1"
    },
    "kernelspec": {
      "display_name": "Python 3",
      "language": "python",
      "name": "python3"
    }
  },
  "cells": [
    {
      "cell_type": "markdown",
      "metadata": {
        "id": "wv5BgG-Jrn58",
        "colab_type": "text"
      },
      "source": [
        "# Análisis y Tratamiento de los Datos"
      ]
    },
    {
      "cell_type": "code",
      "metadata": {
        "colab_type": "code",
        "id": "TuRpelIlik64",
        "colab": {}
      },
      "source": [
        "import pickle\n",
        "import numpy as np\n",
        "import pandas as pd\n",
        "import seaborn as sns\n",
        "import matplotlib.pyplot as plt\n",
        "%matplotlib inline"
      ],
      "execution_count": 0,
      "outputs": []
    },
    {
      "cell_type": "code",
      "metadata": {
        "colab_type": "code",
        "id": "jwsVc4xniFR3",
        "colab": {
          "base_uri": "https://localhost:8080/",
          "height": 275
        },
        "outputId": "2e787348-8850-432a-cdf4-f699f52697c8"
      },
      "source": [
        "#Cargamos el DataSet\n",
        "data = pd.read_csv(\"CreditCard.csv\")\n",
        "#Vista previa de la información contenida en el DataSet.\n",
        "data.head() "
      ],
      "execution_count": 21,
      "outputs": [
        {
          "output_type": "execute_result",
          "data": {
            "text/html": [
              "<div>\n",
              "<style scoped>\n",
              "    .dataframe tbody tr th:only-of-type {\n",
              "        vertical-align: middle;\n",
              "    }\n",
              "\n",
              "    .dataframe tbody tr th {\n",
              "        vertical-align: top;\n",
              "    }\n",
              "\n",
              "    .dataframe thead th {\n",
              "        text-align: right;\n",
              "    }\n",
              "</style>\n",
              "<table border=\"1\" class=\"dataframe\">\n",
              "  <thead>\n",
              "    <tr style=\"text-align: right;\">\n",
              "      <th></th>\n",
              "      <th>Unnamed: 0</th>\n",
              "      <th>ID</th>\n",
              "      <th>LIMIT_BAL</th>\n",
              "      <th>SEX</th>\n",
              "      <th>EDUCATION</th>\n",
              "      <th>MARRIAGE</th>\n",
              "      <th>AGE</th>\n",
              "      <th>PAY_0</th>\n",
              "      <th>PAY_2</th>\n",
              "      <th>PAY_3</th>\n",
              "      <th>PAY_4</th>\n",
              "      <th>PAY_5</th>\n",
              "      <th>PAY_6</th>\n",
              "      <th>BILL_AMT1</th>\n",
              "      <th>BILL_AMT2</th>\n",
              "      <th>BILL_AMT3</th>\n",
              "      <th>BILL_AMT4</th>\n",
              "      <th>BILL_AMT5</th>\n",
              "      <th>BILL_AMT6</th>\n",
              "      <th>PAY_AMT1</th>\n",
              "      <th>PAY_AMT2</th>\n",
              "      <th>PAY_AMT3</th>\n",
              "      <th>PAY_AMT4</th>\n",
              "      <th>PAY_AMT5</th>\n",
              "      <th>PAY_AMT6</th>\n",
              "      <th>default payment next month</th>\n",
              "    </tr>\n",
              "  </thead>\n",
              "  <tbody>\n",
              "    <tr>\n",
              "      <th>0</th>\n",
              "      <td>1</td>\n",
              "      <td>1</td>\n",
              "      <td>20000.0</td>\n",
              "      <td>2</td>\n",
              "      <td>2</td>\n",
              "      <td>1</td>\n",
              "      <td>24</td>\n",
              "      <td>2</td>\n",
              "      <td>2</td>\n",
              "      <td>-1</td>\n",
              "      <td>-1</td>\n",
              "      <td>-2</td>\n",
              "      <td>-2</td>\n",
              "      <td>3913.0</td>\n",
              "      <td>3102.0</td>\n",
              "      <td>689.0</td>\n",
              "      <td>0.0</td>\n",
              "      <td>0.0</td>\n",
              "      <td>0.0</td>\n",
              "      <td>0.0</td>\n",
              "      <td>689.0</td>\n",
              "      <td>0.0</td>\n",
              "      <td>0.0</td>\n",
              "      <td>0.0</td>\n",
              "      <td>0.0</td>\n",
              "      <td>1</td>\n",
              "    </tr>\n",
              "    <tr>\n",
              "      <th>1</th>\n",
              "      <td>2</td>\n",
              "      <td>2</td>\n",
              "      <td>120000.0</td>\n",
              "      <td>2</td>\n",
              "      <td>2</td>\n",
              "      <td>2</td>\n",
              "      <td>26</td>\n",
              "      <td>-1</td>\n",
              "      <td>2</td>\n",
              "      <td>0</td>\n",
              "      <td>0</td>\n",
              "      <td>0</td>\n",
              "      <td>2</td>\n",
              "      <td>2682.0</td>\n",
              "      <td>1725.0</td>\n",
              "      <td>2682.0</td>\n",
              "      <td>3272.0</td>\n",
              "      <td>3455.0</td>\n",
              "      <td>3261.0</td>\n",
              "      <td>0.0</td>\n",
              "      <td>1000.0</td>\n",
              "      <td>1000.0</td>\n",
              "      <td>1000.0</td>\n",
              "      <td>0.0</td>\n",
              "      <td>2000.0</td>\n",
              "      <td>1</td>\n",
              "    </tr>\n",
              "    <tr>\n",
              "      <th>2</th>\n",
              "      <td>3</td>\n",
              "      <td>3</td>\n",
              "      <td>90000.0</td>\n",
              "      <td>2</td>\n",
              "      <td>2</td>\n",
              "      <td>2</td>\n",
              "      <td>34</td>\n",
              "      <td>0</td>\n",
              "      <td>0</td>\n",
              "      <td>0</td>\n",
              "      <td>0</td>\n",
              "      <td>0</td>\n",
              "      <td>0</td>\n",
              "      <td>29239.0</td>\n",
              "      <td>14027.0</td>\n",
              "      <td>13559.0</td>\n",
              "      <td>14331.0</td>\n",
              "      <td>14948.0</td>\n",
              "      <td>15549.0</td>\n",
              "      <td>1518.0</td>\n",
              "      <td>1500.0</td>\n",
              "      <td>1000.0</td>\n",
              "      <td>1000.0</td>\n",
              "      <td>1000.0</td>\n",
              "      <td>5000.0</td>\n",
              "      <td>0</td>\n",
              "    </tr>\n",
              "    <tr>\n",
              "      <th>3</th>\n",
              "      <td>4</td>\n",
              "      <td>4</td>\n",
              "      <td>50000.0</td>\n",
              "      <td>2</td>\n",
              "      <td>2</td>\n",
              "      <td>1</td>\n",
              "      <td>37</td>\n",
              "      <td>0</td>\n",
              "      <td>0</td>\n",
              "      <td>0</td>\n",
              "      <td>0</td>\n",
              "      <td>0</td>\n",
              "      <td>0</td>\n",
              "      <td>46990.0</td>\n",
              "      <td>48233.0</td>\n",
              "      <td>49291.0</td>\n",
              "      <td>28314.0</td>\n",
              "      <td>28959.0</td>\n",
              "      <td>29547.0</td>\n",
              "      <td>2000.0</td>\n",
              "      <td>2019.0</td>\n",
              "      <td>1200.0</td>\n",
              "      <td>1100.0</td>\n",
              "      <td>1069.0</td>\n",
              "      <td>1000.0</td>\n",
              "      <td>0</td>\n",
              "    </tr>\n",
              "    <tr>\n",
              "      <th>4</th>\n",
              "      <td>5</td>\n",
              "      <td>5</td>\n",
              "      <td>50000.0</td>\n",
              "      <td>1</td>\n",
              "      <td>2</td>\n",
              "      <td>1</td>\n",
              "      <td>57</td>\n",
              "      <td>-1</td>\n",
              "      <td>0</td>\n",
              "      <td>-1</td>\n",
              "      <td>0</td>\n",
              "      <td>0</td>\n",
              "      <td>0</td>\n",
              "      <td>8617.0</td>\n",
              "      <td>5670.0</td>\n",
              "      <td>35835.0</td>\n",
              "      <td>20940.0</td>\n",
              "      <td>19146.0</td>\n",
              "      <td>19131.0</td>\n",
              "      <td>2000.0</td>\n",
              "      <td>36681.0</td>\n",
              "      <td>10000.0</td>\n",
              "      <td>9000.0</td>\n",
              "      <td>689.0</td>\n",
              "      <td>679.0</td>\n",
              "      <td>0</td>\n",
              "    </tr>\n",
              "  </tbody>\n",
              "</table>\n",
              "</div>"
            ],
            "text/plain": [
              "   Unnamed: 0  ID  LIMIT_BAL  ...  PAY_AMT5  PAY_AMT6  default payment next month\n",
              "0           1   1    20000.0  ...       0.0       0.0                           1\n",
              "1           2   2   120000.0  ...       0.0    2000.0                           1\n",
              "2           3   3    90000.0  ...    1000.0    5000.0                           0\n",
              "3           4   4    50000.0  ...    1069.0    1000.0                           0\n",
              "4           5   5    50000.0  ...     689.0     679.0                           0\n",
              "\n",
              "[5 rows x 26 columns]"
            ]
          },
          "metadata": {
            "tags": []
          },
          "execution_count": 21
        }
      ]
    },
    {
      "cell_type": "code",
      "metadata": {
        "id": "hKTutNdjogFh",
        "colab_type": "code",
        "colab": {
          "base_uri": "https://localhost:8080/",
          "height": 544
        },
        "outputId": "6927447b-f2ec-463e-9bdc-6d7e4460145f"
      },
      "source": [
        "#Estructura de las columnas que tiene el DataSet.\n",
        "data.info()"
      ],
      "execution_count": 22,
      "outputs": [
        {
          "output_type": "stream",
          "text": [
            "<class 'pandas.core.frame.DataFrame'>\n",
            "RangeIndex: 30000 entries, 0 to 29999\n",
            "Data columns (total 26 columns):\n",
            "Unnamed: 0                    30000 non-null int64\n",
            "ID                            30000 non-null int64\n",
            "LIMIT_BAL                     30000 non-null float64\n",
            "SEX                           30000 non-null int64\n",
            "EDUCATION                     30000 non-null int64\n",
            "MARRIAGE                      30000 non-null int64\n",
            "AGE                           30000 non-null int64\n",
            "PAY_0                         30000 non-null int64\n",
            "PAY_2                         30000 non-null int64\n",
            "PAY_3                         30000 non-null int64\n",
            "PAY_4                         30000 non-null int64\n",
            "PAY_5                         30000 non-null int64\n",
            "PAY_6                         30000 non-null int64\n",
            "BILL_AMT1                     30000 non-null float64\n",
            "BILL_AMT2                     30000 non-null float64\n",
            "BILL_AMT3                     30000 non-null float64\n",
            "BILL_AMT4                     30000 non-null float64\n",
            "BILL_AMT5                     30000 non-null float64\n",
            "BILL_AMT6                     30000 non-null float64\n",
            "PAY_AMT1                      30000 non-null float64\n",
            "PAY_AMT2                      30000 non-null float64\n",
            "PAY_AMT3                      30000 non-null float64\n",
            "PAY_AMT4                      30000 non-null float64\n",
            "PAY_AMT5                      30000 non-null float64\n",
            "PAY_AMT6                      30000 non-null float64\n",
            "default payment next month    30000 non-null int64\n",
            "dtypes: float64(13), int64(13)\n",
            "memory usage: 6.0 MB\n"
          ],
          "name": "stdout"
        }
      ]
    },
    {
      "cell_type": "code",
      "metadata": {
        "id": "6E55JG1595O-",
        "colab_type": "code",
        "colab": {
          "base_uri": "https://localhost:8080/",
          "height": 54
        },
        "outputId": "08e22989-1bea-47b9-80ce-99f5981bf3cc"
      },
      "source": [
        "### Diccionario con equivalencias de los campos MARRIAGE, SEX, EDUCATION. \n",
        "### Tomada de https://archive.ics.uci.edu/ml/datasets/default+of+credit+card+clients\n",
        "diccionario = {'MARRIAGE': {1:'Casado', 2:'Soltero', 3:'Otros'},\n",
        "       'SEX': {1:'Masculino', 2:'Femenino'},\n",
        "        'EDUCATION': {1:'Posgrado', 2:'Universidad', 3:'Secundaria', 4:'Otros'}\n",
        "       }\n",
        "print(diccionario)"
      ],
      "execution_count": 23,
      "outputs": [
        {
          "output_type": "stream",
          "text": [
            "{'MARRIAGE': {1: 'Casado', 2: 'Soltero', 3: 'Otros'}, 'SEX': {1: 'Masculino', 2: 'Femenino'}, 'EDUCATION': {1: 'Posgrado', 2: 'Universidad', 3: 'Secundaria', 4: 'Otros'}}\n"
          ],
          "name": "stdout"
        }
      ]
    },
    {
      "cell_type": "code",
      "metadata": {
        "id": "jiYLO1WKtrif",
        "colab_type": "code",
        "outputId": "4fa5a0a0-f436-45df-fd6d-ef8af7961f7a",
        "colab": {
          "base_uri": "https://localhost:8080/",
          "height": 746
        }
      },
      "source": [
        "def graficoDataSet():  \n",
        "  plt.clf()\n",
        "  fig, axes = plt.subplots(nrows=3, ncols=1, figsize=(7,10))\n",
        "\n",
        "  #if sns.__version__ >= '0.9.0':\n",
        "  sns.countplot(x = 'SEX', hue='default payment next month', data=data, ax = axes[0])\n",
        "  #plt.title('Distribución de Morosidad por Sexo del Cliente ')\n",
        "  axes[0].set_title('SEX')\n",
        "  axes[0].set_ylabel('Cantidad de Clientes')\n",
        "  axes[0].set_xlabel('')\n",
        "  axes[0].set_xticklabels(['Masculino', 'Femenino'])\n",
        "  #plt.show()\n",
        "\n",
        "  #if sns.__version__ >= '0.9.0':\n",
        "  sns.countplot(x = 'EDUCATION', hue='default payment next month', data=data, ax = axes[1])\n",
        "  #plt.title('Distribución de Morosidad por Educación ')\n",
        "  axes[1].set_title('EDUCATION')\n",
        "  axes[1].set_ylabel('Cantidad de Clientes')\n",
        "  axes[1].set_xlabel(diccionario['EDUCATION'])\n",
        "  #plt.show()\n",
        "\n",
        "  #if sns.__version__ >= '0.9.0':\n",
        "  sns.countplot(x = 'MARRIAGE', hue='default payment next month', data=data, ax = axes[2])\n",
        "  #plt.title('Distribución de Morosidad por Estado Civil ')\n",
        "  axes[2].set_title('MARRIAGE')\n",
        "  axes[2].set_ylabel('Cantidad de Clientes')\n",
        "  axes[2].set_xlabel(diccionario['MARRIAGE'])\n",
        "  #plt.show()\n",
        "\n",
        "  plt.tight_layout()\n",
        "  plt.savefig('GraficoDataSet.png')\n",
        "\n",
        "graficoDataSet()  "
      ],
      "execution_count": 26,
      "outputs": [
        {
          "output_type": "display_data",
          "data": {
            "text/plain": [
              "<Figure size 432x288 with 0 Axes>"
            ]
          },
          "metadata": {
            "tags": []
          }
        },
        {
          "output_type": "display_data",
          "data": {
            "image/png": "[encoded data removed]",
            "text/plain": [
              "<Figure size 504x720 with 3 Axes>"
            ]
          },
          "metadata": {
            "tags": []
          }
        }
      ]
    },
    {
      "cell_type": "markdown",
      "metadata": {
        "id": "_qy5cF-q_FUb",
        "colab_type": "text"
      },
      "source": [
        "**Se puede apreciar que existen categorías las cuales no están descritas en el origen del DataSet (https://archive.ics.uci.edu/ml/datasets/default+of+credit+card+clients) \n",
        "Estos casos serán incluidos com parte de la categoría Otros.**"
      ]
    },
    {
      "cell_type": "code",
      "metadata": {
        "id": "PpPdI4WDBm9Y",
        "colab_type": "code",
        "colab": {
          "base_uri": "https://localhost:8080/",
          "height": 85
        },
        "outputId": "8b11e248-9157-40c2-889a-2f10f927e017"
      },
      "source": [
        "data['EDUCATION'].replace({0:4, 5:4, 6:4}, inplace = True)\n",
        "data['EDUCATION'].value_counts()\n",
        "\n",
        "data['MARRIAGE'].replace({0:3}, inplace = True)\n",
        "data['MARRIAGE'].value_counts()"
      ],
      "execution_count": 27,
      "outputs": [
        {
          "output_type": "execute_result",
          "data": {
            "text/plain": [
              "2    15964\n",
              "1    13659\n",
              "3      377\n",
              "Name: MARRIAGE, dtype: int64"
            ]
          },
          "metadata": {
            "tags": []
          },
          "execution_count": 27
        }
      ]
    },
    {
      "cell_type": "code",
      "metadata": {
        "id": "MhnmMHvvBdAJ",
        "colab_type": "code",
        "colab": {
          "base_uri": "https://localhost:8080/",
          "height": 746
        },
        "outputId": "d4b1866a-415c-4772-82b5-00136cac1dea"
      },
      "source": [
        "#Generamos el nuevo gráfico luego de modificar las variables categóricas.\n",
        "graficoDataSet()"
      ],
      "execution_count": 28,
      "outputs": [
        {
          "output_type": "display_data",
          "data": {
            "text/plain": [
              "<Figure size 432x288 with 0 Axes>"
            ]
          },
          "metadata": {
            "tags": []
          }
        },
        {
          "output_type": "display_data",
          "data": {
            "image/png": "[encoded data removed]",
            "text/plain": [
              "<Figure size 504x720 with 3 Axes>"
            ]
          },
          "metadata": {
            "tags": []
          }
        }
      ]
    },
    {
      "cell_type": "code",
      "metadata": {
        "id": "dsoEoztwBKKj",
        "colab_type": "code",
        "colab": {}
      },
      "source": [
        "#Transformamos variables numericas a tipo categoricas.\n",
        "data['SEX']=pd.to_numeric(data[\"SEX\"], downcast = 'integer').astype('category')\n",
        "data['EDUCATION']=pd.to_numeric(data[\"EDUCATION\"], downcast = 'integer').astype('category')\n",
        "data['MARRIAGE']=pd.to_numeric(data[\"MARRIAGE\"], downcast = 'integer').astype('category')\n",
        "data['default payment next month']=pd.to_numeric(data[\"default payment next month\"], downcast = 'integer').astype('category')\n"
      ],
      "execution_count": 0,
      "outputs": []
    },
    {
      "cell_type": "code",
      "metadata": {
        "id": "Q2qqezxiBNfM",
        "colab_type": "code",
        "colab": {
          "base_uri": "https://localhost:8080/",
          "height": 153
        },
        "outputId": "64692bd6-08c8-43e1-b2b3-8d21a151c903"
      },
      "source": [
        "### Valores unicos de cada variable categórica\n",
        "variables_categoricas = [c for c in data if not pd.api.types.is_numeric_dtype(data[c])]\n",
        "for v in variables_categoricas:\n",
        "    print('Valores de la variable {0}: {1}'.format(v, data[v].unique()))"
      ],
      "execution_count": 31,
      "outputs": [
        {
          "output_type": "stream",
          "text": [
            "Valores de la variable SEX: [2, 1]\n",
            "Categories (2, int64): [2, 1]\n",
            "Valores de la variable EDUCATION: [2, 1, 3, 4]\n",
            "Categories (4, int64): [2, 1, 3, 4]\n",
            "Valores de la variable MARRIAGE: [1, 2, 3]\n",
            "Categories (3, int64): [1, 2, 3]\n",
            "Valores de la variable default payment next month: [1, 0]\n",
            "Categories (2, int64): [1, 0]\n"
          ],
          "name": "stdout"
        }
      ]
    },
    {
      "cell_type": "code",
      "metadata": {
        "id": "YCiL8HazaqhW",
        "colab_type": "code",
        "colab": {
          "base_uri": "https://localhost:8080/",
          "height": 119
        },
        "outputId": "1fd8d773-1630-4221-8b18-513103cfab60"
      },
      "source": [
        "#Renombramos algunas columnas\n",
        "data.rename(columns = {'PAY_0': 'PAY_1', \n",
        "                     'default payment next month':'default'}, \n",
        "                                 inplace = True) \n",
        "data.columns"
      ],
      "execution_count": 32,
      "outputs": [
        {
          "output_type": "execute_result",
          "data": {
            "text/plain": [
              "Index(['Unnamed: 0', 'ID', 'LIMIT_BAL', 'SEX', 'EDUCATION', 'MARRIAGE', 'AGE',\n",
              "       'PAY_1', 'PAY_2', 'PAY_3', 'PAY_4', 'PAY_5', 'PAY_6', 'BILL_AMT1',\n",
              "       'BILL_AMT2', 'BILL_AMT3', 'BILL_AMT4', 'BILL_AMT5', 'BILL_AMT6',\n",
              "       'PAY_AMT1', 'PAY_AMT2', 'PAY_AMT3', 'PAY_AMT4', 'PAY_AMT5', 'PAY_AMT6',\n",
              "       'default'],\n",
              "      dtype='object')"
            ]
          },
          "metadata": {
            "tags": []
          },
          "execution_count": 32
        }
      ]
    },
    {
      "cell_type": "code",
      "metadata": {
        "id": "PlW778VmFgEr",
        "colab_type": "code",
        "colab": {}
      },
      "source": [
        "### Exportamos la data preprocesada\n",
        "data.to_csv(\"CreditCardData_Processed.csv\")"
      ],
      "execution_count": 0,
      "outputs": []
    },
    {
      "cell_type": "code",
      "metadata": {
        "id": "h4Ra7jCVxi48",
        "colab_type": "code",
        "colab": {}
      },
      "source": [
        "data.drop('ID', inplace = True, axis = 1)\n",
        "data.drop('Unnamed: 0', inplace = True, axis = 1)\n"
      ],
      "execution_count": 0,
      "outputs": []
    },
    {
      "cell_type": "code",
      "metadata": {
        "id": "9rAp1WomyI4R",
        "colab_type": "code",
        "colab": {
          "base_uri": "https://localhost:8080/",
          "height": 224
        },
        "outputId": "b9d5ae76-ae5b-4554-c91b-ef9c83400ab8"
      },
      "source": [
        "### DataSet Final para entrenamiento\n",
        "data.head()"
      ],
      "execution_count": 36,
      "outputs": [
        {
          "output_type": "execute_result",
          "data": {
            "text/html": [
              "<div>\n",
              "<style scoped>\n",
              "    .dataframe tbody tr th:only-of-type {\n",
              "        vertical-align: middle;\n",
              "    }\n",
              "\n",
              "    .dataframe tbody tr th {\n",
              "        vertical-align: top;\n",
              "    }\n",
              "\n",
              "    .dataframe thead th {\n",
              "        text-align: right;\n",
              "    }\n",
              "</style>\n",
              "<table border=\"1\" class=\"dataframe\">\n",
              "  <thead>\n",
              "    <tr style=\"text-align: right;\">\n",
              "      <th></th>\n",
              "      <th>LIMIT_BAL</th>\n",
              "      <th>SEX</th>\n",
              "      <th>EDUCATION</th>\n",
              "      <th>MARRIAGE</th>\n",
              "      <th>AGE</th>\n",
              "      <th>PAY_1</th>\n",
              "      <th>PAY_2</th>\n",
              "      <th>PAY_3</th>\n",
              "      <th>PAY_4</th>\n",
              "      <th>PAY_5</th>\n",
              "      <th>PAY_6</th>\n",
              "      <th>BILL_AMT1</th>\n",
              "      <th>BILL_AMT2</th>\n",
              "      <th>BILL_AMT3</th>\n",
              "      <th>BILL_AMT4</th>\n",
              "      <th>BILL_AMT5</th>\n",
              "      <th>BILL_AMT6</th>\n",
              "      <th>PAY_AMT1</th>\n",
              "      <th>PAY_AMT2</th>\n",
              "      <th>PAY_AMT3</th>\n",
              "      <th>PAY_AMT4</th>\n",
              "      <th>PAY_AMT5</th>\n",
              "      <th>PAY_AMT6</th>\n",
              "      <th>default</th>\n",
              "    </tr>\n",
              "  </thead>\n",
              "  <tbody>\n",
              "    <tr>\n",
              "      <th>0</th>\n",
              "      <td>20000.0</td>\n",
              "      <td>2</td>\n",
              "      <td>2</td>\n",
              "      <td>1</td>\n",
              "      <td>24</td>\n",
              "      <td>2</td>\n",
              "      <td>2</td>\n",
              "      <td>-1</td>\n",
              "      <td>-1</td>\n",
              "      <td>-2</td>\n",
              "      <td>-2</td>\n",
              "      <td>3913.0</td>\n",
              "      <td>3102.0</td>\n",
              "      <td>689.0</td>\n",
              "      <td>0.0</td>\n",
              "      <td>0.0</td>\n",
              "      <td>0.0</td>\n",
              "      <td>0.0</td>\n",
              "      <td>689.0</td>\n",
              "      <td>0.0</td>\n",
              "      <td>0.0</td>\n",
              "      <td>0.0</td>\n",
              "      <td>0.0</td>\n",
              "      <td>1</td>\n",
              "    </tr>\n",
              "    <tr>\n",
              "      <th>1</th>\n",
              "      <td>120000.0</td>\n",
              "      <td>2</td>\n",
              "      <td>2</td>\n",
              "      <td>2</td>\n",
              "      <td>26</td>\n",
              "      <td>-1</td>\n",
              "      <td>2</td>\n",
              "      <td>0</td>\n",
              "      <td>0</td>\n",
              "      <td>0</td>\n",
              "      <td>2</td>\n",
              "      <td>2682.0</td>\n",
              "      <td>1725.0</td>\n",
              "      <td>2682.0</td>\n",
              "      <td>3272.0</td>\n",
              "      <td>3455.0</td>\n",
              "      <td>3261.0</td>\n",
              "      <td>0.0</td>\n",
              "      <td>1000.0</td>\n",
              "      <td>1000.0</td>\n",
              "      <td>1000.0</td>\n",
              "      <td>0.0</td>\n",
              "      <td>2000.0</td>\n",
              "      <td>1</td>\n",
              "    </tr>\n",
              "    <tr>\n",
              "      <th>2</th>\n",
              "      <td>90000.0</td>\n",
              "      <td>2</td>\n",
              "      <td>2</td>\n",
              "      <td>2</td>\n",
              "      <td>34</td>\n",
              "      <td>0</td>\n",
              "      <td>0</td>\n",
              "      <td>0</td>\n",
              "      <td>0</td>\n",
              "      <td>0</td>\n",
              "      <td>0</td>\n",
              "      <td>29239.0</td>\n",
              "      <td>14027.0</td>\n",
              "      <td>13559.0</td>\n",
              "      <td>14331.0</td>\n",
              "      <td>14948.0</td>\n",
              "      <td>15549.0</td>\n",
              "      <td>1518.0</td>\n",
              "      <td>1500.0</td>\n",
              "      <td>1000.0</td>\n",
              "      <td>1000.0</td>\n",
              "      <td>1000.0</td>\n",
              "      <td>5000.0</td>\n",
              "      <td>0</td>\n",
              "    </tr>\n",
              "    <tr>\n",
              "      <th>3</th>\n",
              "      <td>50000.0</td>\n",
              "      <td>2</td>\n",
              "      <td>2</td>\n",
              "      <td>1</td>\n",
              "      <td>37</td>\n",
              "      <td>0</td>\n",
              "      <td>0</td>\n",
              "      <td>0</td>\n",
              "      <td>0</td>\n",
              "      <td>0</td>\n",
              "      <td>0</td>\n",
              "      <td>46990.0</td>\n",
              "      <td>48233.0</td>\n",
              "      <td>49291.0</td>\n",
              "      <td>28314.0</td>\n",
              "      <td>28959.0</td>\n",
              "      <td>29547.0</td>\n",
              "      <td>2000.0</td>\n",
              "      <td>2019.0</td>\n",
              "      <td>1200.0</td>\n",
              "      <td>1100.0</td>\n",
              "      <td>1069.0</td>\n",
              "      <td>1000.0</td>\n",
              "      <td>0</td>\n",
              "    </tr>\n",
              "    <tr>\n",
              "      <th>4</th>\n",
              "      <td>50000.0</td>\n",
              "      <td>1</td>\n",
              "      <td>2</td>\n",
              "      <td>1</td>\n",
              "      <td>57</td>\n",
              "      <td>-1</td>\n",
              "      <td>0</td>\n",
              "      <td>-1</td>\n",
              "      <td>0</td>\n",
              "      <td>0</td>\n",
              "      <td>0</td>\n",
              "      <td>8617.0</td>\n",
              "      <td>5670.0</td>\n",
              "      <td>35835.0</td>\n",
              "      <td>20940.0</td>\n",
              "      <td>19146.0</td>\n",
              "      <td>19131.0</td>\n",
              "      <td>2000.0</td>\n",
              "      <td>36681.0</td>\n",
              "      <td>10000.0</td>\n",
              "      <td>9000.0</td>\n",
              "      <td>689.0</td>\n",
              "      <td>679.0</td>\n",
              "      <td>0</td>\n",
              "    </tr>\n",
              "  </tbody>\n",
              "</table>\n",
              "</div>"
            ],
            "text/plain": [
              "   LIMIT_BAL SEX EDUCATION MARRIAGE  ...  PAY_AMT4  PAY_AMT5  PAY_AMT6  default\n",
              "0    20000.0   2         2        1  ...       0.0       0.0       0.0        1\n",
              "1   120000.0   2         2        2  ...    1000.0       0.0    2000.0        1\n",
              "2    90000.0   2         2        2  ...    1000.0    1000.0    5000.0        0\n",
              "3    50000.0   2         2        1  ...    1100.0    1069.0    1000.0        0\n",
              "4    50000.0   1         2        1  ...    9000.0     689.0     679.0        0\n",
              "\n",
              "[5 rows x 24 columns]"
            ]
          },
          "metadata": {
            "tags": []
          },
          "execution_count": 36
        }
      ]
    },
    {
      "cell_type": "markdown",
      "metadata": {
        "id": "okBB5gxVTvN1",
        "colab_type": "text"
      },
      "source": [
        "# Entrenamiento"
      ]
    },
    {
      "cell_type": "markdown",
      "metadata": {
        "id": "5h17R9Z9UGgQ",
        "colab_type": "text"
      },
      "source": [
        "Separamos el conjunto de datos en Entrenamiento (60%) Validación (20%) y Test(20%)"
      ]
    },
    {
      "cell_type": "code",
      "metadata": {
        "id": "-CsDKSbYTzSC",
        "colab_type": "code",
        "colab": {
          "base_uri": "https://localhost:8080/",
          "height": 68
        },
        "outputId": "ba9e9f23-cf26-414b-8030-3bdb11de0d47"
      },
      "source": [
        "from sklearn.model_selection import train_test_split\n",
        "\n",
        "indices = data.index.values\n",
        "\n",
        "### INICIO DE TU CÓDIGO\n",
        "indices_trainval, indices_test = train_test_split(indices, test_size=0.2, random_state=0)\n",
        "indices_train, indices_val = train_test_split(indices_trainval, test_size=0.25, random_state=0)\n",
        "### FIN DE TU CÓDIGO\n",
        "\n",
        "# El conjunto de entrenamiento es: data.loc[indices_train]\n",
        "# El conjunto de validación es: data.loc[indices_val]\n",
        "# El conjunto de prueba es: data.loc[indices_test]\n",
        "\n",
        "print(indices_train.shape) #60%\n",
        "print(indices_val.shape) #20%\n",
        "print(indices_test.shape) #20%"
      ],
      "execution_count": 37,
      "outputs": [
        {
          "output_type": "stream",
          "text": [
            "(18000,)\n",
            "(6000,)\n",
            "(6000,)\n"
          ],
          "name": "stdout"
        }
      ]
    },
    {
      "cell_type": "code",
      "metadata": {
        "id": "tAC4Etu97a-k",
        "colab_type": "code",
        "colab": {
          "base_uri": "https://localhost:8080/",
          "height": 34
        },
        "outputId": "3777888e-d8a6-4388-ea76-353283faec6e"
      },
      "source": [
        ""
      ],
      "execution_count": 46,
      "outputs": [
        {
          "output_type": "execute_result",
          "data": {
            "text/plain": [
              "array([ 8226, 10795,  9164, ...,  3759, 17843,  9120])"
            ]
          },
          "metadata": {
            "tags": []
          },
          "execution_count": 46
        }
      ]
    },
    {
      "cell_type": "code",
      "metadata": {
        "id": "F7tM24QUc08T",
        "colab_type": "code",
        "colab": {}
      },
      "source": [
        "#PCA\n",
        "from sklearn.preprocessing import StandardScaler\n",
        "from sklearn.decomposition import PCA\n",
        "\n",
        "feature_columns = data.columns.drop('default')\n",
        "\n",
        "X = data[feature_columns].values.astype(float)\n",
        "Y = data['default'].values.astype(int)\n",
        "\n",
        "scaler = StandardScaler().fit(X[indices_train])\n",
        "X_scaled = scaler.transform(X)\n",
        "\n",
        "X_train = X_scaled[indices_train]\n",
        "X_val = X_scaled[indices_val]\n",
        "X_trainval = X_scaled[indices_trainval]\n",
        "X_test = X_scaled[indices_test]\n",
        "\n",
        "Y_train = Y[indices_train]\n",
        "Y_val = Y[indices_val]\n",
        "Y_trainval = Y[indices_trainval]\n",
        "Y_test = Y[indices_test]\n",
        "\n",
        "### INICIO DE TU CÓDIGO\n",
        "pca = PCA().fit(X_train)\n",
        "pca_loadings = pca.components_\n",
        "pca_scores_train = pca.transform(X_train)\n",
        "### FIN DE TU CÓDIGO\n",
        "\n",
        "assert np.isclose(X_train, pca_scores_train @ pca_loadings).all(), 'Error al calcular pca_scores_train o pca_loadings'"
      ],
      "execution_count": 0,
      "outputs": []
    },
    {
      "cell_type": "code",
      "metadata": {
        "id": "OG0xmuedxWJQ",
        "colab_type": "code",
        "colab": {
          "base_uri": "https://localhost:8080/",
          "height": 221
        },
        "outputId": "97dd5a5f-1839-48d2-cedd-9d8be8767b23"
      },
      "source": [
        ""
      ],
      "execution_count": 59,
      "outputs": [
        {
          "output_type": "execute_result",
          "data": {
            "text/plain": [
              "array([[1.00000, 20000.00000, 2.00000, ..., 0.00000, 0.00000, 0.00000],\n",
              "       [2.00000, 120000.00000, 2.00000, ..., 1000.00000, 0.00000,\n",
              "        2000.00000],\n",
              "       [3.00000, 90000.00000, 2.00000, ..., 1000.00000, 1000.00000,\n",
              "        5000.00000],\n",
              "       ...,\n",
              "       [10974.00000, 80000.00000, 2.00000, ..., 1787.00000, 1700.00000,\n",
              "        1500.00000],\n",
              "       [10975.00000, 30000.00000, 1.00000, ..., 1100.00000, 0.00000,\n",
              "        2100.00000],\n",
              "       [10976.00000, 200000.00000, 2.00000, ..., 1098.00000, 1500.00000,\n",
              "        1000.00000]])"
            ]
          },
          "metadata": {
            "tags": []
          },
          "execution_count": 59
        }
      ]
    },
    {
      "cell_type": "code",
      "metadata": {
        "id": "JorAtnlNdEF0",
        "colab_type": "code",
        "colab": {
          "base_uri": "https://localhost:8080/",
          "height": 827
        },
        "outputId": "7bc13c20-8e20-4f64-c435-e87987c74dce"
      },
      "source": [
        "def plot_pca_var(pca_cum_var, label):\n",
        "    num_components = pca_cum_var.shape[0]\n",
        "    indices = range(1, num_components + 1)\n",
        "    plt.figure(figsize=(15,5))\n",
        "    plt.plot(indices, pca_cum_var, '-s')\n",
        "    plt.ylabel(label)\n",
        "    plt.xlabel('Componente Principal')\n",
        "    plt.xlim(0.75,4.25)\n",
        "    plt.ylim(0,1.05)\n",
        "    plt.xticks(indices)\n",
        "    plt.show()\n",
        "    \n",
        "### INICIO DE TU CÓDIGO\n",
        "pca_cum_var = np.cumsum(pca.explained_variance_ratio_)\n",
        "### FIN DE TU CÓDIGO\n",
        "\n",
        "np.set_printoptions(formatter={'float': lambda x: \"{0:0.5f}\".format(x)})\n",
        "print('Proporción de varianza explicada por los componentes principales:')\n",
        "print(pca.explained_variance_ratio_)\n",
        "plot_pca_var(pca.explained_variance_ratio_, 'Proporción de Varianza Explicada')\n",
        "\n",
        "print()\n",
        "print('Proporción acumulada de varianza explicada por los componentes principales:')\n",
        "print(pca_cum_var)\n",
        "print()\n",
        "plot_pca_var(pca_cum_var, 'Proporción Acumulada de Varianza Explicada')"
      ],
      "execution_count": 39,
      "outputs": [
        {
          "output_type": "stream",
          "text": [
            "Proporción de varianza explicada por los componentes principales:\n",
            "[0.28430 0.17786 0.07174 0.06515 0.04431 0.04258 0.03977 0.03786 0.03722\n",
            " 0.03195 0.02979 0.02926 0.02491 0.02254 0.01735 0.01158 0.01085 0.00831\n",
            " 0.00580 0.00304 0.00184 0.00108 0.00095]\n"
          ],
          "name": "stdout"
        },
        {
          "output_type": "display_data",
          "data": {
            "image/png": "[encoded data removed]",
            "text/plain": [
              "<Figure size 1080x360 with 1 Axes>"
            ]
          },
          "metadata": {
            "tags": []
          }
        },
        {
          "output_type": "stream",
          "text": [
            "\n",
            "Proporción acumulada de varianza explicada por los componentes principales:\n",
            "[0.28430 0.46216 0.53389 0.59904 0.64335 0.68593 0.72570 0.76356 0.80078\n",
            " 0.83273 0.86252 0.89177 0.91668 0.93922 0.95657 0.96814 0.97899 0.98730\n",
            " 0.99309 0.99614 0.99797 0.99905 1.00000]\n",
            "\n"
          ],
          "name": "stdout"
        },
        {
          "output_type": "display_data",
          "data": {
            "image/png": "[encoded data removed]",
            "text/plain": [
              "<Figure size 1080x360 with 1 Axes>"
            ]
          },
          "metadata": {
            "tags": []
          }
        }
      ]
    },
    {
      "cell_type": "markdown",
      "metadata": {
        "id": "liWBo5AAwmbQ",
        "colab_type": "text"
      },
      "source": [
        "# Regresión Logística"
      ]
    },
    {
      "cell_type": "markdown",
      "metadata": {
        "id": "BKpruJy6wkYM",
        "colab_type": "text"
      },
      "source": [
        ""
      ]
    },
    {
      "cell_type": "code",
      "metadata": {
        "id": "3auTWcBGwvuQ",
        "colab_type": "code",
        "colab": {
          "base_uri": "https://localhost:8080/",
          "height": 136
        },
        "outputId": "78b6dd8c-535d-4bb9-e23b-928fd836125b"
      },
      "source": [
        "from sklearn.linear_model import LogisticRegression\n",
        "\n",
        "Cs = np.logspace(-4,-1,19)\n",
        "print('Se probará regresión logística con los siguientes valores de C: ')\n",
        "print(Cs)\n",
        "print()\n",
        "\n",
        "### INICIO DE TU CÓDIGO\n",
        "mejor_modelo = None\n",
        "mejor_score = 0\n",
        "for C in Cs:\n",
        "  modelo = LogisticRegression(C=C, solver='liblinear').fit(X_train, Y_train)\n",
        "\n",
        "  score_val = modelo.score(X_val, Y_val)\n",
        "\n",
        "  if score_val > mejor_score:\n",
        "      mejor_score = score_val\n",
        "      mejor_modelo = modelo\n",
        "      \n",
        "modelo_lr = mejor_modelo\n",
        "### FIN DE TU CÓDIGO\n",
        "\n",
        "print('Mejor valor de C encontrado:')\n",
        "print(modelo_lr.get_params()['C'])"
      ],
      "execution_count": 40,
      "outputs": [
        {
          "output_type": "stream",
          "text": [
            "Se probará regresión logística con los siguientes valores de C: \n",
            "[0.00010 0.00015 0.00022 0.00032 0.00046 0.00068 0.00100 0.00147 0.00215\n",
            " 0.00316 0.00464 0.00681 0.01000 0.01468 0.02154 0.03162 0.04642 0.06813\n",
            " 0.10000]\n",
            "\n",
            "Mejor valor de C encontrado:\n",
            "0.0001467799267622069\n"
          ],
          "name": "stdout"
        }
      ]
    },
    {
      "cell_type": "code",
      "metadata": {
        "id": "mYcVDxI1w3uo",
        "colab_type": "code",
        "colab": {
          "base_uri": "https://localhost:8080/",
          "height": 51
        },
        "outputId": "d2d81126-0e69-4d2e-e3eb-497c15bee7c7"
      },
      "source": [
        "### INICIO DE TU CÓDIGO\n",
        "probabilidades_val = modelo_lr.predict_proba(X_val)[:,1]\n",
        "### FIN DE TU CÓDIGO\n",
        "\n",
        "print('Probabilidad asignada a cada instancia del conjunto de validación:')\n",
        "print(probabilidades_val)\n",
        "\n",
        "assert probabilidades_val.shape == Y_val.shape, 'Dimensiones incorrectas. Sólo se requiere las probabilidades para la clase positiva'\n",
        "assert (0 <= probabilidades_val).all() & (probabilidades_val <= 1).all(), 'Valores de probabilidad inválidos'"
      ],
      "execution_count": 41,
      "outputs": [
        {
          "output_type": "stream",
          "text": [
            "Probabilidad asignada a cada instancia del conjunto de validación:\n",
            "[0.31973 0.32595 0.37763 ... 0.40546 0.49473 0.35744]\n"
          ],
          "name": "stdout"
        }
      ]
    },
    {
      "cell_type": "code",
      "metadata": {
        "id": "aX_vnAm986XU",
        "colab_type": "code",
        "colab": {}
      },
      "source": [
        "from sklearn import metrics\n",
        "\n",
        "def print_binary_confusion_matrix(y_true, y_pred):\n",
        "  confusion_matrix = metrics.confusion_matrix(y_true, y_pred)\n",
        "  TN = confusion_matrix[0,0]\n",
        "  FN = confusion_matrix[1,0]\n",
        "  FP = confusion_matrix[0,1]\n",
        "  TP = confusion_matrix[1,1]\n",
        "  \n",
        "  ### INICIO DE TU CÓDIGO\n",
        "  exactitud = (TP+TN)/(TP+FP+TN+FN)\n",
        "  precision = TP/(TP+FP)\n",
        "  exhaustividad = TP/(TP+FN)\n",
        "  ### FIN DE TU CÓDIGO\n",
        "\n",
        "  print ('              +-----------------+')\n",
        "  print ('              |   Predicción    |')\n",
        "  print ('              +-----------------+')\n",
        "  print ('              |    +   |    -   |')\n",
        "  print ('+-------+-----+--------+--------+')\n",
        "  print ('| Valor |  +  |  {:5d} |  {:5d} |'.format(TP, FN) )\n",
        "  print ('| real  +-----+--------+--------+')\n",
        "  print ('|       |  -  |  {:5d} |  {:5d} |'.format(FP, TN) )\n",
        "  print ('+-------+-----+--------+--------+')\n",
        "  print('Exactitud     : {:.3f}'.format(exactitud))\n",
        "  print('Precisión     : {:.3f}'.format(precision))\n",
        "  print('Exhaustividad : {:.3f}'.format(exhaustividad))\n",
        "  print()\n"
      ],
      "execution_count": 0,
      "outputs": []
    },
    {
      "cell_type": "code",
      "metadata": {
        "id": "bZnnEmuY9MHS",
        "colab_type": "code",
        "colab": {
          "base_uri": "https://localhost:8080/",
          "height": 493
        },
        "outputId": "49c53b88-1f9e-4f10-868f-2f4af4fc88ce"
      },
      "source": [
        "# Volvemos a ajustar con el conjunto de entrenamiento + validación\n",
        "modelo_lr.fit(X_trainval, Y_trainval)\n",
        "\n",
        "print('Conjunto de entrenamiento + validación:')\n",
        "print_binary_confusion_matrix(Y_trainval, modelo_lr.predict(X_trainval))\n",
        "\n",
        "print('Conjunto de prueba :')\n",
        "print_binary_confusion_matrix(Y_test, modelo_lr.predict(X_test))"
      ],
      "execution_count": 43,
      "outputs": [
        {
          "output_type": "stream",
          "text": [
            "Conjunto de entrenamiento + validación:\n",
            "              +-----------------+\n",
            "              |   Predicción    |\n",
            "              +-----------------+\n",
            "              |    +   |    -   |\n",
            "+-------+-----+--------+--------+\n",
            "| Valor |  +  |   1662 |   3677 |\n",
            "| real  +-----+--------+--------+\n",
            "|       |  -  |    924 |  17737 |\n",
            "+-------+-----+--------+--------+\n",
            "Exactitud     : 0.808\n",
            "Precisión     : 0.643\n",
            "Exhaustividad : 0.311\n",
            "\n",
            "Conjunto de prueba :\n",
            "              +-----------------+\n",
            "              |   Predicción    |\n",
            "              +-----------------+\n",
            "              |    +   |    -   |\n",
            "+-------+-----+--------+--------+\n",
            "| Valor |  +  |    397 |    900 |\n",
            "| real  +-----+--------+--------+\n",
            "|       |  -  |    207 |   4496 |\n",
            "+-------+-----+--------+--------+\n",
            "Exactitud     : 0.816\n",
            "Precisión     : 0.657\n",
            "Exhaustividad : 0.306\n",
            "\n"
          ],
          "name": "stdout"
        }
      ]
    },
    {
      "cell_type": "code",
      "metadata": {
        "id": "EWEBjemjCpn-",
        "colab_type": "code",
        "colab": {
          "base_uri": "https://localhost:8080/",
          "height": 34
        },
        "outputId": "938659e6-2381-4dc6-c756-289af9f8d0af"
      },
      "source": [
        "modelo_lr.score(X_test, Y_test)"
      ],
      "execution_count": 45,
      "outputs": [
        {
          "output_type": "execute_result",
          "data": {
            "text/plain": [
              "0.8155"
            ]
          },
          "metadata": {
            "tags": []
          },
          "execution_count": 45
        }
      ]
    }
  ]
}